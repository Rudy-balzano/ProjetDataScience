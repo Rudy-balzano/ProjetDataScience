{
 "cells": [
  {
   "cell_type": "code",
   "execution_count": 9,
   "metadata": {},
   "outputs": [],
   "source": [
    "import pandas as pd\n",
    "import numpy as np\n",
    "import datetime\n",
    "from datetime import time"
   ]
  },
  {
   "cell_type": "code",
   "execution_count": 10,
   "metadata": {},
   "outputs": [],
   "source": [
    "dataset = pd.read_csv('/Users/pierreperrin/Desktop/IG4/semestre7/Projet_DataScience/dataset_cleaned.csv',dtype={\"content\": str},low_memory=False)"
   ]
  },
  {
   "cell_type": "code",
   "execution_count": 11,
   "metadata": {},
   "outputs": [
    {
     "data": {
      "text/plain": [
       "Index(['Message-ID', 'Date', 'From', 'To', 'Subject', 'X-cc', 'X-bcc',\n",
       "       'X-Folder', 'X-Origin', 'content', 'user', 'labeled', 'content_size',\n",
       "       'subject_size', 'forwarded_mail', 'mail_direct_forwarded',\n",
       "       'mail_transmit_avec_commentaire', 'nb_cc', 'Hour', 'Day', 'Month',\n",
       "       'Year', 'Moment', 'Meetings', 'Urgent', 'size_mail_quali',\n",
       "       'size_subject_quali'],\n",
       "      dtype='object')"
      ]
     },
     "execution_count": 11,
     "metadata": {},
     "output_type": "execute_result"
    }
   ],
   "source": [
    "dataset.columns"
   ]
  },
  {
   "cell_type": "code",
   "execution_count": 12,
   "metadata": {},
   "outputs": [],
   "source": [
    "dataset_afc1_1 = dataset[['size_mail_quali','Moment']]\n",
    "dataset_afc1_1.to_csv('/Users/pierreperrin/Desktop/IG4/semestre7/Projet_DataScience/dataset_afc1.csv', index=False)"
   ]
  },
  {
   "cell_type": "code",
   "execution_count": 13,
   "metadata": {},
   "outputs": [],
   "source": [
    "dataset_mail_non_transmit = dataset[dataset['forwarded_mail']==0]"
   ]
  },
  {
   "cell_type": "code",
   "execution_count": 14,
   "metadata": {},
   "outputs": [],
   "source": [
    "dataset_afc1_1_non_transmit = dataset_mail_non_transmit[['size_mail_quali','Moment']]\n",
    "dataset_afc1_1_non_transmit.to_csv('/Users/pierreperrin/Desktop/IG4/semestre7/Projet_DataScience/dataset_afc1_non_transmit.csv', index=False)"
   ]
  },
  {
   "cell_type": "code",
   "execution_count": 15,
   "metadata": {},
   "outputs": [
    {
     "data": {
      "text/plain": [
       "(85609, 27)"
      ]
     },
     "execution_count": 15,
     "metadata": {},
     "output_type": "execute_result"
    }
   ],
   "source": [
    "dataset_mail_non_transmit.shape"
   ]
  },
  {
   "cell_type": "code",
   "execution_count": 16,
   "metadata": {},
   "outputs": [],
   "source": [
    "dataset_afc1_2 = dataset[['size_subject_quali','Moment']]\n",
    "dataset_afc1_2.to_csv('/Users/pierreperrin/Desktop/IG4/semestre7/Projet_DataScience/dataset_afc1_2.csv', index=False)"
   ]
  },
  {
   "cell_type": "code",
   "execution_count": null,
   "metadata": {},
   "outputs": [],
   "source": []
  },
  {
   "cell_type": "code",
   "execution_count": null,
   "metadata": {},
   "outputs": [],
   "source": [
    "\n"
   ]
  },
  {
   "cell_type": "code",
   "execution_count": null,
   "metadata": {},
   "outputs": [],
   "source": []
  },
  {
   "cell_type": "code",
   "execution_count": 17,
   "metadata": {},
   "outputs": [
    {
     "name": "stderr",
     "output_type": "stream",
     "text": [
      "<ipython-input-17-ce1bb25f1c87>:9: SettingWithCopyWarning: \n",
      "A value is trying to be set on a copy of a slice from a DataFrame\n",
      "\n",
      "See the caveats in the documentation: https://pandas.pydata.org/pandas-docs/stable/user_guide/indexing.html#returning-a-view-versus-a-copy\n",
      "  dataset[\"Meetings\"][i] = 0\n",
      "<ipython-input-17-ce1bb25f1c87>:7: SettingWithCopyWarning: \n",
      "A value is trying to be set on a copy of a slice from a DataFrame\n",
      "\n",
      "See the caveats in the documentation: https://pandas.pydata.org/pandas-docs/stable/user_guide/indexing.html#returning-a-view-versus-a-copy\n",
      "  dataset[\"Meetings\"][i] = 1\n"
     ]
    }
   ],
   "source": [
    "def meeting (dataset):\n",
    "    dataset[\"content\"] = dataset[\"content\"].astype(str)\n",
    "    dataset[\"Subject\"] = dataset[\"Subject\"].astype(str)\n",
    "    dataset[\"Meetings\"] = None\n",
    "    for i in range(len(dataset.content)):\n",
    "        if ((dataset.content[i].lower().find(\"meeting\") != -1) or (dataset.Subject[i].lower().find(\"meeting\") != -1) or (dataset.content[i].lower().find(\"meetings\") != -1) or (dataset.Subject[i].lower().find(\"meetings\") != -1) or (dataset.Subject[i].lower().find(\"meeting\") != -1) or (dataset.content[i].lower().find(\"appointment\") != -1) or (dataset.Subject[i].lower().find(\"appointment\") != -1) or (dataset.content[i].lower().find(\"presenter\") != -1) or (dataset.Subject[i].lower().find(\"presenter\") != -1)):\n",
    "            dataset[\"Meetings\"][i] = 1\n",
    "        else :\n",
    "            dataset[\"Meetings\"][i] = 0\n",
    "meeting(dataset)"
   ]
  },
  {
   "cell_type": "code",
   "execution_count": null,
   "metadata": {},
   "outputs": [],
   "source": []
  },
  {
   "cell_type": "code",
   "execution_count": 18,
   "metadata": {},
   "outputs": [
    {
     "name": "stderr",
     "output_type": "stream",
     "text": [
      "<ipython-input-18-d33f678cb2b7>:9: SettingWithCopyWarning: \n",
      "A value is trying to be set on a copy of a slice from a DataFrame\n",
      "\n",
      "See the caveats in the documentation: https://pandas.pydata.org/pandas-docs/stable/user_guide/indexing.html#returning-a-view-versus-a-copy\n",
      "  dataset[\"Business_trip\"][i] = 0\n",
      "<ipython-input-18-d33f678cb2b7>:7: SettingWithCopyWarning: \n",
      "A value is trying to be set on a copy of a slice from a DataFrame\n",
      "\n",
      "See the caveats in the documentation: https://pandas.pydata.org/pandas-docs/stable/user_guide/indexing.html#returning-a-view-versus-a-copy\n",
      "  dataset[\"Business_trip\"][i] = 1\n"
     ]
    }
   ],
   "source": [
    "def Business_trip (dataset):\n",
    "    dataset[\"content\"] = dataset[\"content\"].astype(str)\n",
    "    dataset[\"Subject\"] = dataset[\"Subject\"].astype(str)\n",
    "    dataset[\"Business_trip\"] = None\n",
    "    for i in range(len(dataset.content)):\n",
    "        if ((dataset.content[i].lower().find(\"fly\") != -1) or (dataset.Subject[i].lower().find(\"fly\") != -1) or (dataset.content[i].lower().find(\"flying\") != -1) or (dataset.Subject[i].lower().find(\"flying\") != -1) or (dataset.content[i].lower().find(\"traveling\") != -1) or (dataset.Subject[i].lower().find(\"traveling\") != -1) or (dataset.content[i].lower().find(\"travel\") != -1) or (dataset.Subject[i].lower().find(\"travel\") != -1))or (dataset.content[i].lower().find(\"trip\") != -1) or (dataset.Subject[i].lower().find(\"trip\") != -1):\n",
    "            dataset[\"Business_trip\"][i] = 1\n",
    "        else :\n",
    "            dataset[\"Business_trip\"][i] = 0\n",
    "Business_trip(dataset)"
   ]
  },
  {
   "cell_type": "code",
   "execution_count": 19,
   "metadata": {},
   "outputs": [
    {
     "name": "stderr",
     "output_type": "stream",
     "text": [
      "<ipython-input-19-73672e76a5d2>:9: SettingWithCopyWarning: \n",
      "A value is trying to be set on a copy of a slice from a DataFrame\n",
      "\n",
      "See the caveats in the documentation: https://pandas.pydata.org/pandas-docs/stable/user_guide/indexing.html#returning-a-view-versus-a-copy\n",
      "  dataset[\"hobby\"][i] = 0\n",
      "<ipython-input-19-73672e76a5d2>:7: SettingWithCopyWarning: \n",
      "A value is trying to be set on a copy of a slice from a DataFrame\n",
      "\n",
      "See the caveats in the documentation: https://pandas.pydata.org/pandas-docs/stable/user_guide/indexing.html#returning-a-view-versus-a-copy\n",
      "  dataset[\"hobby\"][i] = 1\n"
     ]
    }
   ],
   "source": [
    "def hobby(dataset):\n",
    "    dataset[\"content\"] = dataset[\"content\"].astype(str)\n",
    "    dataset[\"Subject\"] = dataset[\"Subject\"].astype(str)\n",
    "    dataset[\"hobby\"] = None\n",
    "    for i in range(len(dataset.content)):\n",
    "        if ((dataset.content[i].lower().find(\"boat\") != -1) or (dataset.Subject[i].lower().find(\"boat\") != -1) or (dataset.content[i].lower().find(\"ski\") != -1) or (dataset.Subject[i].lower().find(\"ski\") != -1) or (dataset.content[i].lower().find(\"golf\") != -1) or (dataset.Subject[i].lower().find(\"golf\") != -1) or (dataset.content[i].lower().find(\"sports\") != -1) or (dataset.Subject[i].lower().find(\"sports\") != -1))or (dataset.content[i].lower().find(\"party\") != -1) or (dataset.Subject[i].lower().find(\"party\") != -1):\n",
    "            dataset[\"hobby\"][i] = 1\n",
    "        else :\n",
    "            dataset[\"hobby\"][i] = 0\n",
    "hobby(dataset)"
   ]
  },
  {
   "cell_type": "code",
   "execution_count": 20,
   "metadata": {},
   "outputs": [],
   "source": [
    "dataset.to_csv('/Users/pierreperrin/Desktop/IG4/semestre7/Projet_DataScience/dataset_cleaned.csv', index=False)"
   ]
  },
  {
   "cell_type": "code",
   "execution_count": null,
   "metadata": {},
   "outputs": [],
   "source": []
  },
  {
   "cell_type": "code",
   "execution_count": 21,
   "metadata": {},
   "outputs": [],
   "source": [
    "dataset_sans_mail_transmit = dataset[dataset['forwarded_mail']==0]\n"
   ]
  },
  {
   "cell_type": "code",
   "execution_count": 22,
   "metadata": {},
   "outputs": [
    {
     "data": {
      "text/plain": [
       "(85609, 29)"
      ]
     },
     "execution_count": 22,
     "metadata": {},
     "output_type": "execute_result"
    }
   ],
   "source": [
    "dataset_sans_mail_transmit.shape\n"
   ]
  },
  {
   "cell_type": "code",
   "execution_count": 23,
   "metadata": {},
   "outputs": [],
   "source": [
    "dataset_anova_2 = dataset[['content_size','Meetings']]\n",
    "dataset_anova_2.to_csv('/Users/pierreperrin/Desktop/IG4/semestre7/Projet_DataScience/dataset_anova_2.csv', index=False)"
   ]
  },
  {
   "cell_type": "code",
   "execution_count": 24,
   "metadata": {},
   "outputs": [],
   "source": [
    "dataset_afc_2 = dataset[['size_mail_quali','Meetings']]\n",
    "dataset_afc_2.to_csv('/Users/pierreperrin/Desktop/IG4/semestre7/Projet_DataScience/dataset_afc_2.csv', index=False)"
   ]
  },
  {
   "cell_type": "code",
   "execution_count": 25,
   "metadata": {},
   "outputs": [],
   "source": [
    "def features_engineering(df):\n",
    "    moment_mapping = {'morning':1, 'afternoon':2, 'evening':3, 'night':4}\n",
    "    meeting_mapping = {'True':1, 'False':0}\n",
    "    urgent_mapping = {True:1,False:0}\n",
    "    size_content_mapping = {'petit':1,'moyen':2,'grand':3,'tres grand':4}\n",
    "    size_subject_mapping = {'petit':1,'moyen':2,'grand':3}\n",
    "    \n",
    "    df = df.replace({'Moment': moment_mapping, 'Meetings': meeting_mapping, 'Urgent': urgent_mapping, 'size_mail_quali': size_content_mapping, 'size_subject_quali': size_subject_mapping})\n",
    "    \n",
    "    return df\n"
   ]
  },
  {
   "cell_type": "code",
   "execution_count": 28,
   "metadata": {},
   "outputs": [],
   "source": [
    "dataset_cleaned = features_engineering(dataset)"
   ]
  },
  {
   "cell_type": "code",
   "execution_count": 29,
   "metadata": {},
   "outputs": [],
   "source": [
    "dataset_cleaned.to_csv('/Users/pierreperrin/Desktop/IG4/semestre7/Projet_DataScience/dataset_cleaned.csv', index=False)"
   ]
  },
  {
   "cell_type": "code",
   "execution_count": 30,
   "metadata": {},
   "outputs": [],
   "source": [
    "content = dataset['content']"
   ]
  },
  {
   "cell_type": "code",
   "execution_count": 31,
   "metadata": {},
   "outputs": [
    {
     "data": {
      "text/plain": [
       "0                                 Here is our forecast\n",
       "1    Traveling to have a business meeting takes the...\n",
       "2                        test successful. way to go!!!\n",
       "3    Randy, Can you send me a schedule of the salar...\n",
       "4                    Let's shoot for Tuesday at 11:45.\n",
       "Name: content, dtype: object"
      ]
     },
     "execution_count": 31,
     "metadata": {},
     "output_type": "execute_result"
    }
   ],
   "source": [
    "content.head()\n"
   ]
  },
  {
   "cell_type": "code",
   "execution_count": 32,
   "metadata": {},
   "outputs": [],
   "source": [
    "import re\n",
    "\n",
    "def clean_text(text):\n",
    "    \"\"\"\n",
    "    Applies some pre-processing on the given text.\n",
    "\n",
    "    Steps :\n",
    "    - Removing HTML tags\n",
    "    - Removing punctuation\n",
    "    - Lowering text\n",
    "    \"\"\"\n",
    "    \n",
    "    # remove HTML tags\n",
    "    text = re.sub(r'<.*?>', '', text)\n",
    "    \n",
    "    # remove the characters [\\], ['] and [\"]\n",
    "    text = re.sub(r\"\\\\\", \"\", text)    \n",
    "    text = re.sub(r\"\\'\", \"\", text)    \n",
    "    text = re.sub(r\"\\\"\", \"\", text)    \n",
    "    \n",
    "    # convert text to lowercase\n",
    "    text = text.strip().lower()\n",
    "    \n",
    "    # replace punctuation characters with spaces\n",
    "    filters='!\"\\'#$%&()*+,-./:;<=>?@[\\\\]^_`{|}~\\t\\n'\n",
    "    translate_dict = dict((c, \" \") for c in filters)\n",
    "    translate_map = str.maketrans(translate_dict)\n",
    "    text = text.translate(translate_map)\n",
    "\n",
    "    return text"
   ]
  },
  {
   "cell_type": "code",
   "execution_count": null,
   "metadata": {},
   "outputs": [],
   "source": [
    "mail_cleaned = content\n",
    "\n",
    "for i in range(len(content)):\n",
    "    mail_cleaned[i] = clean_text(content[i])"
   ]
  },
  {
   "cell_type": "code",
   "execution_count": null,
   "metadata": {},
   "outputs": [],
   "source": [
    "mail_cleaned[1]"
   ]
  },
  {
   "cell_type": "code",
   "execution_count": null,
   "metadata": {},
   "outputs": [],
   "source": [
    "from sklearn.feature_extraction.text import TfidfVectorizer\n",
    "from nltk.corpus import stopwords\n",
    "\n",
    "tfidfconverter = TfidfVectorizer(max_features=1500, min_df=100, max_df=0.7, stop_words=stopwords.words('english'))\n",
    "X = tfidfconverter.fit_transform(mail_cleaned)\n"
   ]
  },
  {
   "cell_type": "code",
   "execution_count": null,
   "metadata": {},
   "outputs": [],
   "source": [
    "from sklearn.decomposition import PCA\n",
    "import matplotlib.pyplot as plt\n",
    "#from mpl_toolkits.mplot3d import Axes3D\n",
    "\n",
    "X_dense = X.todense()\n",
    "coords = PCA(n_components=2).fit_transform(X_dense)\n",
    "\n",
    "\n",
    "#fig = plt.figure()\n",
    "#ax = Axes3D(fig)\n",
    "\n",
    "\n",
    "plt.scatter(coords[:, 0], coords[:, 1], c='m')\n",
    "plt.show()"
   ]
  },
  {
   "cell_type": "code",
   "execution_count": null,
   "metadata": {},
   "outputs": [],
   "source": [
    "# function pour determiner le top 25 des mots les plus fréquent dans un texte particulier\n",
    "\n",
    "def top_tfidf_feats(row, features, top_n=20):\n",
    "    topn_ids = np.argsort(row)[::-1][:top_n]\n",
    "    top_feats = [(features[i], row[i]) for i in topn_ids]\n",
    "    df = pd.DataFrame(top_feats, columns=['features', 'score'])\n",
    "    return df\n",
    "\n",
    "\n",
    "def top_feats_in_doc(X, features, row_id, top_n=25):\n",
    "    row = np.squeeze(X[row_id].toarray())\n",
    "    return top_tfidf_feats(row, features, top_n)\n"
   ]
  },
  {
   "cell_type": "code",
   "execution_count": null,
   "metadata": {},
   "outputs": [],
   "source": [
    "def top_mean_feats(X, features, grp_ids=None, min_tfidf=0.1, top_n=25):\n",
    "    if grp_ids:\n",
    "        D = X[grp_ids].toarray()\n",
    "    else:\n",
    "        D = X.toarray()\n",
    "        \n",
    "    D[D < min_tfidf] = 0\n",
    "    \n",
    "    tfidf_means = np.mean(D, axis=0)\n",
    "    \n",
    "    return top_tfidf_feats(tfidf_means, features, top_n)\n",
    "\n"
   ]
  },
  {
   "cell_type": "code",
   "execution_count": null,
   "metadata": {},
   "outputs": [],
   "source": [
    "features = tfidfconverter.get_feature_names()\n",
    "print(top_mean_feats(X, features, top_n=50))"
   ]
  },
  {
   "cell_type": "code",
   "execution_count": null,
   "metadata": {},
   "outputs": [],
   "source": [
    "from sklearn.cluster import KMeans\n",
    "\n",
    "n_clusters = 3\n",
    "clf = KMeans(n_clusters=n_clusters, max_iter=100, init='k-means++', n_init=1)\n",
    "labels = clf.fit_predict(X)\n",
    "\n",
    "plt.scatter(coords[:, 0], coords[:, 1], c=labels)\n",
    "plt.show()\n"
   ]
  },
  {
   "cell_type": "code",
   "execution_count": null,
   "metadata": {},
   "outputs": [],
   "source": [
    "def top_feats_per_cluster(X, y, features, min_tfidf=0.1, top_n=25):\n",
    "    dfs = []\n",
    "    labels = np.unique(y)\n",
    "    for label in labels:\n",
    "        ids = np.where(y==label) \n",
    "        feats_df = top_mean_feats(X, features, ids, min_tfidf=min_tfidf, top_n=top_n)\n",
    "        feats_df.label = label\n",
    "        dfs.append(feats_df)\n",
    "    return dfs\n",
    "\n",
    "df = top_feats_per_cluster(X, y, features, min_tfidf=0.1, top_n=25):"
   ]
  },
  {
   "cell_type": "code",
   "execution_count": null,
   "metadata": {},
   "outputs": [],
   "source": []
  }
 ],
 "metadata": {
  "kernelspec": {
   "display_name": "Python 3",
   "language": "python",
   "name": "python3"
  },
  "language_info": {
   "codemirror_mode": {
    "name": "ipython",
    "version": 3
   },
   "file_extension": ".py",
   "mimetype": "text/x-python",
   "name": "python",
   "nbconvert_exporter": "python",
   "pygments_lexer": "ipython3",
   "version": "3.8.3"
  }
 },
 "nbformat": 4,
 "nbformat_minor": 4
}
