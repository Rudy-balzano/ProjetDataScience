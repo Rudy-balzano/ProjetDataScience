{
 "cells": [
  {
   "cell_type": "markdown",
   "metadata": {},
   "source": [
    "# Projet Data Science"
   ]
  },
  {
   "cell_type": "markdown",
   "metadata": {},
   "source": [
    "## Initialisation du projet"
   ]
  },
  {
   "cell_type": "code",
   "execution_count": 1,
   "metadata": {},
   "outputs": [],
   "source": [
    "import pandas as pd\n",
    "import numpy as np\n",
    "import datetime\n",
    "from datetime import time"
   ]
  },
  {
   "cell_type": "code",
   "execution_count": 2,
   "metadata": {},
   "outputs": [],
   "source": [
    "dataset = pd.read_csv('mails.csv',dtype={\"content\": str},low_memory=False)"
   ]
  },
  {
   "cell_type": "code",
   "execution_count": 3,
   "metadata": {},
   "outputs": [
    {
     "data": {
      "text/plain": [
       "(100000, 52)"
      ]
     },
     "execution_count": 3,
     "metadata": {},
     "output_type": "execute_result"
    }
   ],
   "source": [
    "dataset.shape"
   ]
  },
  {
   "cell_type": "markdown",
   "metadata": {},
   "source": [
    "On a 100 000 mails"
   ]
  },
  {
   "cell_type": "markdown",
   "metadata": {},
   "source": [
    "## Nettoyage des données"
   ]
  },
  {
   "cell_type": "markdown",
   "metadata": {},
   "source": [
    "### Suppression des colonnes nulles ou non pertinentes"
   ]
  },
  {
   "cell_type": "code",
   "execution_count": 4,
   "metadata": {},
   "outputs": [
    {
     "data": {
      "text/html": [
       "<div>\n",
       "<style scoped>\n",
       "    .dataframe tbody tr th:only-of-type {\n",
       "        vertical-align: middle;\n",
       "    }\n",
       "\n",
       "    .dataframe tbody tr th {\n",
       "        vertical-align: top;\n",
       "    }\n",
       "\n",
       "    .dataframe thead th {\n",
       "        text-align: right;\n",
       "    }\n",
       "</style>\n",
       "<table border=\"1\" class=\"dataframe\">\n",
       "  <thead>\n",
       "    <tr style=\"text-align: right;\">\n",
       "      <th></th>\n",
       "      <th>Unnamed: 0</th>\n",
       "      <th>Message-ID</th>\n",
       "      <th>Date</th>\n",
       "      <th>From</th>\n",
       "      <th>To</th>\n",
       "      <th>Subject</th>\n",
       "      <th>X-From</th>\n",
       "      <th>X-To</th>\n",
       "      <th>X-cc</th>\n",
       "      <th>X-bcc</th>\n",
       "      <th>...</th>\n",
       "      <th>Cat_10_level_1</th>\n",
       "      <th>Cat_10_level_2</th>\n",
       "      <th>Cat_10_weight</th>\n",
       "      <th>Cat_11_level_1</th>\n",
       "      <th>Cat_11_level_2</th>\n",
       "      <th>Cat_11_weight</th>\n",
       "      <th>Cat_12_level_1</th>\n",
       "      <th>Cat_12_level_2</th>\n",
       "      <th>Cat_12_weight</th>\n",
       "      <th>labeled</th>\n",
       "    </tr>\n",
       "  </thead>\n",
       "  <tbody>\n",
       "    <tr>\n",
       "      <th>0</th>\n",
       "      <td>0</td>\n",
       "      <td>&lt;18782981.1075855378110.JavaMail.evans@thyme&gt;</td>\n",
       "      <td>2001-05-14 23:39:00</td>\n",
       "      <td>frozenset({'phillip.allen@enron.com'})</td>\n",
       "      <td>frozenset({'tim.belden@enron.com'})</td>\n",
       "      <td>NaN</td>\n",
       "      <td>Phillip K Allen</td>\n",
       "      <td>Tim Belden &lt;Tim Belden/Enron@EnronXGate&gt;</td>\n",
       "      <td>NaN</td>\n",
       "      <td>NaN</td>\n",
       "      <td>...</td>\n",
       "      <td>NaN</td>\n",
       "      <td>NaN</td>\n",
       "      <td>NaN</td>\n",
       "      <td>NaN</td>\n",
       "      <td>NaN</td>\n",
       "      <td>NaN</td>\n",
       "      <td>NaN</td>\n",
       "      <td>NaN</td>\n",
       "      <td>NaN</td>\n",
       "      <td>False</td>\n",
       "    </tr>\n",
       "    <tr>\n",
       "      <th>1</th>\n",
       "      <td>1</td>\n",
       "      <td>&lt;15464986.1075855378456.JavaMail.evans@thyme&gt;</td>\n",
       "      <td>2001-05-04 20:51:00</td>\n",
       "      <td>frozenset({'phillip.allen@enron.com'})</td>\n",
       "      <td>frozenset({'john.lavorato@enron.com'})</td>\n",
       "      <td>Re:</td>\n",
       "      <td>Phillip K Allen</td>\n",
       "      <td>John J Lavorato &lt;John J Lavorato/ENRON@enronXg...</td>\n",
       "      <td>NaN</td>\n",
       "      <td>NaN</td>\n",
       "      <td>...</td>\n",
       "      <td>NaN</td>\n",
       "      <td>NaN</td>\n",
       "      <td>NaN</td>\n",
       "      <td>NaN</td>\n",
       "      <td>NaN</td>\n",
       "      <td>NaN</td>\n",
       "      <td>NaN</td>\n",
       "      <td>NaN</td>\n",
       "      <td>NaN</td>\n",
       "      <td>False</td>\n",
       "    </tr>\n",
       "    <tr>\n",
       "      <th>2</th>\n",
       "      <td>2</td>\n",
       "      <td>&lt;24216240.1075855687451.JavaMail.evans@thyme&gt;</td>\n",
       "      <td>2000-10-18 10:00:00</td>\n",
       "      <td>frozenset({'phillip.allen@enron.com'})</td>\n",
       "      <td>frozenset({'leah.arsdall@enron.com'})</td>\n",
       "      <td>Re: test</td>\n",
       "      <td>Phillip K Allen</td>\n",
       "      <td>Leah Van Arsdall</td>\n",
       "      <td>NaN</td>\n",
       "      <td>NaN</td>\n",
       "      <td>...</td>\n",
       "      <td>NaN</td>\n",
       "      <td>NaN</td>\n",
       "      <td>NaN</td>\n",
       "      <td>NaN</td>\n",
       "      <td>NaN</td>\n",
       "      <td>NaN</td>\n",
       "      <td>NaN</td>\n",
       "      <td>NaN</td>\n",
       "      <td>NaN</td>\n",
       "      <td>False</td>\n",
       "    </tr>\n",
       "    <tr>\n",
       "      <th>3</th>\n",
       "      <td>3</td>\n",
       "      <td>&lt;13505866.1075863688222.JavaMail.evans@thyme&gt;</td>\n",
       "      <td>2000-10-23 13:13:00</td>\n",
       "      <td>frozenset({'phillip.allen@enron.com'})</td>\n",
       "      <td>frozenset({'randall.gay@enron.com'})</td>\n",
       "      <td>NaN</td>\n",
       "      <td>Phillip K Allen</td>\n",
       "      <td>Randall L Gay</td>\n",
       "      <td>NaN</td>\n",
       "      <td>NaN</td>\n",
       "      <td>...</td>\n",
       "      <td>NaN</td>\n",
       "      <td>NaN</td>\n",
       "      <td>NaN</td>\n",
       "      <td>NaN</td>\n",
       "      <td>NaN</td>\n",
       "      <td>NaN</td>\n",
       "      <td>NaN</td>\n",
       "      <td>NaN</td>\n",
       "      <td>NaN</td>\n",
       "      <td>False</td>\n",
       "    </tr>\n",
       "    <tr>\n",
       "      <th>4</th>\n",
       "      <td>4</td>\n",
       "      <td>&lt;30922949.1075863688243.JavaMail.evans@thyme&gt;</td>\n",
       "      <td>2000-08-31 12:07:00</td>\n",
       "      <td>frozenset({'phillip.allen@enron.com'})</td>\n",
       "      <td>frozenset({'greg.piper@enron.com'})</td>\n",
       "      <td>Re: Hello</td>\n",
       "      <td>Phillip K Allen</td>\n",
       "      <td>Greg Piper</td>\n",
       "      <td>NaN</td>\n",
       "      <td>NaN</td>\n",
       "      <td>...</td>\n",
       "      <td>NaN</td>\n",
       "      <td>NaN</td>\n",
       "      <td>NaN</td>\n",
       "      <td>NaN</td>\n",
       "      <td>NaN</td>\n",
       "      <td>NaN</td>\n",
       "      <td>NaN</td>\n",
       "      <td>NaN</td>\n",
       "      <td>NaN</td>\n",
       "      <td>False</td>\n",
       "    </tr>\n",
       "  </tbody>\n",
       "</table>\n",
       "<p>5 rows × 52 columns</p>\n",
       "</div>"
      ],
      "text/plain": [
       "   Unnamed: 0                                     Message-ID  \\\n",
       "0           0  <18782981.1075855378110.JavaMail.evans@thyme>   \n",
       "1           1  <15464986.1075855378456.JavaMail.evans@thyme>   \n",
       "2           2  <24216240.1075855687451.JavaMail.evans@thyme>   \n",
       "3           3  <13505866.1075863688222.JavaMail.evans@thyme>   \n",
       "4           4  <30922949.1075863688243.JavaMail.evans@thyme>   \n",
       "\n",
       "                  Date                                    From  \\\n",
       "0  2001-05-14 23:39:00  frozenset({'phillip.allen@enron.com'})   \n",
       "1  2001-05-04 20:51:00  frozenset({'phillip.allen@enron.com'})   \n",
       "2  2000-10-18 10:00:00  frozenset({'phillip.allen@enron.com'})   \n",
       "3  2000-10-23 13:13:00  frozenset({'phillip.allen@enron.com'})   \n",
       "4  2000-08-31 12:07:00  frozenset({'phillip.allen@enron.com'})   \n",
       "\n",
       "                                       To    Subject           X-From  \\\n",
       "0     frozenset({'tim.belden@enron.com'})        NaN  Phillip K Allen   \n",
       "1  frozenset({'john.lavorato@enron.com'})        Re:  Phillip K Allen   \n",
       "2   frozenset({'leah.arsdall@enron.com'})   Re: test  Phillip K Allen   \n",
       "3    frozenset({'randall.gay@enron.com'})        NaN  Phillip K Allen   \n",
       "4     frozenset({'greg.piper@enron.com'})  Re: Hello  Phillip K Allen   \n",
       "\n",
       "                                                X-To X-cc X-bcc  ...  \\\n",
       "0           Tim Belden <Tim Belden/Enron@EnronXGate>  NaN   NaN  ...   \n",
       "1  John J Lavorato <John J Lavorato/ENRON@enronXg...  NaN   NaN  ...   \n",
       "2                                   Leah Van Arsdall  NaN   NaN  ...   \n",
       "3                                      Randall L Gay  NaN   NaN  ...   \n",
       "4                                         Greg Piper  NaN   NaN  ...   \n",
       "\n",
       "  Cat_10_level_1 Cat_10_level_2 Cat_10_weight Cat_11_level_1 Cat_11_level_2  \\\n",
       "0            NaN            NaN           NaN            NaN            NaN   \n",
       "1            NaN            NaN           NaN            NaN            NaN   \n",
       "2            NaN            NaN           NaN            NaN            NaN   \n",
       "3            NaN            NaN           NaN            NaN            NaN   \n",
       "4            NaN            NaN           NaN            NaN            NaN   \n",
       "\n",
       "   Cat_11_weight  Cat_12_level_1  Cat_12_level_2  Cat_12_weight  labeled  \n",
       "0            NaN             NaN             NaN            NaN    False  \n",
       "1            NaN             NaN             NaN            NaN    False  \n",
       "2            NaN             NaN             NaN            NaN    False  \n",
       "3            NaN             NaN             NaN            NaN    False  \n",
       "4            NaN             NaN             NaN            NaN    False  \n",
       "\n",
       "[5 rows x 52 columns]"
      ]
     },
     "execution_count": 4,
     "metadata": {},
     "output_type": "execute_result"
    }
   ],
   "source": [
    "dataset.head()"
   ]
  },
  {
   "cell_type": "code",
   "execution_count": 5,
   "metadata": {},
   "outputs": [
    {
     "data": {
      "text/plain": [
       "Index(['Unnamed: 0', 'Message-ID', 'Date', 'From', 'To', 'Subject', 'X-From',\n",
       "       'X-To', 'X-cc', 'X-bcc', 'X-Folder', 'X-Origin', 'X-FileName',\n",
       "       'content', 'user', 'Cat_1_level_1', 'Cat_1_level_2', 'Cat_1_weight',\n",
       "       'Cat_2_level_1', 'Cat_2_level_2', 'Cat_2_weight', 'Cat_3_level_1',\n",
       "       'Cat_3_level_2', 'Cat_3_weight', 'Cat_4_level_1', 'Cat_4_level_2',\n",
       "       'Cat_4_weight', 'Cat_5_level_1', 'Cat_5_level_2', 'Cat_5_weight',\n",
       "       'Cat_6_level_1', 'Cat_6_level_2', 'Cat_6_weight', 'Cat_7_level_1',\n",
       "       'Cat_7_level_2', 'Cat_7_weight', 'Cat_8_level_1', 'Cat_8_level_2',\n",
       "       'Cat_8_weight', 'Cat_9_level_1', 'Cat_9_level_2', 'Cat_9_weight',\n",
       "       'Cat_10_level_1', 'Cat_10_level_2', 'Cat_10_weight', 'Cat_11_level_1',\n",
       "       'Cat_11_level_2', 'Cat_11_weight', 'Cat_12_level_1', 'Cat_12_level_2',\n",
       "       'Cat_12_weight', 'labeled'],\n",
       "      dtype='object')"
      ]
     },
     "execution_count": 5,
     "metadata": {},
     "output_type": "execute_result"
    }
   ],
   "source": [
    "dataset.columns"
   ]
  },
  {
   "cell_type": "code",
   "execution_count": 6,
   "metadata": {},
   "outputs": [],
   "source": [
    "test = dataset[['Cat_1_level_1', 'Cat_1_level_2', 'Cat_1_weight', 'Cat_2_level_1',\n",
    "       'Cat_2_level_2', 'Cat_2_weight', 'Cat_3_level_1', 'Cat_3_level_2',\n",
    "       'Cat_3_weight', 'Cat_4_level_1', 'Cat_4_level_2', 'Cat_4_weight',\n",
    "       'Cat_5_level_1', 'Cat_5_level_2', 'Cat_5_weight', 'Cat_6_level_1',\n",
    "       'Cat_6_level_2', 'Cat_6_weight', 'Cat_7_level_1', 'Cat_7_level_2',\n",
    "       'Cat_7_weight', 'Cat_8_level_1', 'Cat_8_level_2', 'Cat_8_weight',\n",
    "       'Cat_9_level_1', 'Cat_9_level_2', 'Cat_9_weight', 'Cat_10_level_1',\n",
    "       'Cat_10_level_2', 'Cat_10_weight', 'Cat_11_level_1', 'Cat_11_level_2',\n",
    "       'Cat_11_weight', 'Cat_12_level_1', 'Cat_12_level_2', 'Cat_12_weight']]"
   ]
  },
  {
   "cell_type": "code",
   "execution_count": 7,
   "metadata": {},
   "outputs": [
    {
     "data": {
      "text/plain": [
       "Cat_1_level_1      99790\n",
       "Cat_1_level_2      99790\n",
       "Cat_1_weight       99790\n",
       "Cat_2_level_1      99800\n",
       "Cat_2_level_2      99800\n",
       "Cat_2_weight       99800\n",
       "Cat_3_level_1      99834\n",
       "Cat_3_level_2      99834\n",
       "Cat_3_weight       99834\n",
       "Cat_4_level_1      99896\n",
       "Cat_4_level_2      99896\n",
       "Cat_4_weight       99896\n",
       "Cat_5_level_1      99943\n",
       "Cat_5_level_2      99943\n",
       "Cat_5_weight       99943\n",
       "Cat_6_level_1      99979\n",
       "Cat_6_level_2      99979\n",
       "Cat_6_weight       99979\n",
       "Cat_7_level_1      99990\n",
       "Cat_7_level_2      99990\n",
       "Cat_7_weight       99990\n",
       "Cat_8_level_1      99998\n",
       "Cat_8_level_2      99998\n",
       "Cat_8_weight       99998\n",
       "Cat_9_level_1      99999\n",
       "Cat_9_level_2      99999\n",
       "Cat_9_weight       99999\n",
       "Cat_10_level_1     99999\n",
       "Cat_10_level_2     99999\n",
       "Cat_10_weight      99999\n",
       "Cat_11_level_1    100000\n",
       "Cat_11_level_2    100000\n",
       "Cat_11_weight     100000\n",
       "Cat_12_level_1    100000\n",
       "Cat_12_level_2    100000\n",
       "Cat_12_weight     100000\n",
       "dtype: int64"
      ]
     },
     "execution_count": 7,
     "metadata": {},
     "output_type": "execute_result"
    }
   ],
   "source": [
    "test.isna().sum()"
   ]
  },
  {
   "cell_type": "code",
   "execution_count": 8,
   "metadata": {},
   "outputs": [],
   "source": [
    "dataset.drop(['Cat_1_level_1', 'Cat_1_level_2', 'Cat_1_weight', 'Cat_2_level_1',\n",
    "       'Cat_2_level_2', 'Cat_2_weight', 'Cat_3_level_1', 'Cat_3_level_2',\n",
    "       'Cat_3_weight', 'Cat_4_level_1', 'Cat_4_level_2', 'Cat_4_weight',\n",
    "       'Cat_5_level_1', 'Cat_5_level_2', 'Cat_5_weight', 'Cat_6_level_1',\n",
    "       'Cat_6_level_2', 'Cat_6_weight', 'Cat_7_level_1', 'Cat_7_level_2',\n",
    "       'Cat_7_weight', 'Cat_8_level_1', 'Cat_8_level_2', 'Cat_8_weight',\n",
    "       'Cat_9_level_1', 'Cat_9_level_2', 'Cat_9_weight', 'Cat_10_level_1',\n",
    "       'Cat_10_level_2', 'Cat_10_weight', 'Cat_11_level_1', 'Cat_11_level_2','Cat_11_weight', 'Cat_12_level_1', 'Cat_12_level_2', 'Cat_12_weight'], axis = 1, inplace = True)"
   ]
  },
  {
   "cell_type": "code",
   "execution_count": 9,
   "metadata": {},
   "outputs": [],
   "source": [
    "dataset.drop(['X-From', 'X-To', 'X-FileName', 'X-FileName', 'Unnamed: 0'], axis = 1, inplace = True)"
   ]
  },
  {
   "cell_type": "code",
   "execution_count": 10,
   "metadata": {},
   "outputs": [
    {
     "data": {
      "text/html": [
       "<div>\n",
       "<style scoped>\n",
       "    .dataframe tbody tr th:only-of-type {\n",
       "        vertical-align: middle;\n",
       "    }\n",
       "\n",
       "    .dataframe tbody tr th {\n",
       "        vertical-align: top;\n",
       "    }\n",
       "\n",
       "    .dataframe thead th {\n",
       "        text-align: right;\n",
       "    }\n",
       "</style>\n",
       "<table border=\"1\" class=\"dataframe\">\n",
       "  <thead>\n",
       "    <tr style=\"text-align: right;\">\n",
       "      <th></th>\n",
       "      <th>Cat_1_level_1</th>\n",
       "      <th>Cat_1_level_2</th>\n",
       "      <th>Cat_1_weight</th>\n",
       "      <th>Cat_2_level_1</th>\n",
       "      <th>Cat_2_level_2</th>\n",
       "      <th>Cat_2_weight</th>\n",
       "      <th>Cat_3_level_1</th>\n",
       "      <th>Cat_3_level_2</th>\n",
       "      <th>Cat_3_weight</th>\n",
       "      <th>Cat_4_level_1</th>\n",
       "      <th>...</th>\n",
       "      <th>Cat_9_weight</th>\n",
       "      <th>Cat_10_level_1</th>\n",
       "      <th>Cat_10_level_2</th>\n",
       "      <th>Cat_10_weight</th>\n",
       "      <th>Cat_11_level_1</th>\n",
       "      <th>Cat_11_level_2</th>\n",
       "      <th>Cat_11_weight</th>\n",
       "      <th>Cat_12_level_1</th>\n",
       "      <th>Cat_12_level_2</th>\n",
       "      <th>Cat_12_weight</th>\n",
       "    </tr>\n",
       "  </thead>\n",
       "  <tbody>\n",
       "    <tr>\n",
       "      <th>379</th>\n",
       "      <td>1.0</td>\n",
       "      <td>1.0</td>\n",
       "      <td>2.0</td>\n",
       "      <td>3.0</td>\n",
       "      <td>8.0</td>\n",
       "      <td>2.0</td>\n",
       "      <td>NaN</td>\n",
       "      <td>NaN</td>\n",
       "      <td>NaN</td>\n",
       "      <td>NaN</td>\n",
       "      <td>...</td>\n",
       "      <td>NaN</td>\n",
       "      <td>NaN</td>\n",
       "      <td>NaN</td>\n",
       "      <td>NaN</td>\n",
       "      <td>NaN</td>\n",
       "      <td>NaN</td>\n",
       "      <td>NaN</td>\n",
       "      <td>NaN</td>\n",
       "      <td>NaN</td>\n",
       "      <td>NaN</td>\n",
       "    </tr>\n",
       "    <tr>\n",
       "      <th>381</th>\n",
       "      <td>1.0</td>\n",
       "      <td>3.0</td>\n",
       "      <td>2.0</td>\n",
       "      <td>4.0</td>\n",
       "      <td>10.0</td>\n",
       "      <td>2.0</td>\n",
       "      <td>4.0</td>\n",
       "      <td>11.0</td>\n",
       "      <td>2.0</td>\n",
       "      <td>NaN</td>\n",
       "      <td>...</td>\n",
       "      <td>NaN</td>\n",
       "      <td>NaN</td>\n",
       "      <td>NaN</td>\n",
       "      <td>NaN</td>\n",
       "      <td>NaN</td>\n",
       "      <td>NaN</td>\n",
       "      <td>NaN</td>\n",
       "      <td>NaN</td>\n",
       "      <td>NaN</td>\n",
       "      <td>NaN</td>\n",
       "    </tr>\n",
       "    <tr>\n",
       "      <th>2139</th>\n",
       "      <td>1.0</td>\n",
       "      <td>4.0</td>\n",
       "      <td>1.0</td>\n",
       "      <td>2.0</td>\n",
       "      <td>2.0</td>\n",
       "      <td>1.0</td>\n",
       "      <td>NaN</td>\n",
       "      <td>NaN</td>\n",
       "      <td>NaN</td>\n",
       "      <td>NaN</td>\n",
       "      <td>...</td>\n",
       "      <td>NaN</td>\n",
       "      <td>NaN</td>\n",
       "      <td>NaN</td>\n",
       "      <td>NaN</td>\n",
       "      <td>NaN</td>\n",
       "      <td>NaN</td>\n",
       "      <td>NaN</td>\n",
       "      <td>NaN</td>\n",
       "      <td>NaN</td>\n",
       "      <td>NaN</td>\n",
       "    </tr>\n",
       "    <tr>\n",
       "      <th>2140</th>\n",
       "      <td>1.0</td>\n",
       "      <td>4.0</td>\n",
       "      <td>1.0</td>\n",
       "      <td>2.0</td>\n",
       "      <td>2.0</td>\n",
       "      <td>1.0</td>\n",
       "      <td>NaN</td>\n",
       "      <td>NaN</td>\n",
       "      <td>NaN</td>\n",
       "      <td>NaN</td>\n",
       "      <td>...</td>\n",
       "      <td>NaN</td>\n",
       "      <td>NaN</td>\n",
       "      <td>NaN</td>\n",
       "      <td>NaN</td>\n",
       "      <td>NaN</td>\n",
       "      <td>NaN</td>\n",
       "      <td>NaN</td>\n",
       "      <td>NaN</td>\n",
       "      <td>NaN</td>\n",
       "      <td>NaN</td>\n",
       "    </tr>\n",
       "    <tr>\n",
       "      <th>2232</th>\n",
       "      <td>1.0</td>\n",
       "      <td>4.0</td>\n",
       "      <td>1.0</td>\n",
       "      <td>2.0</td>\n",
       "      <td>2.0</td>\n",
       "      <td>1.0</td>\n",
       "      <td>NaN</td>\n",
       "      <td>NaN</td>\n",
       "      <td>NaN</td>\n",
       "      <td>NaN</td>\n",
       "      <td>...</td>\n",
       "      <td>NaN</td>\n",
       "      <td>NaN</td>\n",
       "      <td>NaN</td>\n",
       "      <td>NaN</td>\n",
       "      <td>NaN</td>\n",
       "      <td>NaN</td>\n",
       "      <td>NaN</td>\n",
       "      <td>NaN</td>\n",
       "      <td>NaN</td>\n",
       "      <td>NaN</td>\n",
       "    </tr>\n",
       "    <tr>\n",
       "      <th>...</th>\n",
       "      <td>...</td>\n",
       "      <td>...</td>\n",
       "      <td>...</td>\n",
       "      <td>...</td>\n",
       "      <td>...</td>\n",
       "      <td>...</td>\n",
       "      <td>...</td>\n",
       "      <td>...</td>\n",
       "      <td>...</td>\n",
       "      <td>...</td>\n",
       "      <td>...</td>\n",
       "      <td>...</td>\n",
       "      <td>...</td>\n",
       "      <td>...</td>\n",
       "      <td>...</td>\n",
       "      <td>...</td>\n",
       "      <td>...</td>\n",
       "      <td>...</td>\n",
       "      <td>...</td>\n",
       "      <td>...</td>\n",
       "      <td>...</td>\n",
       "    </tr>\n",
       "    <tr>\n",
       "      <th>84186</th>\n",
       "      <td>1.0</td>\n",
       "      <td>1.0</td>\n",
       "      <td>2.0</td>\n",
       "      <td>1.0</td>\n",
       "      <td>3.0</td>\n",
       "      <td>2.0</td>\n",
       "      <td>2.0</td>\n",
       "      <td>1.0</td>\n",
       "      <td>2.0</td>\n",
       "      <td>2.0</td>\n",
       "      <td>...</td>\n",
       "      <td>NaN</td>\n",
       "      <td>NaN</td>\n",
       "      <td>NaN</td>\n",
       "      <td>NaN</td>\n",
       "      <td>NaN</td>\n",
       "      <td>NaN</td>\n",
       "      <td>NaN</td>\n",
       "      <td>NaN</td>\n",
       "      <td>NaN</td>\n",
       "      <td>NaN</td>\n",
       "    </tr>\n",
       "    <tr>\n",
       "      <th>89217</th>\n",
       "      <td>1.0</td>\n",
       "      <td>1.0</td>\n",
       "      <td>2.0</td>\n",
       "      <td>1.0</td>\n",
       "      <td>6.0</td>\n",
       "      <td>2.0</td>\n",
       "      <td>2.0</td>\n",
       "      <td>3.0</td>\n",
       "      <td>2.0</td>\n",
       "      <td>3.0</td>\n",
       "      <td>...</td>\n",
       "      <td>NaN</td>\n",
       "      <td>NaN</td>\n",
       "      <td>NaN</td>\n",
       "      <td>NaN</td>\n",
       "      <td>NaN</td>\n",
       "      <td>NaN</td>\n",
       "      <td>NaN</td>\n",
       "      <td>NaN</td>\n",
       "      <td>NaN</td>\n",
       "      <td>NaN</td>\n",
       "    </tr>\n",
       "    <tr>\n",
       "      <th>89301</th>\n",
       "      <td>1.0</td>\n",
       "      <td>1.0</td>\n",
       "      <td>2.0</td>\n",
       "      <td>2.0</td>\n",
       "      <td>1.0</td>\n",
       "      <td>2.0</td>\n",
       "      <td>2.0</td>\n",
       "      <td>2.0</td>\n",
       "      <td>2.0</td>\n",
       "      <td>3.0</td>\n",
       "      <td>...</td>\n",
       "      <td>NaN</td>\n",
       "      <td>NaN</td>\n",
       "      <td>NaN</td>\n",
       "      <td>NaN</td>\n",
       "      <td>NaN</td>\n",
       "      <td>NaN</td>\n",
       "      <td>NaN</td>\n",
       "      <td>NaN</td>\n",
       "      <td>NaN</td>\n",
       "      <td>NaN</td>\n",
       "    </tr>\n",
       "    <tr>\n",
       "      <th>89920</th>\n",
       "      <td>1.0</td>\n",
       "      <td>6.0</td>\n",
       "      <td>2.0</td>\n",
       "      <td>1.0</td>\n",
       "      <td>7.0</td>\n",
       "      <td>2.0</td>\n",
       "      <td>2.0</td>\n",
       "      <td>7.0</td>\n",
       "      <td>2.0</td>\n",
       "      <td>4.0</td>\n",
       "      <td>...</td>\n",
       "      <td>NaN</td>\n",
       "      <td>NaN</td>\n",
       "      <td>NaN</td>\n",
       "      <td>NaN</td>\n",
       "      <td>NaN</td>\n",
       "      <td>NaN</td>\n",
       "      <td>NaN</td>\n",
       "      <td>NaN</td>\n",
       "      <td>NaN</td>\n",
       "      <td>NaN</td>\n",
       "    </tr>\n",
       "    <tr>\n",
       "      <th>92812</th>\n",
       "      <td>1.0</td>\n",
       "      <td>6.0</td>\n",
       "      <td>1.0</td>\n",
       "      <td>2.0</td>\n",
       "      <td>1.0</td>\n",
       "      <td>1.0</td>\n",
       "      <td>2.0</td>\n",
       "      <td>13.0</td>\n",
       "      <td>1.0</td>\n",
       "      <td>NaN</td>\n",
       "      <td>...</td>\n",
       "      <td>NaN</td>\n",
       "      <td>NaN</td>\n",
       "      <td>NaN</td>\n",
       "      <td>NaN</td>\n",
       "      <td>NaN</td>\n",
       "      <td>NaN</td>\n",
       "      <td>NaN</td>\n",
       "      <td>NaN</td>\n",
       "      <td>NaN</td>\n",
       "      <td>NaN</td>\n",
       "    </tr>\n",
       "  </tbody>\n",
       "</table>\n",
       "<p>210 rows × 36 columns</p>\n",
       "</div>"
      ],
      "text/plain": [
       "       Cat_1_level_1  Cat_1_level_2  Cat_1_weight  Cat_2_level_1  \\\n",
       "379              1.0            1.0           2.0            3.0   \n",
       "381              1.0            3.0           2.0            4.0   \n",
       "2139             1.0            4.0           1.0            2.0   \n",
       "2140             1.0            4.0           1.0            2.0   \n",
       "2232             1.0            4.0           1.0            2.0   \n",
       "...              ...            ...           ...            ...   \n",
       "84186            1.0            1.0           2.0            1.0   \n",
       "89217            1.0            1.0           2.0            1.0   \n",
       "89301            1.0            1.0           2.0            2.0   \n",
       "89920            1.0            6.0           2.0            1.0   \n",
       "92812            1.0            6.0           1.0            2.0   \n",
       "\n",
       "       Cat_2_level_2  Cat_2_weight  Cat_3_level_1  Cat_3_level_2  \\\n",
       "379              8.0           2.0            NaN            NaN   \n",
       "381             10.0           2.0            4.0           11.0   \n",
       "2139             2.0           1.0            NaN            NaN   \n",
       "2140             2.0           1.0            NaN            NaN   \n",
       "2232             2.0           1.0            NaN            NaN   \n",
       "...              ...           ...            ...            ...   \n",
       "84186            3.0           2.0            2.0            1.0   \n",
       "89217            6.0           2.0            2.0            3.0   \n",
       "89301            1.0           2.0            2.0            2.0   \n",
       "89920            7.0           2.0            2.0            7.0   \n",
       "92812            1.0           1.0            2.0           13.0   \n",
       "\n",
       "       Cat_3_weight  Cat_4_level_1  ...  Cat_9_weight  Cat_10_level_1  \\\n",
       "379             NaN            NaN  ...           NaN             NaN   \n",
       "381             2.0            NaN  ...           NaN             NaN   \n",
       "2139            NaN            NaN  ...           NaN             NaN   \n",
       "2140            NaN            NaN  ...           NaN             NaN   \n",
       "2232            NaN            NaN  ...           NaN             NaN   \n",
       "...             ...            ...  ...           ...             ...   \n",
       "84186           2.0            2.0  ...           NaN             NaN   \n",
       "89217           2.0            3.0  ...           NaN             NaN   \n",
       "89301           2.0            3.0  ...           NaN             NaN   \n",
       "89920           2.0            4.0  ...           NaN             NaN   \n",
       "92812           1.0            NaN  ...           NaN             NaN   \n",
       "\n",
       "       Cat_10_level_2  Cat_10_weight  Cat_11_level_1  Cat_11_level_2  \\\n",
       "379               NaN            NaN             NaN             NaN   \n",
       "381               NaN            NaN             NaN             NaN   \n",
       "2139              NaN            NaN             NaN             NaN   \n",
       "2140              NaN            NaN             NaN             NaN   \n",
       "2232              NaN            NaN             NaN             NaN   \n",
       "...               ...            ...             ...             ...   \n",
       "84186             NaN            NaN             NaN             NaN   \n",
       "89217             NaN            NaN             NaN             NaN   \n",
       "89301             NaN            NaN             NaN             NaN   \n",
       "89920             NaN            NaN             NaN             NaN   \n",
       "92812             NaN            NaN             NaN             NaN   \n",
       "\n",
       "       Cat_11_weight  Cat_12_level_1  Cat_12_level_2  Cat_12_weight  \n",
       "379              NaN             NaN             NaN            NaN  \n",
       "381              NaN             NaN             NaN            NaN  \n",
       "2139             NaN             NaN             NaN            NaN  \n",
       "2140             NaN             NaN             NaN            NaN  \n",
       "2232             NaN             NaN             NaN            NaN  \n",
       "...              ...             ...             ...            ...  \n",
       "84186            NaN             NaN             NaN            NaN  \n",
       "89217            NaN             NaN             NaN            NaN  \n",
       "89301            NaN             NaN             NaN            NaN  \n",
       "89920            NaN             NaN             NaN            NaN  \n",
       "92812            NaN             NaN             NaN            NaN  \n",
       "\n",
       "[210 rows x 36 columns]"
      ]
     },
     "execution_count": 10,
     "metadata": {},
     "output_type": "execute_result"
    }
   ],
   "source": [
    "test[test['Cat_1_level_1'].isna()==False]"
   ]
  },
  {
   "cell_type": "code",
   "execution_count": 11,
   "metadata": {},
   "outputs": [
    {
     "data": {
      "text/plain": [
       "99966"
      ]
     },
     "execution_count": 11,
     "metadata": {},
     "output_type": "execute_result"
    }
   ],
   "source": [
    "# nombre de mail ou il n'y a pas de bcc\n",
    "dataset['X-bcc'].isna().sum()"
   ]
  },
  {
   "cell_type": "markdown",
   "metadata": {},
   "source": [
    "Au vue du nombre important de donnée nulle, on peut considérer la suppression de la colonne"
   ]
  },
  {
   "cell_type": "markdown",
   "metadata": {},
   "source": [
    "### Nettoyage colonne From et To"
   ]
  },
  {
   "cell_type": "code",
   "execution_count": 12,
   "metadata": {},
   "outputs": [
    {
     "name": "stderr",
     "output_type": "stream",
     "text": [
      "<ipython-input-12-38aace425442>:3: SettingWithCopyWarning: \n",
      "A value is trying to be set on a copy of a slice from a DataFrame\n",
      "\n",
      "See the caveats in the documentation: https://pandas.pydata.org/pandas-docs/stable/user_guide/indexing.html#returning-a-view-versus-a-copy\n",
      "  dataset.From[i] = str(dataset.From[i])[11:-2]\n",
      "<ipython-input-12-38aace425442>:7: SettingWithCopyWarning: \n",
      "A value is trying to be set on a copy of a slice from a DataFrame\n",
      "\n",
      "See the caveats in the documentation: https://pandas.pydata.org/pandas-docs/stable/user_guide/indexing.html#returning-a-view-versus-a-copy\n",
      "  dataset.To[i] = str(dataset.To[i])[11:-2]\n"
     ]
    }
   ],
   "source": [
    "#From\n",
    "for i in range(len(dataset.From)):\n",
    "    dataset.From[i] = str(dataset.From[i])[11:-2]\n",
    "\n",
    "#To\n",
    "for i in range(len(dataset.To)):\n",
    "    dataset.To[i] = str(dataset.To[i])[11:-2]"
   ]
  },
  {
   "cell_type": "markdown",
   "metadata": {},
   "source": [
    "### Nettoyage colonne Date"
   ]
  },
  {
   "cell_type": "code",
   "execution_count": 13,
   "metadata": {},
   "outputs": [],
   "source": [
    "dataset['Date'] = pd.to_datetime(dataset['Date'], format='%Y-%m-%d %H:%M:%S.%f')"
   ]
  },
  {
   "cell_type": "markdown",
   "metadata": {},
   "source": [
    "## Manipulation des données"
   ]
  },
  {
   "cell_type": "markdown",
   "metadata": {},
   "source": [
    "### Taille du contenu du mail"
   ]
  },
  {
   "cell_type": "code",
   "execution_count": 14,
   "metadata": {},
   "outputs": [],
   "source": [
    "#Calcul de la longueur du contenu en nombre de caractère\n",
    "dataset['content_size'] = dataset['content'].apply(lambda x: len(str(x)))"
   ]
  },
  {
   "cell_type": "markdown",
   "metadata": {},
   "source": [
    "### Taille du sujet du mail"
   ]
  },
  {
   "cell_type": "code",
   "execution_count": 15,
   "metadata": {},
   "outputs": [],
   "source": [
    "#Calcul de la longueur du sujet en nombre de caractère\n",
    "dataset['subject_size'] = dataset['Subject'].apply(lambda x: 0 if 'nan' in str(x).lower() else len(str(x)))"
   ]
  },
  {
   "cell_type": "markdown",
   "metadata": {},
   "source": [
    "### Mail transmit"
   ]
  },
  {
   "cell_type": "code",
   "execution_count": 16,
   "metadata": {},
   "outputs": [],
   "source": [
    "#Mail transmit     \n",
    "dataset['forwarded_mail'] = dataset['content'].apply(lambda x: 1 if '---------------------- forwarded by' in str(x).lower() else 0)"
   ]
  },
  {
   "cell_type": "markdown",
   "metadata": {},
   "source": [
    "##### Directement transmit"
   ]
  },
  {
   "cell_type": "code",
   "execution_count": 17,
   "metadata": {},
   "outputs": [
    {
     "name": "stderr",
     "output_type": "stream",
     "text": [
      "<ipython-input-17-13187cd85297>:13: SettingWithCopyWarning: \n",
      "A value is trying to be set on a copy of a slice from a DataFrame\n",
      "\n",
      "See the caveats in the documentation: https://pandas.pydata.org/pandas-docs/stable/user_guide/indexing.html#returning-a-view-versus-a-copy\n",
      "  dataset['mail_direct_forwarded'][i] = mail_directement_transmit(str(dataset['content'][i]))\n"
     ]
    }
   ],
   "source": [
    "#Mail directement transmit ou non\n",
    "def mail_directement_transmit (content) :\n",
    "    res = content.split()\n",
    "    if ('----------------------' in res[0].lower() and 'forwarded' in res[1].lower() and 'by' in res[2].lower()):\n",
    "        return 1\n",
    "    else :\n",
    "        return 0\n",
    "\n",
    "#Création des colonnes dans le dataframe\n",
    "dataset['mail_direct_forwarded']=0\n",
    "\n",
    "for i in range(len(dataset)):\n",
    "    dataset['mail_direct_forwarded'][i] = mail_directement_transmit(str(dataset['content'][i]))"
   ]
  },
  {
   "cell_type": "markdown",
   "metadata": {},
   "source": [
    "##### Transmit avec commentaire"
   ]
  },
  {
   "cell_type": "code",
   "execution_count": 18,
   "metadata": {},
   "outputs": [
    {
     "name": "stderr",
     "output_type": "stream",
     "text": [
      "<ipython-input-18-5d86b3b2430d>:18: SettingWithCopyWarning: \n",
      "A value is trying to be set on a copy of a slice from a DataFrame\n",
      "\n",
      "See the caveats in the documentation: https://pandas.pydata.org/pandas-docs/stable/user_guide/indexing.html#returning-a-view-versus-a-copy\n",
      "  dataset['mail_transmit_avec_commentaire'][i] = mail_transmit_avec_commentaire(str(dataset['content'][i]))\n"
     ]
    }
   ],
   "source": [
    "#Mail transmit avec un commentaire\n",
    "def mail_transmit_avec_commentaire (content) :\n",
    "    if '---------------------- forwarded by' in str(content).lower():\n",
    "        msg=''\n",
    "        res = content.split()\n",
    "        for i in range(3):\n",
    "            msg += res[i] \n",
    "        if '---------------------- forwarded by' not in msg:\n",
    "            return 1\n",
    "        else : \n",
    "            return 0\n",
    "    else:\n",
    "        return 0\n",
    "\n",
    "dataset['mail_transmit_avec_commentaire'] =0\n",
    "\n",
    "for i in range(len(dataset)):\n",
    "    dataset['mail_transmit_avec_commentaire'][i] = mail_transmit_avec_commentaire(str(dataset['content'][i]))"
   ]
  },
  {
   "cell_type": "code",
   "execution_count": 19,
   "metadata": {},
   "outputs": [
    {
     "data": {
      "text/html": [
       "<div>\n",
       "<style scoped>\n",
       "    .dataframe tbody tr th:only-of-type {\n",
       "        vertical-align: middle;\n",
       "    }\n",
       "\n",
       "    .dataframe tbody tr th {\n",
       "        vertical-align: top;\n",
       "    }\n",
       "\n",
       "    .dataframe thead th {\n",
       "        text-align: right;\n",
       "    }\n",
       "</style>\n",
       "<table border=\"1\" class=\"dataframe\">\n",
       "  <thead>\n",
       "    <tr style=\"text-align: right;\">\n",
       "      <th></th>\n",
       "      <th>Message-ID</th>\n",
       "      <th>Date</th>\n",
       "      <th>From</th>\n",
       "      <th>To</th>\n",
       "      <th>Subject</th>\n",
       "      <th>X-cc</th>\n",
       "      <th>X-bcc</th>\n",
       "      <th>X-Folder</th>\n",
       "      <th>X-Origin</th>\n",
       "      <th>content</th>\n",
       "      <th>user</th>\n",
       "      <th>labeled</th>\n",
       "      <th>content_size</th>\n",
       "      <th>subject_size</th>\n",
       "      <th>forwarded_mail</th>\n",
       "      <th>mail_direct_forwarded</th>\n",
       "      <th>mail_transmit_avec_commentaire</th>\n",
       "    </tr>\n",
       "  </thead>\n",
       "  <tbody>\n",
       "    <tr>\n",
       "      <th>9</th>\n",
       "      <td>&lt;30795301.1075855687494.JavaMail.evans@thyme&gt;</td>\n",
       "      <td>2000-10-16 13:44:00</td>\n",
       "      <td>'phillip.allen@enron.com'</td>\n",
       "      <td>'zimam@enron.com'</td>\n",
       "      <td>FW: fixed forward or other Collar floor gas pr...</td>\n",
       "      <td>NaN</td>\n",
       "      <td>NaN</td>\n",
       "      <td>\\Phillip_Allen_Dec2000\\Notes Folders\\'sent mail</td>\n",
       "      <td>Allen-P</td>\n",
       "      <td>---------------------- Forwarded by Phillip K ...</td>\n",
       "      <td>allen-p</td>\n",
       "      <td>False</td>\n",
       "      <td>2080</td>\n",
       "      <td>55</td>\n",
       "      <td>1</td>\n",
       "      <td>1</td>\n",
       "      <td>1</td>\n",
       "    </tr>\n",
       "    <tr>\n",
       "      <th>12</th>\n",
       "      <td>&lt;13116875.1075855687561.JavaMail.evans@thyme&gt;</td>\n",
       "      <td>2000-10-09 14:16:00</td>\n",
       "      <td>'phillip.allen@enron.com'</td>\n",
       "      <td>'keith.holst@enron.com'</td>\n",
       "      <td>Consolidated positions: Issues &amp; To Do list</td>\n",
       "      <td>NaN</td>\n",
       "      <td>NaN</td>\n",
       "      <td>\\Phillip_Allen_Dec2000\\Notes Folders\\'sent mail</td>\n",
       "      <td>Allen-P</td>\n",
       "      <td>---------------------- Forwarded by Phillip K ...</td>\n",
       "      <td>allen-p</td>\n",
       "      <td>False</td>\n",
       "      <td>5604</td>\n",
       "      <td>43</td>\n",
       "      <td>1</td>\n",
       "      <td>1</td>\n",
       "      <td>1</td>\n",
       "    </tr>\n",
       "    <tr>\n",
       "      <th>13</th>\n",
       "      <td>&lt;2707340.1075855687584.JavaMail.evans@thyme&gt;</td>\n",
       "      <td>2000-10-09 14:00:00</td>\n",
       "      <td>'phillip.allen@enron.com'</td>\n",
       "      <td>'keith.holst@enron.com'</td>\n",
       "      <td>Consolidated positions: Issues &amp; To Do list</td>\n",
       "      <td>NaN</td>\n",
       "      <td>NaN</td>\n",
       "      <td>\\Phillip_Allen_Dec2000\\Notes Folders\\'sent mail</td>\n",
       "      <td>Allen-P</td>\n",
       "      <td>---------------------- Forwarded by Phillip K ...</td>\n",
       "      <td>allen-p</td>\n",
       "      <td>False</td>\n",
       "      <td>5604</td>\n",
       "      <td>43</td>\n",
       "      <td>1</td>\n",
       "      <td>1</td>\n",
       "      <td>1</td>\n",
       "    </tr>\n",
       "    <tr>\n",
       "      <th>16</th>\n",
       "      <td>&lt;19773657.1075855687649.JavaMail.evans@thyme&gt;</td>\n",
       "      <td>2000-10-04 16:23:00</td>\n",
       "      <td>'phillip.allen@enron.com'</td>\n",
       "      <td>'ina.rangel@enron.com'</td>\n",
       "      <td>Var, Reporting and Resources Meeting</td>\n",
       "      <td>NaN</td>\n",
       "      <td>NaN</td>\n",
       "      <td>\\Phillip_Allen_Dec2000\\Notes Folders\\'sent mail</td>\n",
       "      <td>Allen-P</td>\n",
       "      <td>---------------------- Forwarded by Phillip K ...</td>\n",
       "      <td>allen-p</td>\n",
       "      <td>False</td>\n",
       "      <td>854</td>\n",
       "      <td>36</td>\n",
       "      <td>1</td>\n",
       "      <td>1</td>\n",
       "      <td>1</td>\n",
       "    </tr>\n",
       "    <tr>\n",
       "      <th>18</th>\n",
       "      <td>&lt;12759088.1075855687671.JavaMail.evans@thyme&gt;</td>\n",
       "      <td>2000-10-03 16:30:00</td>\n",
       "      <td>'phillip.allen@enron.com'</td>\n",
       "      <td>'pallen70@hotmail.com'</td>\n",
       "      <td>Westgate</td>\n",
       "      <td>NaN</td>\n",
       "      <td>NaN</td>\n",
       "      <td>\\Phillip_Allen_Dec2000\\Notes Folders\\'sent mail</td>\n",
       "      <td>Allen-P</td>\n",
       "      <td>---------------------- Forwarded by Phillip K ...</td>\n",
       "      <td>allen-p</td>\n",
       "      <td>False</td>\n",
       "      <td>1701</td>\n",
       "      <td>8</td>\n",
       "      <td>1</td>\n",
       "      <td>1</td>\n",
       "      <td>1</td>\n",
       "    </tr>\n",
       "    <tr>\n",
       "      <th>...</th>\n",
       "      <td>...</td>\n",
       "      <td>...</td>\n",
       "      <td>...</td>\n",
       "      <td>...</td>\n",
       "      <td>...</td>\n",
       "      <td>...</td>\n",
       "      <td>...</td>\n",
       "      <td>...</td>\n",
       "      <td>...</td>\n",
       "      <td>...</td>\n",
       "      <td>...</td>\n",
       "      <td>...</td>\n",
       "      <td>...</td>\n",
       "      <td>...</td>\n",
       "      <td>...</td>\n",
       "      <td>...</td>\n",
       "      <td>...</td>\n",
       "    </tr>\n",
       "    <tr>\n",
       "      <th>99992</th>\n",
       "      <td>&lt;16847489.1075840439082.JavaMail.evans@thyme&gt;</td>\n",
       "      <td>2001-03-14 23:30:00</td>\n",
       "      <td>'daren.farmer@enron.com'</td>\n",
       "      <td>'aimee.lannou@enron.com'</td>\n",
       "      <td>Re: deal 34342</td>\n",
       "      <td>NaN</td>\n",
       "      <td>NaN</td>\n",
       "      <td>\\ExMerge - Farmer, Darren\\'Sent Mail</td>\n",
       "      <td>FARMER-D</td>\n",
       "      <td>We have a buyback under HPL (#586534). ENA had...</td>\n",
       "      <td>farmer-d</td>\n",
       "      <td>False</td>\n",
       "      <td>1880</td>\n",
       "      <td>14</td>\n",
       "      <td>1</td>\n",
       "      <td>0</td>\n",
       "      <td>1</td>\n",
       "    </tr>\n",
       "    <tr>\n",
       "      <th>99993</th>\n",
       "      <td>&lt;30208772.1075854174165.JavaMail.evans@thyme&gt;</td>\n",
       "      <td>1999-12-27 16:16:00</td>\n",
       "      <td>'daren.farmer@enron.com'</td>\n",
       "      <td>'carlos.rodriguez@enron.com'</td>\n",
       "      <td>Unify Close Schedule</td>\n",
       "      <td>NaN</td>\n",
       "      <td>NaN</td>\n",
       "      <td>\\Darren_Farmer_Dec2000\\Notes Folders\\'sent mail</td>\n",
       "      <td>Farmer-D</td>\n",
       "      <td>---------------------- Forwarded by Daren J Fa...</td>\n",
       "      <td>farmer-d</td>\n",
       "      <td>False</td>\n",
       "      <td>1935</td>\n",
       "      <td>20</td>\n",
       "      <td>1</td>\n",
       "      <td>1</td>\n",
       "      <td>1</td>\n",
       "    </tr>\n",
       "    <tr>\n",
       "      <th>99994</th>\n",
       "      <td>&lt;6729839.1075854174187.JavaMail.evans@thyme&gt;</td>\n",
       "      <td>1999-12-27 12:35:00</td>\n",
       "      <td>'daren.farmer@enron.com'</td>\n",
       "      <td>'pat.clynes@enron.com', 'ami.chokshi@enron.com...</td>\n",
       "      <td>displaying 4 digit year on your desktop</td>\n",
       "      <td>NaN</td>\n",
       "      <td>NaN</td>\n",
       "      <td>\\Darren_Farmer_Dec2000\\Notes Folders\\'sent mail</td>\n",
       "      <td>Farmer-D</td>\n",
       "      <td>---------------------- Forwarded by Daren J Fa...</td>\n",
       "      <td>farmer-d</td>\n",
       "      <td>False</td>\n",
       "      <td>1320</td>\n",
       "      <td>39</td>\n",
       "      <td>1</td>\n",
       "      <td>1</td>\n",
       "      <td>1</td>\n",
       "    </tr>\n",
       "    <tr>\n",
       "      <th>99995</th>\n",
       "      <td>&lt;29980890.1075854174209.JavaMail.evans@thyme&gt;</td>\n",
       "      <td>1999-12-27 08:11:00</td>\n",
       "      <td>'daren.farmer@enron.com'</td>\n",
       "      <td>'carlos.rodriguez@enron.com'</td>\n",
       "      <td>January Production Estimate</td>\n",
       "      <td>NaN</td>\n",
       "      <td>NaN</td>\n",
       "      <td>\\Darren_Farmer_Dec2000\\Notes Folders\\'sent mail</td>\n",
       "      <td>Farmer-D</td>\n",
       "      <td>---------------------- Forwarded by Daren J Fa...</td>\n",
       "      <td>farmer-d</td>\n",
       "      <td>False</td>\n",
       "      <td>1367</td>\n",
       "      <td>27</td>\n",
       "      <td>1</td>\n",
       "      <td>1</td>\n",
       "      <td>1</td>\n",
       "    </tr>\n",
       "    <tr>\n",
       "      <th>99998</th>\n",
       "      <td>&lt;30410887.1075854174274.JavaMail.evans@thyme&gt;</td>\n",
       "      <td>1999-12-22 06:52:00</td>\n",
       "      <td>'daren.farmer@enron.com'</td>\n",
       "      <td>'pat.clynes@enron.com'</td>\n",
       "      <td>Unify Close Schedule</td>\n",
       "      <td>NaN</td>\n",
       "      <td>NaN</td>\n",
       "      <td>\\Darren_Farmer_Dec2000\\Notes Folders\\'sent mail</td>\n",
       "      <td>Farmer-D</td>\n",
       "      <td>---------------------- Forwarded by Daren J Fa...</td>\n",
       "      <td>farmer-d</td>\n",
       "      <td>False</td>\n",
       "      <td>1935</td>\n",
       "      <td>20</td>\n",
       "      <td>1</td>\n",
       "      <td>1</td>\n",
       "      <td>1</td>\n",
       "    </tr>\n",
       "  </tbody>\n",
       "</table>\n",
       "<p>14391 rows × 17 columns</p>\n",
       "</div>"
      ],
      "text/plain": [
       "                                          Message-ID                Date  \\\n",
       "9      <30795301.1075855687494.JavaMail.evans@thyme> 2000-10-16 13:44:00   \n",
       "12     <13116875.1075855687561.JavaMail.evans@thyme> 2000-10-09 14:16:00   \n",
       "13      <2707340.1075855687584.JavaMail.evans@thyme> 2000-10-09 14:00:00   \n",
       "16     <19773657.1075855687649.JavaMail.evans@thyme> 2000-10-04 16:23:00   \n",
       "18     <12759088.1075855687671.JavaMail.evans@thyme> 2000-10-03 16:30:00   \n",
       "...                                              ...                 ...   \n",
       "99992  <16847489.1075840439082.JavaMail.evans@thyme> 2001-03-14 23:30:00   \n",
       "99993  <30208772.1075854174165.JavaMail.evans@thyme> 1999-12-27 16:16:00   \n",
       "99994   <6729839.1075854174187.JavaMail.evans@thyme> 1999-12-27 12:35:00   \n",
       "99995  <29980890.1075854174209.JavaMail.evans@thyme> 1999-12-27 08:11:00   \n",
       "99998  <30410887.1075854174274.JavaMail.evans@thyme> 1999-12-22 06:52:00   \n",
       "\n",
       "                            From  \\\n",
       "9      'phillip.allen@enron.com'   \n",
       "12     'phillip.allen@enron.com'   \n",
       "13     'phillip.allen@enron.com'   \n",
       "16     'phillip.allen@enron.com'   \n",
       "18     'phillip.allen@enron.com'   \n",
       "...                          ...   \n",
       "99992   'daren.farmer@enron.com'   \n",
       "99993   'daren.farmer@enron.com'   \n",
       "99994   'daren.farmer@enron.com'   \n",
       "99995   'daren.farmer@enron.com'   \n",
       "99998   'daren.farmer@enron.com'   \n",
       "\n",
       "                                                      To  \\\n",
       "9                                      'zimam@enron.com'   \n",
       "12                               'keith.holst@enron.com'   \n",
       "13                               'keith.holst@enron.com'   \n",
       "16                                'ina.rangel@enron.com'   \n",
       "18                                'pallen70@hotmail.com'   \n",
       "...                                                  ...   \n",
       "99992                           'aimee.lannou@enron.com'   \n",
       "99993                       'carlos.rodriguez@enron.com'   \n",
       "99994  'pat.clynes@enron.com', 'ami.chokshi@enron.com...   \n",
       "99995                       'carlos.rodriguez@enron.com'   \n",
       "99998                             'pat.clynes@enron.com'   \n",
       "\n",
       "                                                 Subject X-cc X-bcc  \\\n",
       "9      FW: fixed forward or other Collar floor gas pr...  NaN   NaN   \n",
       "12           Consolidated positions: Issues & To Do list  NaN   NaN   \n",
       "13           Consolidated positions: Issues & To Do list  NaN   NaN   \n",
       "16                  Var, Reporting and Resources Meeting  NaN   NaN   \n",
       "18                                              Westgate  NaN   NaN   \n",
       "...                                                  ...  ...   ...   \n",
       "99992                                     Re: deal 34342  NaN   NaN   \n",
       "99993                               Unify Close Schedule  NaN   NaN   \n",
       "99994            displaying 4 digit year on your desktop  NaN   NaN   \n",
       "99995                        January Production Estimate  NaN   NaN   \n",
       "99998                               Unify Close Schedule  NaN   NaN   \n",
       "\n",
       "                                              X-Folder  X-Origin  \\\n",
       "9      \\Phillip_Allen_Dec2000\\Notes Folders\\'sent mail   Allen-P   \n",
       "12     \\Phillip_Allen_Dec2000\\Notes Folders\\'sent mail   Allen-P   \n",
       "13     \\Phillip_Allen_Dec2000\\Notes Folders\\'sent mail   Allen-P   \n",
       "16     \\Phillip_Allen_Dec2000\\Notes Folders\\'sent mail   Allen-P   \n",
       "18     \\Phillip_Allen_Dec2000\\Notes Folders\\'sent mail   Allen-P   \n",
       "...                                                ...       ...   \n",
       "99992             \\ExMerge - Farmer, Darren\\'Sent Mail  FARMER-D   \n",
       "99993  \\Darren_Farmer_Dec2000\\Notes Folders\\'sent mail  Farmer-D   \n",
       "99994  \\Darren_Farmer_Dec2000\\Notes Folders\\'sent mail  Farmer-D   \n",
       "99995  \\Darren_Farmer_Dec2000\\Notes Folders\\'sent mail  Farmer-D   \n",
       "99998  \\Darren_Farmer_Dec2000\\Notes Folders\\'sent mail  Farmer-D   \n",
       "\n",
       "                                                 content      user  labeled  \\\n",
       "9      ---------------------- Forwarded by Phillip K ...   allen-p    False   \n",
       "12     ---------------------- Forwarded by Phillip K ...   allen-p    False   \n",
       "13     ---------------------- Forwarded by Phillip K ...   allen-p    False   \n",
       "16     ---------------------- Forwarded by Phillip K ...   allen-p    False   \n",
       "18     ---------------------- Forwarded by Phillip K ...   allen-p    False   \n",
       "...                                                  ...       ...      ...   \n",
       "99992  We have a buyback under HPL (#586534). ENA had...  farmer-d    False   \n",
       "99993  ---------------------- Forwarded by Daren J Fa...  farmer-d    False   \n",
       "99994  ---------------------- Forwarded by Daren J Fa...  farmer-d    False   \n",
       "99995  ---------------------- Forwarded by Daren J Fa...  farmer-d    False   \n",
       "99998  ---------------------- Forwarded by Daren J Fa...  farmer-d    False   \n",
       "\n",
       "       content_size  subject_size  forwarded_mail  mail_direct_forwarded  \\\n",
       "9              2080            55               1                      1   \n",
       "12             5604            43               1                      1   \n",
       "13             5604            43               1                      1   \n",
       "16              854            36               1                      1   \n",
       "18             1701             8               1                      1   \n",
       "...             ...           ...             ...                    ...   \n",
       "99992          1880            14               1                      0   \n",
       "99993          1935            20               1                      1   \n",
       "99994          1320            39               1                      1   \n",
       "99995          1367            27               1                      1   \n",
       "99998          1935            20               1                      1   \n",
       "\n",
       "       mail_transmit_avec_commentaire  \n",
       "9                                   1  \n",
       "12                                  1  \n",
       "13                                  1  \n",
       "16                                  1  \n",
       "18                                  1  \n",
       "...                               ...  \n",
       "99992                               1  \n",
       "99993                               1  \n",
       "99994                               1  \n",
       "99995                               1  \n",
       "99998                               1  \n",
       "\n",
       "[14391 rows x 17 columns]"
      ]
     },
     "execution_count": 19,
     "metadata": {},
     "output_type": "execute_result"
    }
   ],
   "source": [
    "dataset[dataset['forwarded_mail']==1]"
   ]
  },
  {
   "cell_type": "markdown",
   "metadata": {},
   "source": [
    "### Nombre de cc"
   ]
  },
  {
   "cell_type": "code",
   "execution_count": 20,
   "metadata": {},
   "outputs": [
    {
     "data": {
      "text/plain": [
       "78253"
      ]
     },
     "execution_count": 20,
     "metadata": {},
     "output_type": "execute_result"
    }
   ],
   "source": [
    "# nombre de mail ou il n'y a pas de cc\n",
    "dataset['X-cc'].isna().sum()"
   ]
  },
  {
   "cell_type": "code",
   "execution_count": 21,
   "metadata": {},
   "outputs": [
    {
     "name": "stderr",
     "output_type": "stream",
     "text": [
      "<ipython-input-21-d85ff2425381>:11: SettingWithCopyWarning: \n",
      "A value is trying to be set on a copy of a slice from a DataFrame\n",
      "\n",
      "See the caveats in the documentation: https://pandas.pydata.org/pandas-docs/stable/user_guide/indexing.html#returning-a-view-versus-a-copy\n",
      "  dataset['nb_cc'][i] = nb_cc(dataset['X-cc'][i])\n"
     ]
    }
   ],
   "source": [
    "#Nombre de cc\n",
    "def nb_cc (content):\n",
    "    if str(content).lower() == 'nan':\n",
    "        return 0\n",
    "    else:\n",
    "        return len(content.split(','))\n",
    "\n",
    "dataset['nb_cc'] = 0\n",
    "\n",
    "for i in range(len(dataset)):\n",
    "    dataset['nb_cc'][i] = nb_cc(dataset['X-cc'][i])"
   ]
  },
  {
   "cell_type": "markdown",
   "metadata": {},
   "source": [
    "### Mail automatique"
   ]
  },
  {
   "cell_type": "code",
   "execution_count": 22,
   "metadata": {},
   "outputs": [
    {
     "data": {
      "text/plain": [
       "1457     <HTML> <HEAD> <TITLE>Web Vixens</TITLE> <META ...\n",
       "1483     <!--[core.text]--> _____________________DAVID ...\n",
       "1566     <!--To put this html into an existing HTML doc...\n",
       "2012     <!-- A SPECIAL OFFER brought to you by CBS Spo...\n",
       "5257     <head> <title>WineISIT.com - Member E-mail</ti...\n",
       "                               ...                        \n",
       "94809    <! > <! > <! ATTENTION!> <! You are reading th...\n",
       "94823    <!DOCTYPE -//w3c//dtd 4.0 html public transiti...\n",
       "95648    <IFRAME src=\"http://WWW.ENERFAX.com\" width=700...\n",
       "96747    --------------sAAbXVADA=01 Content-type: text/...\n",
       "96764    --------------sAAbXVADA=01 Content-type: text/...\n",
       "Name: content, Length: 272, dtype: object"
      ]
     },
     "execution_count": 22,
     "metadata": {},
     "output_type": "execute_result"
    }
   ],
   "source": [
    "#mail auo\n",
    "mailAuto = dataset[dataset['content'].str.contains(\"<!--\")==True]\n",
    "#mailAuto = dataset[dataset['content'].str.contains(\"html\")==True]\n",
    "mailAuto['content']"
   ]
  },
  {
   "cell_type": "code",
   "execution_count": 23,
   "metadata": {},
   "outputs": [
    {
     "data": {
      "text/html": [
       "<div>\n",
       "<style scoped>\n",
       "    .dataframe tbody tr th:only-of-type {\n",
       "        vertical-align: middle;\n",
       "    }\n",
       "\n",
       "    .dataframe tbody tr th {\n",
       "        vertical-align: top;\n",
       "    }\n",
       "\n",
       "    .dataframe thead th {\n",
       "        text-align: right;\n",
       "    }\n",
       "</style>\n",
       "<table border=\"1\" class=\"dataframe\">\n",
       "  <thead>\n",
       "    <tr style=\"text-align: right;\">\n",
       "      <th></th>\n",
       "      <th>Message-ID</th>\n",
       "      <th>Date</th>\n",
       "      <th>From</th>\n",
       "      <th>To</th>\n",
       "      <th>Subject</th>\n",
       "      <th>X-cc</th>\n",
       "      <th>X-bcc</th>\n",
       "      <th>X-Folder</th>\n",
       "      <th>X-Origin</th>\n",
       "      <th>content</th>\n",
       "      <th>user</th>\n",
       "      <th>labeled</th>\n",
       "      <th>content_size</th>\n",
       "      <th>subject_size</th>\n",
       "      <th>forwarded_mail</th>\n",
       "      <th>mail_direct_forwarded</th>\n",
       "      <th>mail_transmit_avec_commentaire</th>\n",
       "      <th>nb_cc</th>\n",
       "    </tr>\n",
       "  </thead>\n",
       "  <tbody>\n",
       "    <tr>\n",
       "      <th>0</th>\n",
       "      <td>&lt;18782981.1075855378110.JavaMail.evans@thyme&gt;</td>\n",
       "      <td>2001-05-14 23:39:00</td>\n",
       "      <td>'phillip.allen@enron.com'</td>\n",
       "      <td>'tim.belden@enron.com'</td>\n",
       "      <td>NaN</td>\n",
       "      <td>NaN</td>\n",
       "      <td>NaN</td>\n",
       "      <td>\\Phillip_Allen_Jan2002_1\\Allen, Phillip K.\\'Se...</td>\n",
       "      <td>Allen-P</td>\n",
       "      <td>Here is our forecast</td>\n",
       "      <td>allen-p</td>\n",
       "      <td>False</td>\n",
       "      <td>20</td>\n",
       "      <td>0</td>\n",
       "      <td>0</td>\n",
       "      <td>0</td>\n",
       "      <td>0</td>\n",
       "      <td>0</td>\n",
       "    </tr>\n",
       "    <tr>\n",
       "      <th>1</th>\n",
       "      <td>&lt;15464986.1075855378456.JavaMail.evans@thyme&gt;</td>\n",
       "      <td>2001-05-04 20:51:00</td>\n",
       "      <td>'phillip.allen@enron.com'</td>\n",
       "      <td>'john.lavorato@enron.com'</td>\n",
       "      <td>Re:</td>\n",
       "      <td>NaN</td>\n",
       "      <td>NaN</td>\n",
       "      <td>\\Phillip_Allen_Jan2002_1\\Allen, Phillip K.\\'Se...</td>\n",
       "      <td>Allen-P</td>\n",
       "      <td>Traveling to have a business meeting takes the...</td>\n",
       "      <td>allen-p</td>\n",
       "      <td>False</td>\n",
       "      <td>773</td>\n",
       "      <td>3</td>\n",
       "      <td>0</td>\n",
       "      <td>0</td>\n",
       "      <td>0</td>\n",
       "      <td>0</td>\n",
       "    </tr>\n",
       "    <tr>\n",
       "      <th>2</th>\n",
       "      <td>&lt;24216240.1075855687451.JavaMail.evans@thyme&gt;</td>\n",
       "      <td>2000-10-18 10:00:00</td>\n",
       "      <td>'phillip.allen@enron.com'</td>\n",
       "      <td>'leah.arsdall@enron.com'</td>\n",
       "      <td>Re: test</td>\n",
       "      <td>NaN</td>\n",
       "      <td>NaN</td>\n",
       "      <td>\\Phillip_Allen_Dec2000\\Notes Folders\\'sent mail</td>\n",
       "      <td>Allen-P</td>\n",
       "      <td>test successful. way to go!!!</td>\n",
       "      <td>allen-p</td>\n",
       "      <td>False</td>\n",
       "      <td>29</td>\n",
       "      <td>8</td>\n",
       "      <td>0</td>\n",
       "      <td>0</td>\n",
       "      <td>0</td>\n",
       "      <td>0</td>\n",
       "    </tr>\n",
       "    <tr>\n",
       "      <th>3</th>\n",
       "      <td>&lt;13505866.1075863688222.JavaMail.evans@thyme&gt;</td>\n",
       "      <td>2000-10-23 13:13:00</td>\n",
       "      <td>'phillip.allen@enron.com'</td>\n",
       "      <td>'randall.gay@enron.com'</td>\n",
       "      <td>NaN</td>\n",
       "      <td>NaN</td>\n",
       "      <td>NaN</td>\n",
       "      <td>\\Phillip_Allen_Dec2000\\Notes Folders\\'sent mail</td>\n",
       "      <td>Allen-P</td>\n",
       "      <td>Randy, Can you send me a schedule of the salar...</td>\n",
       "      <td>allen-p</td>\n",
       "      <td>False</td>\n",
       "      <td>180</td>\n",
       "      <td>0</td>\n",
       "      <td>0</td>\n",
       "      <td>0</td>\n",
       "      <td>0</td>\n",
       "      <td>0</td>\n",
       "    </tr>\n",
       "    <tr>\n",
       "      <th>4</th>\n",
       "      <td>&lt;30922949.1075863688243.JavaMail.evans@thyme&gt;</td>\n",
       "      <td>2000-08-31 12:07:00</td>\n",
       "      <td>'phillip.allen@enron.com'</td>\n",
       "      <td>'greg.piper@enron.com'</td>\n",
       "      <td>Re: Hello</td>\n",
       "      <td>NaN</td>\n",
       "      <td>NaN</td>\n",
       "      <td>\\Phillip_Allen_Dec2000\\Notes Folders\\'sent mail</td>\n",
       "      <td>Allen-P</td>\n",
       "      <td>Let's shoot for Tuesday at 11:45.</td>\n",
       "      <td>allen-p</td>\n",
       "      <td>False</td>\n",
       "      <td>33</td>\n",
       "      <td>9</td>\n",
       "      <td>0</td>\n",
       "      <td>0</td>\n",
       "      <td>0</td>\n",
       "      <td>0</td>\n",
       "    </tr>\n",
       "  </tbody>\n",
       "</table>\n",
       "</div>"
      ],
      "text/plain": [
       "                                      Message-ID                Date  \\\n",
       "0  <18782981.1075855378110.JavaMail.evans@thyme> 2001-05-14 23:39:00   \n",
       "1  <15464986.1075855378456.JavaMail.evans@thyme> 2001-05-04 20:51:00   \n",
       "2  <24216240.1075855687451.JavaMail.evans@thyme> 2000-10-18 10:00:00   \n",
       "3  <13505866.1075863688222.JavaMail.evans@thyme> 2000-10-23 13:13:00   \n",
       "4  <30922949.1075863688243.JavaMail.evans@thyme> 2000-08-31 12:07:00   \n",
       "\n",
       "                        From                         To    Subject X-cc X-bcc  \\\n",
       "0  'phillip.allen@enron.com'     'tim.belden@enron.com'        NaN  NaN   NaN   \n",
       "1  'phillip.allen@enron.com'  'john.lavorato@enron.com'        Re:  NaN   NaN   \n",
       "2  'phillip.allen@enron.com'   'leah.arsdall@enron.com'   Re: test  NaN   NaN   \n",
       "3  'phillip.allen@enron.com'    'randall.gay@enron.com'        NaN  NaN   NaN   \n",
       "4  'phillip.allen@enron.com'     'greg.piper@enron.com'  Re: Hello  NaN   NaN   \n",
       "\n",
       "                                            X-Folder X-Origin  \\\n",
       "0  \\Phillip_Allen_Jan2002_1\\Allen, Phillip K.\\'Se...  Allen-P   \n",
       "1  \\Phillip_Allen_Jan2002_1\\Allen, Phillip K.\\'Se...  Allen-P   \n",
       "2    \\Phillip_Allen_Dec2000\\Notes Folders\\'sent mail  Allen-P   \n",
       "3    \\Phillip_Allen_Dec2000\\Notes Folders\\'sent mail  Allen-P   \n",
       "4    \\Phillip_Allen_Dec2000\\Notes Folders\\'sent mail  Allen-P   \n",
       "\n",
       "                                             content     user  labeled  \\\n",
       "0                               Here is our forecast  allen-p    False   \n",
       "1  Traveling to have a business meeting takes the...  allen-p    False   \n",
       "2                      test successful. way to go!!!  allen-p    False   \n",
       "3  Randy, Can you send me a schedule of the salar...  allen-p    False   \n",
       "4                  Let's shoot for Tuesday at 11:45.  allen-p    False   \n",
       "\n",
       "   content_size  subject_size  forwarded_mail  mail_direct_forwarded  \\\n",
       "0            20             0               0                      0   \n",
       "1           773             3               0                      0   \n",
       "2            29             8               0                      0   \n",
       "3           180             0               0                      0   \n",
       "4            33             9               0                      0   \n",
       "\n",
       "   mail_transmit_avec_commentaire  nb_cc  \n",
       "0                               0      0  \n",
       "1                               0      0  \n",
       "2                               0      0  \n",
       "3                               0      0  \n",
       "4                               0      0  "
      ]
     },
     "execution_count": 23,
     "metadata": {},
     "output_type": "execute_result"
    }
   ],
   "source": [
    "dataset.head()"
   ]
  },
  {
   "cell_type": "markdown",
   "metadata": {},
   "source": [
    "### Nombre de mail par jour"
   ]
  },
  {
   "cell_type": "code",
   "execution_count": 24,
   "metadata": {},
   "outputs": [],
   "source": [
    "from collections import Counter\n",
    "\n",
    "dates = []\n",
    "\n",
    "for num in range(len(dataset)):\n",
    "    dates.append(dataset['Date'][num])\n",
    "\n",
    "dates_count = Counter(dates)"
   ]
  },
  {
   "cell_type": "code",
   "execution_count": 25,
   "metadata": {},
   "outputs": [],
   "source": [
    "df = pd.DataFrame.from_dict(dates_count, orient='index').reset_index()\n",
    "df.columns = ['datetime','count']"
   ]
  },
  {
   "cell_type": "code",
   "execution_count": 26,
   "metadata": {},
   "outputs": [],
   "source": [
    "df['date']=df['datetime'].map(lambda x : x.date())"
   ]
  },
  {
   "cell_type": "code",
   "execution_count": 27,
   "metadata": {},
   "outputs": [
    {
     "data": {
      "text/html": [
       "<div>\n",
       "<style scoped>\n",
       "    .dataframe tbody tr th:only-of-type {\n",
       "        vertical-align: middle;\n",
       "    }\n",
       "\n",
       "    .dataframe tbody tr th {\n",
       "        vertical-align: top;\n",
       "    }\n",
       "\n",
       "    .dataframe thead th {\n",
       "        text-align: right;\n",
       "    }\n",
       "</style>\n",
       "<table border=\"1\" class=\"dataframe\">\n",
       "  <thead>\n",
       "    <tr style=\"text-align: right;\">\n",
       "      <th></th>\n",
       "      <th>datetime</th>\n",
       "      <th>count</th>\n",
       "      <th>date</th>\n",
       "    </tr>\n",
       "  </thead>\n",
       "  <tbody>\n",
       "    <tr>\n",
       "      <th>0</th>\n",
       "      <td>2001-05-14 23:39:00</td>\n",
       "      <td>2</td>\n",
       "      <td>2001-05-14</td>\n",
       "    </tr>\n",
       "    <tr>\n",
       "      <th>1</th>\n",
       "      <td>2001-05-04 20:51:00</td>\n",
       "      <td>2</td>\n",
       "      <td>2001-05-04</td>\n",
       "    </tr>\n",
       "    <tr>\n",
       "      <th>2</th>\n",
       "      <td>2000-10-18 10:00:00</td>\n",
       "      <td>3</td>\n",
       "      <td>2000-10-18</td>\n",
       "    </tr>\n",
       "    <tr>\n",
       "      <th>3</th>\n",
       "      <td>2000-10-23 13:13:00</td>\n",
       "      <td>4</td>\n",
       "      <td>2000-10-23</td>\n",
       "    </tr>\n",
       "    <tr>\n",
       "      <th>4</th>\n",
       "      <td>2000-08-31 12:07:00</td>\n",
       "      <td>3</td>\n",
       "      <td>2000-08-31</td>\n",
       "    </tr>\n",
       "    <tr>\n",
       "      <th>5</th>\n",
       "      <td>2000-08-31 11:17:00</td>\n",
       "      <td>5</td>\n",
       "      <td>2000-08-31</td>\n",
       "    </tr>\n",
       "    <tr>\n",
       "      <th>6</th>\n",
       "      <td>2000-08-22 14:44:00</td>\n",
       "      <td>4</td>\n",
       "      <td>2000-08-22</td>\n",
       "    </tr>\n",
       "    <tr>\n",
       "      <th>7</th>\n",
       "      <td>2000-07-14 13:59:00</td>\n",
       "      <td>3</td>\n",
       "      <td>2000-07-14</td>\n",
       "    </tr>\n",
       "    <tr>\n",
       "      <th>8</th>\n",
       "      <td>2000-10-17 09:26:00</td>\n",
       "      <td>3</td>\n",
       "      <td>2000-10-17</td>\n",
       "    </tr>\n",
       "    <tr>\n",
       "      <th>9</th>\n",
       "      <td>2000-10-16 13:44:00</td>\n",
       "      <td>4</td>\n",
       "      <td>2000-10-16</td>\n",
       "    </tr>\n",
       "  </tbody>\n",
       "</table>\n",
       "</div>"
      ],
      "text/plain": [
       "             datetime  count        date\n",
       "0 2001-05-14 23:39:00      2  2001-05-14\n",
       "1 2001-05-04 20:51:00      2  2001-05-04\n",
       "2 2000-10-18 10:00:00      3  2000-10-18\n",
       "3 2000-10-23 13:13:00      4  2000-10-23\n",
       "4 2000-08-31 12:07:00      3  2000-08-31\n",
       "5 2000-08-31 11:17:00      5  2000-08-31\n",
       "6 2000-08-22 14:44:00      4  2000-08-22\n",
       "7 2000-07-14 13:59:00      3  2000-07-14\n",
       "8 2000-10-17 09:26:00      3  2000-10-17\n",
       "9 2000-10-16 13:44:00      4  2000-10-16"
      ]
     },
     "execution_count": 27,
     "metadata": {},
     "output_type": "execute_result"
    }
   ],
   "source": [
    "df.head(10)"
   ]
  },
  {
   "cell_type": "markdown",
   "metadata": {},
   "source": [
    "### Données dans un intervalle de temps"
   ]
  },
  {
   "cell_type": "code",
   "execution_count": 28,
   "metadata": {},
   "outputs": [
    {
     "name": "stderr",
     "output_type": "stream",
     "text": [
      "<ipython-input-28-37c5082fffb3>:2: FutureWarning: The pandas.datetime class is deprecated and will be removed from pandas in a future version. Import from datetime module instead.\n",
      "  pivot = pivot[(pivot['date']>pd.datetime(2000,1,1).date()) & (pivot['date'] < pd.datetime(2002,6,30).date())]\n"
     ]
    }
   ],
   "source": [
    "pivot = df.pivot_table(index='date', values='count', aggfunc='sum').reset_index()\n",
    "pivot = pivot[(pivot['date']>pd.datetime(2000,1,1).date()) & (pivot['date'] < pd.datetime(2002,6,30).date())]\n",
    "pivot['date'] = pd.to_datetime(pivot['date']) "
   ]
  },
  {
   "cell_type": "code",
   "execution_count": 29,
   "metadata": {},
   "outputs": [
    {
     "data": {
      "text/html": [
       "\n",
       "<div id=\"altair-viz-7fdae36a6c5c47ffb100dad2ab688c2a\"></div>\n",
       "<script type=\"text/javascript\">\n",
       "  (function(spec, embedOpt){\n",
       "    let outputDiv = document.currentScript.previousElementSibling;\n",
       "    if (outputDiv.id !== \"altair-viz-7fdae36a6c5c47ffb100dad2ab688c2a\") {\n",
       "      outputDiv = document.getElementById(\"altair-viz-7fdae36a6c5c47ffb100dad2ab688c2a\");\n",
       "    }\n",
       "    const paths = {\n",
       "      \"vega\": \"https://cdn.jsdelivr.net/npm//vega@5?noext\",\n",
       "      \"vega-lib\": \"https://cdn.jsdelivr.net/npm//vega-lib?noext\",\n",
       "      \"vega-lite\": \"https://cdn.jsdelivr.net/npm//vega-lite@4.8.1?noext\",\n",
       "      \"vega-embed\": \"https://cdn.jsdelivr.net/npm//vega-embed@6?noext\",\n",
       "    };\n",
       "\n",
       "    function loadScript(lib) {\n",
       "      return new Promise(function(resolve, reject) {\n",
       "        var s = document.createElement('script');\n",
       "        s.src = paths[lib];\n",
       "        s.async = true;\n",
       "        s.onload = () => resolve(paths[lib]);\n",
       "        s.onerror = () => reject(`Error loading script: ${paths[lib]}`);\n",
       "        document.getElementsByTagName(\"head\")[0].appendChild(s);\n",
       "      });\n",
       "    }\n",
       "\n",
       "    function showError(err) {\n",
       "      outputDiv.innerHTML = `<div class=\"error\" style=\"color:red;\">${err}</div>`;\n",
       "      throw err;\n",
       "    }\n",
       "\n",
       "    function displayChart(vegaEmbed) {\n",
       "      vegaEmbed(outputDiv, spec, embedOpt)\n",
       "        .catch(err => showError(`Javascript Error: ${err.message}<br>This usually means there's a typo in your chart specification. See the javascript console for the full traceback.`));\n",
       "    }\n",
       "\n",
       "    if(typeof define === \"function\" && define.amd) {\n",
       "      requirejs.config({paths});\n",
       "      require([\"vega-embed\"], displayChart, err => showError(`Error loading script: ${err.message}`));\n",
       "    } else if (typeof vegaEmbed === \"function\") {\n",
       "      displayChart(vegaEmbed);\n",
       "    } else {\n",
       "      loadScript(\"vega\")\n",
       "        .then(() => loadScript(\"vega-lite\"))\n",
       "        .then(() => loadScript(\"vega-embed\"))\n",
       "        .catch(showError)\n",
       "        .then(() => displayChart(vegaEmbed));\n",
       "    }\n",
       "  })({\"config\": {\"view\": {\"continuousWidth\": 400, \"continuousHeight\": 300}}, \"data\": {\"name\": \"data-07662e711ed2c2ecde565a6a66f7158f\"}, \"mark\": \"bar\", \"encoding\": {\"tooltip\": [{\"type\": \"temporal\", \"field\": \"date\"}, {\"type\": \"quantitative\", \"field\": \"count\"}], \"x\": {\"type\": \"temporal\", \"field\": \"date\"}, \"y\": {\"type\": \"quantitative\", \"field\": \"count\"}}, \"width\": 800, \"$schema\": \"https://vega.github.io/schema/vega-lite/v4.8.1.json\", \"datasets\": {\"data-07662e711ed2c2ecde565a6a66f7158f\": [{\"date\": \"2000-01-03T00:00:00\", \"count\": 4}, {\"date\": \"2000-01-04T00:00:00\", \"count\": 34}, {\"date\": \"2000-01-05T00:00:00\", \"count\": 48}, {\"date\": \"2000-01-06T00:00:00\", \"count\": 59}, {\"date\": \"2000-01-07T00:00:00\", \"count\": 44}, {\"date\": \"2000-01-08T00:00:00\", \"count\": 11}, {\"date\": \"2000-01-10T00:00:00\", \"count\": 66}, {\"date\": \"2000-01-11T00:00:00\", \"count\": 46}, {\"date\": \"2000-01-12T00:00:00\", \"count\": 37}, {\"date\": \"2000-01-13T00:00:00\", \"count\": 49}, {\"date\": \"2000-01-14T00:00:00\", \"count\": 24}, {\"date\": \"2000-01-16T00:00:00\", \"count\": 5}, {\"date\": \"2000-01-17T00:00:00\", \"count\": 53}, {\"date\": \"2000-01-18T00:00:00\", \"count\": 88}, {\"date\": \"2000-01-19T00:00:00\", \"count\": 9}, {\"date\": \"2000-01-20T00:00:00\", \"count\": 26}, {\"date\": \"2000-01-21T00:00:00\", \"count\": 59}, {\"date\": \"2000-01-22T00:00:00\", \"count\": 6}, {\"date\": \"2000-01-23T00:00:00\", \"count\": 3}, {\"date\": \"2000-01-24T00:00:00\", \"count\": 52}, {\"date\": \"2000-01-25T00:00:00\", \"count\": 58}, {\"date\": \"2000-01-26T00:00:00\", \"count\": 51}, {\"date\": \"2000-01-27T00:00:00\", \"count\": 53}, {\"date\": \"2000-01-28T00:00:00\", \"count\": 23}, {\"date\": \"2000-01-29T00:00:00\", \"count\": 2}, {\"date\": \"2000-01-30T00:00:00\", \"count\": 2}, {\"date\": \"2000-01-31T00:00:00\", \"count\": 75}, {\"date\": \"2000-02-01T00:00:00\", \"count\": 60}, {\"date\": \"2000-02-02T00:00:00\", \"count\": 69}, {\"date\": \"2000-02-03T00:00:00\", \"count\": 17}, {\"date\": \"2000-02-04T00:00:00\", \"count\": 56}, {\"date\": \"2000-02-05T00:00:00\", \"count\": 4}, {\"date\": \"2000-02-06T00:00:00\", \"count\": 4}, {\"date\": \"2000-02-07T00:00:00\", \"count\": 80}, {\"date\": \"2000-02-08T00:00:00\", \"count\": 51}, {\"date\": \"2000-02-09T00:00:00\", \"count\": 66}, {\"date\": \"2000-02-10T00:00:00\", \"count\": 67}, {\"date\": \"2000-02-11T00:00:00\", \"count\": 42}, {\"date\": \"2000-02-12T00:00:00\", \"count\": 2}, {\"date\": \"2000-02-13T00:00:00\", \"count\": 8}, {\"date\": \"2000-02-14T00:00:00\", \"count\": 39}, {\"date\": \"2000-02-15T00:00:00\", \"count\": 48}, {\"date\": \"2000-02-16T00:00:00\", \"count\": 26}, {\"date\": \"2000-02-17T00:00:00\", \"count\": 58}, {\"date\": \"2000-02-18T00:00:00\", \"count\": 67}, {\"date\": \"2000-02-19T00:00:00\", \"count\": 3}, {\"date\": \"2000-02-20T00:00:00\", \"count\": 5}, {\"date\": \"2000-02-21T00:00:00\", \"count\": 7}, {\"date\": \"2000-02-22T00:00:00\", \"count\": 50}, {\"date\": \"2000-02-23T00:00:00\", \"count\": 61}, {\"date\": \"2000-02-24T00:00:00\", \"count\": 47}, {\"date\": \"2000-02-25T00:00:00\", \"count\": 57}, {\"date\": \"2000-02-27T00:00:00\", \"count\": 2}, {\"date\": \"2000-02-28T00:00:00\", \"count\": 72}, {\"date\": \"2000-02-29T00:00:00\", \"count\": 44}, {\"date\": \"2000-03-01T00:00:00\", \"count\": 44}, {\"date\": \"2000-03-02T00:00:00\", \"count\": 74}, {\"date\": \"2000-03-03T00:00:00\", \"count\": 71}, {\"date\": \"2000-03-04T00:00:00\", \"count\": 4}, {\"date\": \"2000-03-05T00:00:00\", \"count\": 3}, {\"date\": \"2000-03-06T00:00:00\", \"count\": 39}, {\"date\": \"2000-03-07T00:00:00\", \"count\": 37}, {\"date\": \"2000-03-08T00:00:00\", \"count\": 47}, {\"date\": \"2000-03-09T00:00:00\", \"count\": 76}, {\"date\": \"2000-03-10T00:00:00\", \"count\": 81}, {\"date\": \"2000-03-13T00:00:00\", \"count\": 58}, {\"date\": \"2000-03-14T00:00:00\", \"count\": 98}, {\"date\": \"2000-03-15T00:00:00\", \"count\": 50}, {\"date\": \"2000-03-16T00:00:00\", \"count\": 44}, {\"date\": \"2000-03-17T00:00:00\", \"count\": 37}, {\"date\": \"2000-03-18T00:00:00\", \"count\": 3}, {\"date\": \"2000-03-19T00:00:00\", \"count\": 3}, {\"date\": \"2000-03-20T00:00:00\", \"count\": 80}, {\"date\": \"2000-03-21T00:00:00\", \"count\": 55}, {\"date\": \"2000-03-22T00:00:00\", \"count\": 54}, {\"date\": \"2000-03-23T00:00:00\", \"count\": 50}, {\"date\": \"2000-03-24T00:00:00\", \"count\": 26}, {\"date\": \"2000-03-27T00:00:00\", \"count\": 77}, {\"date\": \"2000-03-28T00:00:00\", \"count\": 74}, {\"date\": \"2000-03-29T00:00:00\", \"count\": 56}, {\"date\": \"2000-03-30T00:00:00\", \"count\": 36}, {\"date\": \"2000-03-31T00:00:00\", \"count\": 32}, {\"date\": \"2000-04-02T00:00:00\", \"count\": 3}, {\"date\": \"2000-04-03T00:00:00\", \"count\": 89}, {\"date\": \"2000-04-04T00:00:00\", \"count\": 46}, {\"date\": \"2000-04-05T00:00:00\", \"count\": 62}, {\"date\": \"2000-04-06T00:00:00\", \"count\": 66}, {\"date\": \"2000-04-07T00:00:00\", \"count\": 40}, {\"date\": \"2000-04-09T00:00:00\", \"count\": 11}, {\"date\": \"2000-04-10T00:00:00\", \"count\": 62}, {\"date\": \"2000-04-11T00:00:00\", \"count\": 52}, {\"date\": \"2000-04-12T00:00:00\", \"count\": 25}, {\"date\": \"2000-04-13T00:00:00\", \"count\": 56}, {\"date\": \"2000-04-14T00:00:00\", \"count\": 58}, {\"date\": \"2000-04-16T00:00:00\", \"count\": 14}, {\"date\": \"2000-04-17T00:00:00\", \"count\": 51}, {\"date\": \"2000-04-18T00:00:00\", \"count\": 54}, {\"date\": \"2000-04-19T00:00:00\", \"count\": 35}, {\"date\": \"2000-04-20T00:00:00\", \"count\": 57}, {\"date\": \"2000-04-21T00:00:00\", \"count\": 32}, {\"date\": \"2000-04-23T00:00:00\", \"count\": 2}, {\"date\": \"2000-04-24T00:00:00\", \"count\": 61}, {\"date\": \"2000-04-25T00:00:00\", \"count\": 68}, {\"date\": \"2000-04-26T00:00:00\", \"count\": 72}, {\"date\": \"2000-04-27T00:00:00\", \"count\": 70}, {\"date\": \"2000-04-28T00:00:00\", \"count\": 58}, {\"date\": \"2000-04-29T00:00:00\", \"count\": 2}, {\"date\": \"2000-04-30T00:00:00\", \"count\": 7}, {\"date\": \"2000-05-01T00:00:00\", \"count\": 79}, {\"date\": \"2000-05-02T00:00:00\", \"count\": 54}, {\"date\": \"2000-05-03T00:00:00\", \"count\": 45}, {\"date\": \"2000-05-04T00:00:00\", \"count\": 48}, {\"date\": \"2000-05-05T00:00:00\", \"count\": 35}, {\"date\": \"2000-05-06T00:00:00\", \"count\": 12}, {\"date\": \"2000-05-07T00:00:00\", \"count\": 10}, {\"date\": \"2000-05-08T00:00:00\", \"count\": 94}, {\"date\": \"2000-05-09T00:00:00\", \"count\": 74}, {\"date\": \"2000-05-10T00:00:00\", \"count\": 51}, {\"date\": \"2000-05-11T00:00:00\", \"count\": 90}, {\"date\": \"2000-05-12T00:00:00\", \"count\": 70}, {\"date\": \"2000-05-13T00:00:00\", \"count\": 8}, {\"date\": \"2000-05-14T00:00:00\", \"count\": 6}, {\"date\": \"2000-05-15T00:00:00\", \"count\": 114}, {\"date\": \"2000-05-16T00:00:00\", \"count\": 100}, {\"date\": \"2000-05-17T00:00:00\", \"count\": 97}, {\"date\": \"2000-05-18T00:00:00\", \"count\": 61}, {\"date\": \"2000-05-19T00:00:00\", \"count\": 99}, {\"date\": \"2000-05-22T00:00:00\", \"count\": 110}, {\"date\": \"2000-05-23T00:00:00\", \"count\": 64}, {\"date\": \"2000-05-24T00:00:00\", \"count\": 49}, {\"date\": \"2000-05-25T00:00:00\", \"count\": 72}, {\"date\": \"2000-05-26T00:00:00\", \"count\": 75}, {\"date\": \"2000-05-29T00:00:00\", \"count\": 9}, {\"date\": \"2000-05-30T00:00:00\", \"count\": 55}, {\"date\": \"2000-05-31T00:00:00\", \"count\": 49}, {\"date\": \"2000-06-01T00:00:00\", \"count\": 83}, {\"date\": \"2000-06-02T00:00:00\", \"count\": 75}, {\"date\": \"2000-06-04T00:00:00\", \"count\": 7}, {\"date\": \"2000-06-05T00:00:00\", \"count\": 91}, {\"date\": \"2000-06-06T00:00:00\", \"count\": 84}, {\"date\": \"2000-06-07T00:00:00\", \"count\": 55}, {\"date\": \"2000-06-08T00:00:00\", \"count\": 98}, {\"date\": \"2000-06-09T00:00:00\", \"count\": 113}, {\"date\": \"2000-06-10T00:00:00\", \"count\": 3}, {\"date\": \"2000-06-11T00:00:00\", \"count\": 2}, {\"date\": \"2000-06-12T00:00:00\", \"count\": 117}, {\"date\": \"2000-06-13T00:00:00\", \"count\": 95}, {\"date\": \"2000-06-14T00:00:00\", \"count\": 96}, {\"date\": \"2000-06-15T00:00:00\", \"count\": 107}, {\"date\": \"2000-06-16T00:00:00\", \"count\": 68}, {\"date\": \"2000-06-17T00:00:00\", \"count\": 47}, {\"date\": \"2000-06-18T00:00:00\", \"count\": 8}, {\"date\": \"2000-06-19T00:00:00\", \"count\": 69}, {\"date\": \"2000-06-20T00:00:00\", \"count\": 78}, {\"date\": \"2000-06-21T00:00:00\", \"count\": 76}, {\"date\": \"2000-06-22T00:00:00\", \"count\": 78}, {\"date\": \"2000-06-23T00:00:00\", \"count\": 115}, {\"date\": \"2000-06-25T00:00:00\", \"count\": 5}, {\"date\": \"2000-06-26T00:00:00\", \"count\": 148}, {\"date\": \"2000-06-27T00:00:00\", \"count\": 137}, {\"date\": \"2000-06-28T00:00:00\", \"count\": 115}, {\"date\": \"2000-06-29T00:00:00\", \"count\": 144}, {\"date\": \"2000-06-30T00:00:00\", \"count\": 179}, {\"date\": \"2000-07-03T00:00:00\", \"count\": 16}, {\"date\": \"2000-07-04T00:00:00\", \"count\": 9}, {\"date\": \"2000-07-05T00:00:00\", \"count\": 107}, {\"date\": \"2000-07-06T00:00:00\", \"count\": 64}, {\"date\": \"2000-07-07T00:00:00\", \"count\": 93}, {\"date\": \"2000-07-08T00:00:00\", \"count\": 7}, {\"date\": \"2000-07-09T00:00:00\", \"count\": 4}, {\"date\": \"2000-07-10T00:00:00\", \"count\": 159}, {\"date\": \"2000-07-11T00:00:00\", \"count\": 136}, {\"date\": \"2000-07-12T00:00:00\", \"count\": 112}, {\"date\": \"2000-07-13T00:00:00\", \"count\": 104}, {\"date\": \"2000-07-14T00:00:00\", \"count\": 96}, {\"date\": \"2000-07-15T00:00:00\", \"count\": 18}, {\"date\": \"2000-07-17T00:00:00\", \"count\": 138}, {\"date\": \"2000-07-18T00:00:00\", \"count\": 58}, {\"date\": \"2000-07-19T00:00:00\", \"count\": 153}, {\"date\": \"2000-07-20T00:00:00\", \"count\": 101}, {\"date\": \"2000-07-21T00:00:00\", \"count\": 71}, {\"date\": \"2000-07-23T00:00:00\", \"count\": 12}, {\"date\": \"2000-07-24T00:00:00\", \"count\": 72}, {\"date\": \"2000-07-25T00:00:00\", \"count\": 110}, {\"date\": \"2000-07-26T00:00:00\", \"count\": 77}, {\"date\": \"2000-07-27T00:00:00\", \"count\": 65}, {\"date\": \"2000-07-28T00:00:00\", \"count\": 51}, {\"date\": \"2000-07-30T00:00:00\", \"count\": 4}, {\"date\": \"2000-07-31T00:00:00\", \"count\": 126}, {\"date\": \"2000-08-01T00:00:00\", \"count\": 107}, {\"date\": \"2000-08-02T00:00:00\", \"count\": 77}, {\"date\": \"2000-08-03T00:00:00\", \"count\": 138}, {\"date\": \"2000-08-04T00:00:00\", \"count\": 81}, {\"date\": \"2000-08-05T00:00:00\", \"count\": 7}, {\"date\": \"2000-08-07T00:00:00\", \"count\": 124}, {\"date\": \"2000-08-08T00:00:00\", \"count\": 90}, {\"date\": \"2000-08-09T00:00:00\", \"count\": 124}, {\"date\": \"2000-08-10T00:00:00\", \"count\": 114}, {\"date\": \"2000-08-11T00:00:00\", \"count\": 141}, {\"date\": \"2000-08-12T00:00:00\", \"count\": 7}, {\"date\": \"2000-08-13T00:00:00\", \"count\": 4}, {\"date\": \"2000-08-14T00:00:00\", \"count\": 108}, {\"date\": \"2000-08-15T00:00:00\", \"count\": 144}, {\"date\": \"2000-08-16T00:00:00\", \"count\": 192}, {\"date\": \"2000-08-17T00:00:00\", \"count\": 187}, {\"date\": \"2000-08-18T00:00:00\", \"count\": 136}, {\"date\": \"2000-08-19T00:00:00\", \"count\": 6}, {\"date\": \"2000-08-20T00:00:00\", \"count\": 25}, {\"date\": \"2000-08-21T00:00:00\", \"count\": 204}, {\"date\": \"2000-08-22T00:00:00\", \"count\": 155}, {\"date\": \"2000-08-23T00:00:00\", \"count\": 224}, {\"date\": \"2000-08-24T00:00:00\", \"count\": 242}, {\"date\": \"2000-08-25T00:00:00\", \"count\": 281}, {\"date\": \"2000-08-26T00:00:00\", \"count\": 19}, {\"date\": \"2000-08-27T00:00:00\", \"count\": 26}, {\"date\": \"2000-08-28T00:00:00\", \"count\": 287}, {\"date\": \"2000-08-29T00:00:00\", \"count\": 304}, {\"date\": \"2000-08-30T00:00:00\", \"count\": 208}, {\"date\": \"2000-08-31T00:00:00\", \"count\": 301}, {\"date\": \"2000-09-01T00:00:00\", \"count\": 180}, {\"date\": \"2000-09-02T00:00:00\", \"count\": 18}, {\"date\": \"2000-09-04T00:00:00\", \"count\": 21}, {\"date\": \"2000-09-05T00:00:00\", \"count\": 333}, {\"date\": \"2000-09-06T00:00:00\", \"count\": 318}, {\"date\": \"2000-09-07T00:00:00\", \"count\": 275}, {\"date\": \"2000-09-08T00:00:00\", \"count\": 235}, {\"date\": \"2000-09-09T00:00:00\", \"count\": 20}, {\"date\": \"2000-09-10T00:00:00\", \"count\": 43}, {\"date\": \"2000-09-11T00:00:00\", \"count\": 188}, {\"date\": \"2000-09-12T00:00:00\", \"count\": 190}, {\"date\": \"2000-09-13T00:00:00\", \"count\": 209}, {\"date\": \"2000-09-14T00:00:00\", \"count\": 222}, {\"date\": \"2000-09-15T00:00:00\", \"count\": 200}, {\"date\": \"2000-09-16T00:00:00\", \"count\": 19}, {\"date\": \"2000-09-17T00:00:00\", \"count\": 21}, {\"date\": \"2000-09-18T00:00:00\", \"count\": 181}, {\"date\": \"2000-09-19T00:00:00\", \"count\": 143}, {\"date\": \"2000-09-20T00:00:00\", \"count\": 207}, {\"date\": \"2000-09-21T00:00:00\", \"count\": 171}, {\"date\": \"2000-09-22T00:00:00\", \"count\": 217}, {\"date\": \"2000-09-23T00:00:00\", \"count\": 5}, {\"date\": \"2000-09-24T00:00:00\", \"count\": 16}, {\"date\": \"2000-09-25T00:00:00\", \"count\": 310}, {\"date\": \"2000-09-26T00:00:00\", \"count\": 285}, {\"date\": \"2000-09-27T00:00:00\", \"count\": 309}, {\"date\": \"2000-09-28T00:00:00\", \"count\": 221}, {\"date\": \"2000-09-29T00:00:00\", \"count\": 185}, {\"date\": \"2000-09-30T00:00:00\", \"count\": 8}, {\"date\": \"2000-10-01T00:00:00\", \"count\": 10}, {\"date\": \"2000-10-02T00:00:00\", \"count\": 210}, {\"date\": \"2000-10-03T00:00:00\", \"count\": 185}, {\"date\": \"2000-10-04T00:00:00\", \"count\": 195}, {\"date\": \"2000-10-05T00:00:00\", \"count\": 166}, {\"date\": \"2000-10-06T00:00:00\", \"count\": 247}, {\"date\": \"2000-10-07T00:00:00\", \"count\": 22}, {\"date\": \"2000-10-08T00:00:00\", \"count\": 28}, {\"date\": \"2000-10-09T00:00:00\", \"count\": 315}, {\"date\": \"2000-10-10T00:00:00\", \"count\": 253}, {\"date\": \"2000-10-11T00:00:00\", \"count\": 242}, {\"date\": \"2000-10-12T00:00:00\", \"count\": 256}, {\"date\": \"2000-10-13T00:00:00\", \"count\": 196}, {\"date\": \"2000-10-14T00:00:00\", \"count\": 19}, {\"date\": \"2000-10-15T00:00:00\", \"count\": 14}, {\"date\": \"2000-10-16T00:00:00\", \"count\": 166}, {\"date\": \"2000-10-17T00:00:00\", \"count\": 261}, {\"date\": \"2000-10-18T00:00:00\", \"count\": 269}, {\"date\": \"2000-10-19T00:00:00\", \"count\": 217}, {\"date\": \"2000-10-20T00:00:00\", \"count\": 195}, {\"date\": \"2000-10-21T00:00:00\", \"count\": 6}, {\"date\": \"2000-10-22T00:00:00\", \"count\": 28}, {\"date\": \"2000-10-23T00:00:00\", \"count\": 156}, {\"date\": \"2000-10-24T00:00:00\", \"count\": 257}, {\"date\": \"2000-10-25T00:00:00\", \"count\": 220}, {\"date\": \"2000-10-26T00:00:00\", \"count\": 256}, {\"date\": \"2000-10-27T00:00:00\", \"count\": 227}, {\"date\": \"2000-10-28T00:00:00\", \"count\": 48}, {\"date\": \"2000-10-29T00:00:00\", \"count\": 10}, {\"date\": \"2000-10-30T00:00:00\", \"count\": 224}, {\"date\": \"2000-10-31T00:00:00\", \"count\": 203}, {\"date\": \"2000-11-01T00:00:00\", \"count\": 338}, {\"date\": \"2000-11-02T00:00:00\", \"count\": 266}, {\"date\": \"2000-11-03T00:00:00\", \"count\": 323}, {\"date\": \"2000-11-04T00:00:00\", \"count\": 48}, {\"date\": \"2000-11-05T00:00:00\", \"count\": 23}, {\"date\": \"2000-11-06T00:00:00\", \"count\": 373}, {\"date\": \"2000-11-07T00:00:00\", \"count\": 363}, {\"date\": \"2000-11-08T00:00:00\", \"count\": 318}, {\"date\": \"2000-11-09T00:00:00\", \"count\": 406}, {\"date\": \"2000-11-10T00:00:00\", \"count\": 369}, {\"date\": \"2000-11-11T00:00:00\", \"count\": 42}, {\"date\": \"2000-11-12T00:00:00\", \"count\": 63}, {\"date\": \"2000-11-13T00:00:00\", \"count\": 420}, {\"date\": \"2000-11-14T00:00:00\", \"count\": 408}, {\"date\": \"2000-11-15T00:00:00\", \"count\": 469}, {\"date\": \"2000-11-16T00:00:00\", \"count\": 507}, {\"date\": \"2000-11-17T00:00:00\", \"count\": 408}, {\"date\": \"2000-11-18T00:00:00\", \"count\": 51}, {\"date\": \"2000-11-19T00:00:00\", \"count\": 53}, {\"date\": \"2000-11-20T00:00:00\", \"count\": 364}, {\"date\": \"2000-11-21T00:00:00\", \"count\": 413}, {\"date\": \"2000-11-22T00:00:00\", \"count\": 286}, {\"date\": \"2000-11-23T00:00:00\", \"count\": 32}, {\"date\": \"2000-11-24T00:00:00\", \"count\": 26}, {\"date\": \"2000-11-25T00:00:00\", \"count\": 10}, {\"date\": \"2000-11-26T00:00:00\", \"count\": 55}, {\"date\": \"2000-11-27T00:00:00\", \"count\": 350}, {\"date\": \"2000-11-28T00:00:00\", \"count\": 464}, {\"date\": \"2000-11-29T00:00:00\", \"count\": 544}, {\"date\": \"2000-11-30T00:00:00\", \"count\": 541}, {\"date\": \"2000-12-01T00:00:00\", \"count\": 466}, {\"date\": \"2000-12-02T00:00:00\", \"count\": 18}, {\"date\": \"2000-12-03T00:00:00\", \"count\": 93}, {\"date\": \"2000-12-04T00:00:00\", \"count\": 618}, {\"date\": \"2000-12-05T00:00:00\", \"count\": 444}, {\"date\": \"2000-12-06T00:00:00\", \"count\": 592}, {\"date\": \"2000-12-07T00:00:00\", \"count\": 543}, {\"date\": \"2000-12-08T00:00:00\", \"count\": 473}, {\"date\": \"2000-12-09T00:00:00\", \"count\": 45}, {\"date\": \"2000-12-10T00:00:00\", \"count\": 61}, {\"date\": \"2000-12-11T00:00:00\", \"count\": 661}, {\"date\": \"2000-12-12T00:00:00\", \"count\": 781}, {\"date\": \"2000-12-13T00:00:00\", \"count\": 910}, {\"date\": \"2000-12-14T00:00:00\", \"count\": 227}, {\"date\": \"2000-12-15T00:00:00\", \"count\": 127}, {\"date\": \"2000-12-16T00:00:00\", \"count\": 5}, {\"date\": \"2000-12-17T00:00:00\", \"count\": 28}, {\"date\": \"2000-12-18T00:00:00\", \"count\": 192}, {\"date\": \"2000-12-19T00:00:00\", \"count\": 149}, {\"date\": \"2000-12-20T00:00:00\", \"count\": 211}, {\"date\": \"2000-12-21T00:00:00\", \"count\": 131}, {\"date\": \"2000-12-22T00:00:00\", \"count\": 126}, {\"date\": \"2000-12-23T00:00:00\", \"count\": 5}, {\"date\": \"2000-12-25T00:00:00\", \"count\": 11}, {\"date\": \"2000-12-26T00:00:00\", \"count\": 54}, {\"date\": \"2000-12-27T00:00:00\", \"count\": 139}, {\"date\": \"2000-12-28T00:00:00\", \"count\": 132}, {\"date\": \"2000-12-29T00:00:00\", \"count\": 67}, {\"date\": \"2000-12-30T00:00:00\", \"count\": 4}, {\"date\": \"2000-12-31T00:00:00\", \"count\": 1}, {\"date\": \"2001-01-01T00:00:00\", \"count\": 34}, {\"date\": \"2001-01-02T00:00:00\", \"count\": 210}, {\"date\": \"2001-01-03T00:00:00\", \"count\": 223}, {\"date\": \"2001-01-04T00:00:00\", \"count\": 186}, {\"date\": \"2001-01-05T00:00:00\", \"count\": 182}, {\"date\": \"2001-01-06T00:00:00\", \"count\": 6}, {\"date\": \"2001-01-07T00:00:00\", \"count\": 23}, {\"date\": \"2001-01-08T00:00:00\", \"count\": 148}, {\"date\": \"2001-01-09T00:00:00\", \"count\": 139}, {\"date\": \"2001-01-10T00:00:00\", \"count\": 131}, {\"date\": \"2001-01-11T00:00:00\", \"count\": 152}, {\"date\": \"2001-01-12T00:00:00\", \"count\": 194}, {\"date\": \"2001-01-13T00:00:00\", \"count\": 17}, {\"date\": \"2001-01-14T00:00:00\", \"count\": 11}, {\"date\": \"2001-01-15T00:00:00\", \"count\": 65}, {\"date\": \"2001-01-16T00:00:00\", \"count\": 235}, {\"date\": \"2001-01-17T00:00:00\", \"count\": 160}, {\"date\": \"2001-01-18T00:00:00\", \"count\": 145}, {\"date\": \"2001-01-19T00:00:00\", \"count\": 153}, {\"date\": \"2001-01-20T00:00:00\", \"count\": 49}, {\"date\": \"2001-01-21T00:00:00\", \"count\": 44}, {\"date\": \"2001-01-22T00:00:00\", \"count\": 200}, {\"date\": \"2001-01-23T00:00:00\", \"count\": 236}, {\"date\": \"2001-01-24T00:00:00\", \"count\": 282}, {\"date\": \"2001-01-25T00:00:00\", \"count\": 181}, {\"date\": \"2001-01-26T00:00:00\", \"count\": 264}, {\"date\": \"2001-01-27T00:00:00\", \"count\": 19}, {\"date\": \"2001-01-28T00:00:00\", \"count\": 16}, {\"date\": \"2001-01-29T00:00:00\", \"count\": 153}, {\"date\": \"2001-01-30T00:00:00\", \"count\": 201}, {\"date\": \"2001-01-31T00:00:00\", \"count\": 248}, {\"date\": \"2001-02-01T00:00:00\", \"count\": 176}, {\"date\": \"2001-02-02T00:00:00\", \"count\": 237}, {\"date\": \"2001-02-03T00:00:00\", \"count\": 8}, {\"date\": \"2001-02-04T00:00:00\", \"count\": 28}, {\"date\": \"2001-02-05T00:00:00\", \"count\": 209}, {\"date\": \"2001-02-06T00:00:00\", \"count\": 321}, {\"date\": \"2001-02-07T00:00:00\", \"count\": 286}, {\"date\": \"2001-02-08T00:00:00\", \"count\": 179}, {\"date\": \"2001-02-09T00:00:00\", \"count\": 287}, {\"date\": \"2001-02-10T00:00:00\", \"count\": 10}, {\"date\": \"2001-02-11T00:00:00\", \"count\": 16}, {\"date\": \"2001-02-12T00:00:00\", \"count\": 169}, {\"date\": \"2001-02-13T00:00:00\", \"count\": 141}, {\"date\": \"2001-02-14T00:00:00\", \"count\": 235}, {\"date\": \"2001-02-15T00:00:00\", \"count\": 300}, {\"date\": \"2001-02-16T00:00:00\", \"count\": 136}, {\"date\": \"2001-02-17T00:00:00\", \"count\": 16}, {\"date\": \"2001-02-18T00:00:00\", \"count\": 31}, {\"date\": \"2001-02-19T00:00:00\", \"count\": 66}, {\"date\": \"2001-02-20T00:00:00\", \"count\": 274}, {\"date\": \"2001-02-21T00:00:00\", \"count\": 224}, {\"date\": \"2001-02-22T00:00:00\", \"count\": 182}, {\"date\": \"2001-02-23T00:00:00\", \"count\": 161}, {\"date\": \"2001-02-24T00:00:00\", \"count\": 25}, {\"date\": \"2001-02-25T00:00:00\", \"count\": 36}, {\"date\": \"2001-02-26T00:00:00\", \"count\": 155}, {\"date\": \"2001-02-27T00:00:00\", \"count\": 221}, {\"date\": \"2001-02-28T00:00:00\", \"count\": 171}, {\"date\": \"2001-03-01T00:00:00\", \"count\": 102}, {\"date\": \"2001-03-02T00:00:00\", \"count\": 182}, {\"date\": \"2001-03-03T00:00:00\", \"count\": 4}, {\"date\": \"2001-03-04T00:00:00\", \"count\": 18}, {\"date\": \"2001-03-05T00:00:00\", \"count\": 138}, {\"date\": \"2001-03-06T00:00:00\", \"count\": 214}, {\"date\": \"2001-03-07T00:00:00\", \"count\": 168}, {\"date\": \"2001-03-08T00:00:00\", \"count\": 174}, {\"date\": \"2001-03-09T00:00:00\", \"count\": 128}, {\"date\": \"2001-03-10T00:00:00\", \"count\": 15}, {\"date\": \"2001-03-11T00:00:00\", \"count\": 4}, {\"date\": \"2001-03-12T00:00:00\", \"count\": 180}, {\"date\": \"2001-03-13T00:00:00\", \"count\": 178}, {\"date\": \"2001-03-14T00:00:00\", \"count\": 196}, {\"date\": \"2001-03-15T00:00:00\", \"count\": 170}, {\"date\": \"2001-03-16T00:00:00\", \"count\": 118}, {\"date\": \"2001-03-17T00:00:00\", \"count\": 7}, {\"date\": \"2001-03-18T00:00:00\", \"count\": 19}, {\"date\": \"2001-03-19T00:00:00\", \"count\": 190}, {\"date\": \"2001-03-20T00:00:00\", \"count\": 299}, {\"date\": \"2001-03-21T00:00:00\", \"count\": 222}, {\"date\": \"2001-03-22T00:00:00\", \"count\": 113}, {\"date\": \"2001-03-23T00:00:00\", \"count\": 163}, {\"date\": \"2001-03-24T00:00:00\", \"count\": 17}, {\"date\": \"2001-03-25T00:00:00\", \"count\": 19}, {\"date\": \"2001-03-26T00:00:00\", \"count\": 175}, {\"date\": \"2001-03-27T00:00:00\", \"count\": 104}, {\"date\": \"2001-03-28T00:00:00\", \"count\": 123}, {\"date\": \"2001-03-29T00:00:00\", \"count\": 208}, {\"date\": \"2001-03-30T00:00:00\", \"count\": 158}, {\"date\": \"2001-03-31T00:00:00\", \"count\": 25}, {\"date\": \"2001-04-01T00:00:00\", \"count\": 2}, {\"date\": \"2001-04-02T00:00:00\", \"count\": 177}, {\"date\": \"2001-04-03T00:00:00\", \"count\": 225}, {\"date\": \"2001-04-04T00:00:00\", \"count\": 330}, {\"date\": \"2001-04-05T00:00:00\", \"count\": 191}, {\"date\": \"2001-04-06T00:00:00\", \"count\": 200}, {\"date\": \"2001-04-07T00:00:00\", \"count\": 18}, {\"date\": \"2001-04-08T00:00:00\", \"count\": 18}, {\"date\": \"2001-04-09T00:00:00\", \"count\": 294}, {\"date\": \"2001-04-10T00:00:00\", \"count\": 264}, {\"date\": \"2001-04-11T00:00:00\", \"count\": 263}, {\"date\": \"2001-04-12T00:00:00\", \"count\": 195}, {\"date\": \"2001-04-13T00:00:00\", \"count\": 166}, {\"date\": \"2001-04-14T00:00:00\", \"count\": 14}, {\"date\": \"2001-04-15T00:00:00\", \"count\": 34}, {\"date\": \"2001-04-16T00:00:00\", \"count\": 172}, {\"date\": \"2001-04-17T00:00:00\", \"count\": 149}, {\"date\": \"2001-04-18T00:00:00\", \"count\": 219}, {\"date\": \"2001-04-19T00:00:00\", \"count\": 271}, {\"date\": \"2001-04-20T00:00:00\", \"count\": 252}, {\"date\": \"2001-04-21T00:00:00\", \"count\": 28}, {\"date\": \"2001-04-22T00:00:00\", \"count\": 30}, {\"date\": \"2001-04-23T00:00:00\", \"count\": 342}, {\"date\": \"2001-04-24T00:00:00\", \"count\": 338}, {\"date\": \"2001-04-25T00:00:00\", \"count\": 375}, {\"date\": \"2001-04-26T00:00:00\", \"count\": 278}, {\"date\": \"2001-04-27T00:00:00\", \"count\": 303}, {\"date\": \"2001-04-28T00:00:00\", \"count\": 54}, {\"date\": \"2001-04-29T00:00:00\", \"count\": 47}, {\"date\": \"2001-04-30T00:00:00\", \"count\": 283}, {\"date\": \"2001-05-01T00:00:00\", \"count\": 284}, {\"date\": \"2001-05-02T00:00:00\", \"count\": 187}, {\"date\": \"2001-05-03T00:00:00\", \"count\": 172}, {\"date\": \"2001-05-04T00:00:00\", \"count\": 292}, {\"date\": \"2001-05-05T00:00:00\", \"count\": 7}, {\"date\": \"2001-05-06T00:00:00\", \"count\": 46}, {\"date\": \"2001-05-07T00:00:00\", \"count\": 327}, {\"date\": \"2001-05-08T00:00:00\", \"count\": 262}, {\"date\": \"2001-05-09T00:00:00\", \"count\": 274}, {\"date\": \"2001-05-10T00:00:00\", \"count\": 345}, {\"date\": \"2001-05-11T00:00:00\", \"count\": 416}, {\"date\": \"2001-05-12T00:00:00\", \"count\": 20}, {\"date\": \"2001-05-13T00:00:00\", \"count\": 138}, {\"date\": \"2001-05-14T00:00:00\", \"count\": 433}, {\"date\": \"2001-05-15T00:00:00\", \"count\": 364}, {\"date\": \"2001-05-16T00:00:00\", \"count\": 273}, {\"date\": \"2001-05-17T00:00:00\", \"count\": 230}, {\"date\": \"2001-05-18T00:00:00\", \"count\": 252}, {\"date\": \"2001-05-19T00:00:00\", \"count\": 12}, {\"date\": \"2001-05-20T00:00:00\", \"count\": 49}, {\"date\": \"2001-05-21T00:00:00\", \"count\": 279}, {\"date\": \"2001-05-22T00:00:00\", \"count\": 327}, {\"date\": \"2001-05-23T00:00:00\", \"count\": 340}, {\"date\": \"2001-05-24T00:00:00\", \"count\": 187}, {\"date\": \"2001-05-25T00:00:00\", \"count\": 109}, {\"date\": \"2001-05-26T00:00:00\", \"count\": 5}, {\"date\": \"2001-05-27T00:00:00\", \"count\": 2}, {\"date\": \"2001-05-28T00:00:00\", \"count\": 12}, {\"date\": \"2001-05-29T00:00:00\", \"count\": 253}, {\"date\": \"2001-05-30T00:00:00\", \"count\": 136}, {\"date\": \"2001-05-31T00:00:00\", \"count\": 202}, {\"date\": \"2001-06-01T00:00:00\", \"count\": 162}, {\"date\": \"2001-06-02T00:00:00\", \"count\": 6}, {\"date\": \"2001-06-03T00:00:00\", \"count\": 9}, {\"date\": \"2001-06-04T00:00:00\", \"count\": 139}, {\"date\": \"2001-06-05T00:00:00\", \"count\": 143}, {\"date\": \"2001-06-06T00:00:00\", \"count\": 213}, {\"date\": \"2001-06-07T00:00:00\", \"count\": 207}, {\"date\": \"2001-06-08T00:00:00\", \"count\": 132}, {\"date\": \"2001-06-09T00:00:00\", \"count\": 13}, {\"date\": \"2001-06-10T00:00:00\", \"count\": 16}, {\"date\": \"2001-06-11T00:00:00\", \"count\": 95}, {\"date\": \"2001-06-12T00:00:00\", \"count\": 83}, {\"date\": \"2001-06-13T00:00:00\", \"count\": 94}, {\"date\": \"2001-06-14T00:00:00\", \"count\": 74}, {\"date\": \"2001-06-15T00:00:00\", \"count\": 62}, {\"date\": \"2001-06-16T00:00:00\", \"count\": 5}, {\"date\": \"2001-06-17T00:00:00\", \"count\": 2}, {\"date\": \"2001-06-18T00:00:00\", \"count\": 176}, {\"date\": \"2001-06-19T00:00:00\", \"count\": 116}, {\"date\": \"2001-06-20T00:00:00\", \"count\": 111}, {\"date\": \"2001-06-21T00:00:00\", \"count\": 95}, {\"date\": \"2001-06-22T00:00:00\", \"count\": 94}, {\"date\": \"2001-06-23T00:00:00\", \"count\": 8}, {\"date\": \"2001-06-24T00:00:00\", \"count\": 44}, {\"date\": \"2001-06-25T00:00:00\", \"count\": 137}, {\"date\": \"2001-06-26T00:00:00\", \"count\": 112}, {\"date\": \"2001-06-27T00:00:00\", \"count\": 1184}, {\"date\": \"2001-06-28T00:00:00\", \"count\": 67}, {\"date\": \"2001-06-29T00:00:00\", \"count\": 65}, {\"date\": \"2001-06-30T00:00:00\", \"count\": 12}, {\"date\": \"2001-07-01T00:00:00\", \"count\": 8}, {\"date\": \"2001-07-02T00:00:00\", \"count\": 93}, {\"date\": \"2001-07-03T00:00:00\", \"count\": 94}, {\"date\": \"2001-07-04T00:00:00\", \"count\": 11}, {\"date\": \"2001-07-05T00:00:00\", \"count\": 141}, {\"date\": \"2001-07-06T00:00:00\", \"count\": 168}, {\"date\": \"2001-07-07T00:00:00\", \"count\": 13}, {\"date\": \"2001-07-08T00:00:00\", \"count\": 41}, {\"date\": \"2001-07-09T00:00:00\", \"count\": 153}, {\"date\": \"2001-07-10T00:00:00\", \"count\": 248}, {\"date\": \"2001-07-11T00:00:00\", \"count\": 243}, {\"date\": \"2001-07-12T00:00:00\", \"count\": 132}, {\"date\": \"2001-07-13T00:00:00\", \"count\": 168}, {\"date\": \"2001-07-14T00:00:00\", \"count\": 21}, {\"date\": \"2001-07-15T00:00:00\", \"count\": 8}, {\"date\": \"2001-07-16T00:00:00\", \"count\": 156}, {\"date\": \"2001-07-17T00:00:00\", \"count\": 208}, {\"date\": \"2001-07-18T00:00:00\", \"count\": 181}, {\"date\": \"2001-07-19T00:00:00\", \"count\": 147}, {\"date\": \"2001-07-20T00:00:00\", \"count\": 122}, {\"date\": \"2001-07-21T00:00:00\", \"count\": 30}, {\"date\": \"2001-07-22T00:00:00\", \"count\": 8}, {\"date\": \"2001-07-23T00:00:00\", \"count\": 127}, {\"date\": \"2001-07-24T00:00:00\", \"count\": 192}, {\"date\": \"2001-07-25T00:00:00\", \"count\": 130}, {\"date\": \"2001-07-26T00:00:00\", \"count\": 164}, {\"date\": \"2001-07-27T00:00:00\", \"count\": 99}, {\"date\": \"2001-07-28T00:00:00\", \"count\": 20}, {\"date\": \"2001-07-29T00:00:00\", \"count\": 11}, {\"date\": \"2001-07-30T00:00:00\", \"count\": 305}, {\"date\": \"2001-07-31T00:00:00\", \"count\": 207}, {\"date\": \"2001-08-01T00:00:00\", \"count\": 77}, {\"date\": \"2001-08-02T00:00:00\", \"count\": 62}, {\"date\": \"2001-08-03T00:00:00\", \"count\": 51}, {\"date\": \"2001-08-04T00:00:00\", \"count\": 5}, {\"date\": \"2001-08-05T00:00:00\", \"count\": 6}, {\"date\": \"2001-08-06T00:00:00\", \"count\": 74}, {\"date\": \"2001-08-07T00:00:00\", \"count\": 83}, {\"date\": \"2001-08-08T00:00:00\", \"count\": 65}, {\"date\": \"2001-08-09T00:00:00\", \"count\": 91}, {\"date\": \"2001-08-10T00:00:00\", \"count\": 106}, {\"date\": \"2001-08-11T00:00:00\", \"count\": 4}, {\"date\": \"2001-08-12T00:00:00\", \"count\": 4}, {\"date\": \"2001-08-13T00:00:00\", \"count\": 73}, {\"date\": \"2001-08-14T00:00:00\", \"count\": 126}, {\"date\": \"2001-08-15T00:00:00\", \"count\": 74}, {\"date\": \"2001-08-16T00:00:00\", \"count\": 69}, {\"date\": \"2001-08-17T00:00:00\", \"count\": 69}, {\"date\": \"2001-08-18T00:00:00\", \"count\": 16}, {\"date\": \"2001-08-19T00:00:00\", \"count\": 7}, {\"date\": \"2001-08-20T00:00:00\", \"count\": 99}, {\"date\": \"2001-08-21T00:00:00\", \"count\": 104}, {\"date\": \"2001-08-22T00:00:00\", \"count\": 80}, {\"date\": \"2001-08-23T00:00:00\", \"count\": 97}, {\"date\": \"2001-08-24T00:00:00\", \"count\": 88}, {\"date\": \"2001-08-25T00:00:00\", \"count\": 8}, {\"date\": \"2001-08-26T00:00:00\", \"count\": 12}, {\"date\": \"2001-08-27T00:00:00\", \"count\": 129}, {\"date\": \"2001-08-28T00:00:00\", \"count\": 148}, {\"date\": \"2001-08-29T00:00:00\", \"count\": 102}, {\"date\": \"2001-08-30T00:00:00\", \"count\": 126}, {\"date\": \"2001-08-31T00:00:00\", \"count\": 123}, {\"date\": \"2001-09-01T00:00:00\", \"count\": 12}, {\"date\": \"2001-09-02T00:00:00\", \"count\": 6}, {\"date\": \"2001-09-03T00:00:00\", \"count\": 16}, {\"date\": \"2001-09-04T00:00:00\", \"count\": 103}, {\"date\": \"2001-09-05T00:00:00\", \"count\": 134}, {\"date\": \"2001-09-06T00:00:00\", \"count\": 92}, {\"date\": \"2001-09-07T00:00:00\", \"count\": 120}, {\"date\": \"2001-09-08T00:00:00\", \"count\": 18}, {\"date\": \"2001-09-09T00:00:00\", \"count\": 15}, {\"date\": \"2001-09-10T00:00:00\", \"count\": 166}, {\"date\": \"2001-09-11T00:00:00\", \"count\": 71}, {\"date\": \"2001-09-12T00:00:00\", \"count\": 142}, {\"date\": \"2001-09-13T00:00:00\", \"count\": 141}, {\"date\": \"2001-09-14T00:00:00\", \"count\": 127}, {\"date\": \"2001-09-15T00:00:00\", \"count\": 16}, {\"date\": \"2001-09-16T00:00:00\", \"count\": 12}, {\"date\": \"2001-09-17T00:00:00\", \"count\": 160}, {\"date\": \"2001-09-18T00:00:00\", \"count\": 167}, {\"date\": \"2001-09-19T00:00:00\", \"count\": 175}, {\"date\": \"2001-09-20T00:00:00\", \"count\": 168}, {\"date\": \"2001-09-21T00:00:00\", \"count\": 154}, {\"date\": \"2001-09-22T00:00:00\", \"count\": 25}, {\"date\": \"2001-09-23T00:00:00\", \"count\": 8}, {\"date\": \"2001-09-24T00:00:00\", \"count\": 163}, {\"date\": \"2001-09-25T00:00:00\", \"count\": 194}, {\"date\": \"2001-09-26T00:00:00\", \"count\": 218}, {\"date\": \"2001-09-27T00:00:00\", \"count\": 261}, {\"date\": \"2001-09-28T00:00:00\", \"count\": 189}, {\"date\": \"2001-09-29T00:00:00\", \"count\": 11}, {\"date\": \"2001-09-30T00:00:00\", \"count\": 9}, {\"date\": \"2001-10-01T00:00:00\", \"count\": 199}, {\"date\": \"2001-10-02T00:00:00\", \"count\": 231}, {\"date\": \"2001-10-03T00:00:00\", \"count\": 190}, {\"date\": \"2001-10-04T00:00:00\", \"count\": 139}, {\"date\": \"2001-10-05T00:00:00\", \"count\": 246}, {\"date\": \"2001-10-06T00:00:00\", \"count\": 36}, {\"date\": \"2001-10-07T00:00:00\", \"count\": 55}, {\"date\": \"2001-10-08T00:00:00\", \"count\": 215}, {\"date\": \"2001-10-09T00:00:00\", \"count\": 308}, {\"date\": \"2001-10-10T00:00:00\", \"count\": 260}, {\"date\": \"2001-10-11T00:00:00\", \"count\": 277}, {\"date\": \"2001-10-12T00:00:00\", \"count\": 218}, {\"date\": \"2001-10-13T00:00:00\", \"count\": 41}, {\"date\": \"2001-10-14T00:00:00\", \"count\": 35}, {\"date\": \"2001-10-15T00:00:00\", \"count\": 301}, {\"date\": \"2001-10-16T00:00:00\", \"count\": 340}, {\"date\": \"2001-10-17T00:00:00\", \"count\": 383}, {\"date\": \"2001-10-18T00:00:00\", \"count\": 542}, {\"date\": \"2001-10-19T00:00:00\", \"count\": 393}, {\"date\": \"2001-10-20T00:00:00\", \"count\": 82}, {\"date\": \"2001-10-21T00:00:00\", \"count\": 56}, {\"date\": \"2001-10-22T00:00:00\", \"count\": 490}, {\"date\": \"2001-10-23T00:00:00\", \"count\": 485}, {\"date\": \"2001-10-24T00:00:00\", \"count\": 477}, {\"date\": \"2001-10-25T00:00:00\", \"count\": 558}, {\"date\": \"2001-10-26T00:00:00\", \"count\": 542}, {\"date\": \"2001-10-27T00:00:00\", \"count\": 123}, {\"date\": \"2001-10-28T00:00:00\", \"count\": 93}, {\"date\": \"2001-10-29T00:00:00\", \"count\": 474}, {\"date\": \"2001-10-30T00:00:00\", \"count\": 251}, {\"date\": \"2001-10-31T00:00:00\", \"count\": 180}, {\"date\": \"2001-11-01T00:00:00\", \"count\": 139}, {\"date\": \"2001-11-02T00:00:00\", \"count\": 206}, {\"date\": \"2001-11-03T00:00:00\", \"count\": 25}, {\"date\": \"2001-11-04T00:00:00\", \"count\": 9}, {\"date\": \"2001-11-05T00:00:00\", \"count\": 172}, {\"date\": \"2001-11-06T00:00:00\", \"count\": 197}, {\"date\": \"2001-11-07T00:00:00\", \"count\": 190}, {\"date\": \"2001-11-08T00:00:00\", \"count\": 201}, {\"date\": \"2001-11-09T00:00:00\", \"count\": 148}, {\"date\": \"2001-11-10T00:00:00\", \"count\": 18}, {\"date\": \"2001-11-11T00:00:00\", \"count\": 26}, {\"date\": \"2001-11-12T00:00:00\", \"count\": 149}, {\"date\": \"2001-11-13T00:00:00\", \"count\": 203}, {\"date\": \"2001-11-14T00:00:00\", \"count\": 236}, {\"date\": \"2001-11-15T00:00:00\", \"count\": 323}, {\"date\": \"2001-11-16T00:00:00\", \"count\": 335}, {\"date\": \"2001-11-17T00:00:00\", \"count\": 91}, {\"date\": \"2001-11-18T00:00:00\", \"count\": 56}, {\"date\": \"2001-11-19T00:00:00\", \"count\": 528}, {\"date\": \"2001-11-20T00:00:00\", \"count\": 448}, {\"date\": \"2001-11-21T00:00:00\", \"count\": 447}, {\"date\": \"2001-11-22T00:00:00\", \"count\": 87}, {\"date\": \"2001-11-23T00:00:00\", \"count\": 59}, {\"date\": \"2001-11-24T00:00:00\", \"count\": 46}, {\"date\": \"2001-11-25T00:00:00\", \"count\": 82}, {\"date\": \"2001-11-26T00:00:00\", \"count\": 483}, {\"date\": \"2001-11-27T00:00:00\", \"count\": 539}, {\"date\": \"2001-11-28T00:00:00\", \"count\": 182}, {\"date\": \"2001-11-29T00:00:00\", \"count\": 165}, {\"date\": \"2001-11-30T00:00:00\", \"count\": 128}, {\"date\": \"2001-12-01T00:00:00\", \"count\": 26}, {\"date\": \"2001-12-02T00:00:00\", \"count\": 19}, {\"date\": \"2001-12-03T00:00:00\", \"count\": 90}, {\"date\": \"2001-12-04T00:00:00\", \"count\": 111}, {\"date\": \"2001-12-05T00:00:00\", \"count\": 107}, {\"date\": \"2001-12-06T00:00:00\", \"count\": 100}, {\"date\": \"2001-12-07T00:00:00\", \"count\": 95}, {\"date\": \"2001-12-08T00:00:00\", \"count\": 16}, {\"date\": \"2001-12-09T00:00:00\", \"count\": 24}, {\"date\": \"2001-12-10T00:00:00\", \"count\": 91}, {\"date\": \"2001-12-11T00:00:00\", \"count\": 126}, {\"date\": \"2001-12-12T00:00:00\", \"count\": 137}, {\"date\": \"2001-12-13T00:00:00\", \"count\": 130}, {\"date\": \"2001-12-14T00:00:00\", \"count\": 104}, {\"date\": \"2001-12-15T00:00:00\", \"count\": 18}, {\"date\": \"2001-12-16T00:00:00\", \"count\": 15}, {\"date\": \"2001-12-17T00:00:00\", \"count\": 149}, {\"date\": \"2001-12-18T00:00:00\", \"count\": 80}, {\"date\": \"2001-12-19T00:00:00\", \"count\": 173}, {\"date\": \"2001-12-20T00:00:00\", \"count\": 155}, {\"date\": \"2001-12-21T00:00:00\", \"count\": 141}, {\"date\": \"2001-12-22T00:00:00\", \"count\": 49}, {\"date\": \"2001-12-23T00:00:00\", \"count\": 35}, {\"date\": \"2001-12-24T00:00:00\", \"count\": 61}, {\"date\": \"2001-12-25T00:00:00\", \"count\": 47}, {\"date\": \"2001-12-26T00:00:00\", \"count\": 125}, {\"date\": \"2001-12-27T00:00:00\", \"count\": 174}, {\"date\": \"2001-12-28T00:00:00\", \"count\": 187}, {\"date\": \"2001-12-29T00:00:00\", \"count\": 51}, {\"date\": \"2001-12-30T00:00:00\", \"count\": 45}, {\"date\": \"2001-12-31T00:00:00\", \"count\": 138}, {\"date\": \"2002-01-01T00:00:00\", \"count\": 45}, {\"date\": \"2002-01-02T00:00:00\", \"count\": 102}, {\"date\": \"2002-01-03T00:00:00\", \"count\": 78}, {\"date\": \"2002-01-04T00:00:00\", \"count\": 112}, {\"date\": \"2002-01-05T00:00:00\", \"count\": 22}, {\"date\": \"2002-01-06T00:00:00\", \"count\": 6}, {\"date\": \"2002-01-07T00:00:00\", \"count\": 99}, {\"date\": \"2002-01-08T00:00:00\", \"count\": 105}, {\"date\": \"2002-01-09T00:00:00\", \"count\": 120}, {\"date\": \"2002-01-10T00:00:00\", \"count\": 155}, {\"date\": \"2002-01-11T00:00:00\", \"count\": 152}, {\"date\": \"2002-01-12T00:00:00\", \"count\": 19}, {\"date\": \"2002-01-13T00:00:00\", \"count\": 11}, {\"date\": \"2002-01-14T00:00:00\", \"count\": 121}, {\"date\": \"2002-01-15T00:00:00\", \"count\": 143}, {\"date\": \"2002-01-16T00:00:00\", \"count\": 157}, {\"date\": \"2002-01-17T00:00:00\", \"count\": 155}, {\"date\": \"2002-01-18T00:00:00\", \"count\": 115}, {\"date\": \"2002-01-19T00:00:00\", \"count\": 15}, {\"date\": \"2002-01-20T00:00:00\", \"count\": 11}, {\"date\": \"2002-01-21T00:00:00\", \"count\": 48}, {\"date\": \"2002-01-22T00:00:00\", \"count\": 127}, {\"date\": \"2002-01-23T00:00:00\", \"count\": 138}, {\"date\": \"2002-01-24T00:00:00\", \"count\": 161}, {\"date\": \"2002-01-25T00:00:00\", \"count\": 160}, {\"date\": \"2002-01-26T00:00:00\", \"count\": 32}, {\"date\": \"2002-01-27T00:00:00\", \"count\": 12}, {\"date\": \"2002-01-28T00:00:00\", \"count\": 127}, {\"date\": \"2002-01-29T00:00:00\", \"count\": 182}, {\"date\": \"2002-01-30T00:00:00\", \"count\": 189}, {\"date\": \"2002-01-31T00:00:00\", \"count\": 130}, {\"date\": \"2002-02-01T00:00:00\", \"count\": 126}, {\"date\": \"2002-02-02T00:00:00\", \"count\": 14}, {\"date\": \"2002-02-03T00:00:00\", \"count\": 7}, {\"date\": \"2002-02-04T00:00:00\", \"count\": 122}, {\"date\": \"2002-02-05T00:00:00\", \"count\": 173}, {\"date\": \"2002-02-06T00:00:00\", \"count\": 135}, {\"date\": \"2002-02-07T00:00:00\", \"count\": 95}, {\"date\": \"2002-02-08T00:00:00\", \"count\": 43}, {\"date\": \"2002-02-09T00:00:00\", \"count\": 5}, {\"date\": \"2002-02-10T00:00:00\", \"count\": 3}, {\"date\": \"2002-02-11T00:00:00\", \"count\": 50}, {\"date\": \"2002-02-12T00:00:00\", \"count\": 68}, {\"date\": \"2002-02-13T00:00:00\", \"count\": 65}, {\"date\": \"2002-02-14T00:00:00\", \"count\": 58}, {\"date\": \"2002-02-15T00:00:00\", \"count\": 53}, {\"date\": \"2002-02-16T00:00:00\", \"count\": 3}, {\"date\": \"2002-02-18T00:00:00\", \"count\": 3}, {\"date\": \"2002-02-19T00:00:00\", \"count\": 41}, {\"date\": \"2002-02-20T00:00:00\", \"count\": 31}, {\"date\": \"2002-02-21T00:00:00\", \"count\": 50}, {\"date\": \"2002-02-22T00:00:00\", \"count\": 57}, {\"date\": \"2002-02-23T00:00:00\", \"count\": 2}, {\"date\": \"2002-02-24T00:00:00\", \"count\": 3}, {\"date\": \"2002-02-25T00:00:00\", \"count\": 64}, {\"date\": \"2002-02-26T00:00:00\", \"count\": 76}, {\"date\": \"2002-02-27T00:00:00\", \"count\": 55}, {\"date\": \"2002-02-28T00:00:00\", \"count\": 47}, {\"date\": \"2002-03-01T00:00:00\", \"count\": 22}, {\"date\": \"2002-03-04T00:00:00\", \"count\": 36}, {\"date\": \"2002-03-05T00:00:00\", \"count\": 37}, {\"date\": \"2002-03-06T00:00:00\", \"count\": 67}, {\"date\": \"2002-03-07T00:00:00\", \"count\": 83}, {\"date\": \"2002-03-08T00:00:00\", \"count\": 59}, {\"date\": \"2002-03-09T00:00:00\", \"count\": 2}, {\"date\": \"2002-03-10T00:00:00\", \"count\": 1}, {\"date\": \"2002-03-11T00:00:00\", \"count\": 28}, {\"date\": \"2002-03-12T00:00:00\", \"count\": 28}, {\"date\": \"2002-03-13T00:00:00\", \"count\": 24}, {\"date\": \"2002-03-14T00:00:00\", \"count\": 33}, {\"date\": \"2002-03-15T00:00:00\", \"count\": 29}, {\"date\": \"2002-03-16T00:00:00\", \"count\": 3}, {\"date\": \"2002-03-17T00:00:00\", \"count\": 1}, {\"date\": \"2002-03-18T00:00:00\", \"count\": 33}, {\"date\": \"2002-03-19T00:00:00\", \"count\": 25}, {\"date\": \"2002-03-20T00:00:00\", \"count\": 37}, {\"date\": \"2002-03-21T00:00:00\", \"count\": 16}, {\"date\": \"2002-03-22T00:00:00\", \"count\": 18}, {\"date\": \"2002-03-23T00:00:00\", \"count\": 1}, {\"date\": \"2002-03-24T00:00:00\", \"count\": 2}, {\"date\": \"2002-03-25T00:00:00\", \"count\": 37}, {\"date\": \"2002-03-26T00:00:00\", \"count\": 4}]}}, {\"mode\": \"vega-lite\"});\n",
       "</script>"
      ],
      "text/plain": [
       "alt.Chart(...)"
      ]
     },
     "execution_count": 29,
     "metadata": {},
     "output_type": "execute_result"
    }
   ],
   "source": [
    "import altair as alt\n",
    "\n",
    "alt.Chart(pivot).mark_bar().encode(\n",
    "    x='date',\n",
    "    y='count',\n",
    "    tooltip=['date','count'],\n",
    ").properties(width=800)"
   ]
  },
  {
   "cell_type": "markdown",
   "metadata": {},
   "source": [
    "### Dimension temps"
   ]
  },
  {
   "cell_type": "markdown",
   "metadata": {},
   "source": [
    "##### Heure"
   ]
  },
  {
   "cell_type": "code",
   "execution_count": 30,
   "metadata": {},
   "outputs": [],
   "source": [
    "dataset['Hour'] = dataset['Date'].apply(lambda x: x.hour)"
   ]
  },
  {
   "cell_type": "markdown",
   "metadata": {},
   "source": [
    "##### Jour"
   ]
  },
  {
   "cell_type": "code",
   "execution_count": 31,
   "metadata": {},
   "outputs": [],
   "source": [
    "dataset['Day'] = dataset['Date'].apply(lambda x: x.day)"
   ]
  },
  {
   "cell_type": "markdown",
   "metadata": {},
   "source": [
    "##### Mois"
   ]
  },
  {
   "cell_type": "code",
   "execution_count": 32,
   "metadata": {},
   "outputs": [],
   "source": [
    "dataset['Month'] = dataset['Date'].apply(lambda x: x.month)"
   ]
  },
  {
   "cell_type": "markdown",
   "metadata": {},
   "source": [
    "##### Année"
   ]
  },
  {
   "cell_type": "code",
   "execution_count": 33,
   "metadata": {},
   "outputs": [],
   "source": [
    "dataset['Year'] = dataset['Date'].apply(lambda x: x.year)"
   ]
  },
  {
   "cell_type": "markdown",
   "metadata": {},
   "source": [
    "##### Moment de la journée"
   ]
  },
  {
   "cell_type": "code",
   "execution_count": 34,
   "metadata": {},
   "outputs": [
    {
     "name": "stderr",
     "output_type": "stream",
     "text": [
      "<ipython-input-34-23737d490466>:10: SettingWithCopyWarning: \n",
      "A value is trying to be set on a copy of a slice from a DataFrame\n",
      "\n",
      "See the caveats in the documentation: https://pandas.pydata.org/pandas-docs/stable/user_guide/indexing.html#returning-a-view-versus-a-copy\n",
      "  dataset[\"Moment\"][i] = \"evening\"\n",
      "<ipython-input-34-23737d490466>:6: SettingWithCopyWarning: \n",
      "A value is trying to be set on a copy of a slice from a DataFrame\n",
      "\n",
      "See the caveats in the documentation: https://pandas.pydata.org/pandas-docs/stable/user_guide/indexing.html#returning-a-view-versus-a-copy\n",
      "  dataset[\"Moment\"][i] = \"morning\"\n",
      "<ipython-input-34-23737d490466>:8: SettingWithCopyWarning: \n",
      "A value is trying to be set on a copy of a slice from a DataFrame\n",
      "\n",
      "See the caveats in the documentation: https://pandas.pydata.org/pandas-docs/stable/user_guide/indexing.html#returning-a-view-versus-a-copy\n",
      "  dataset[\"Moment\"][i] = \"afternoon\"\n",
      "<ipython-input-34-23737d490466>:12: SettingWithCopyWarning: \n",
      "A value is trying to be set on a copy of a slice from a DataFrame\n",
      "\n",
      "See the caveats in the documentation: https://pandas.pydata.org/pandas-docs/stable/user_guide/indexing.html#returning-a-view-versus-a-copy\n",
      "  dataset[\"Moment\"][i] = \"night\"\n"
     ]
    }
   ],
   "source": [
    "def moment_of_the_day(dataset):\n",
    "    dataset[\"Moment\"] = None\n",
    "    for i in range(len(dataset.Date)):\n",
    "        hour = int(dataset.Date[i].hour)\n",
    "        if(hour >= 6 and hour < 12):\n",
    "            dataset[\"Moment\"][i] = \"morning\"\n",
    "        if(hour >= 12 and hour < 18):\n",
    "            dataset[\"Moment\"][i] = \"afternoon\"\n",
    "        if(hour >= 18 and hour < 24):\n",
    "            dataset[\"Moment\"][i] = \"evening\"\n",
    "        if(hour >= 0 and hour < 6):\n",
    "            dataset[\"Moment\"][i] = \"night\"\n",
    "\n",
    "moment_of_the_day(dataset)"
   ]
  },
  {
   "cell_type": "markdown",
   "metadata": {},
   "source": [
    "### Mail de réunion"
   ]
  },
  {
   "cell_type": "code",
   "execution_count": 35,
   "metadata": {},
   "outputs": [
    {
     "name": "stderr",
     "output_type": "stream",
     "text": [
      "<ipython-input-35-2294c3227bfe>:9: SettingWithCopyWarning: \n",
      "A value is trying to be set on a copy of a slice from a DataFrame\n",
      "\n",
      "See the caveats in the documentation: https://pandas.pydata.org/pandas-docs/stable/user_guide/indexing.html#returning-a-view-versus-a-copy\n",
      "  dataset[\"Meetings\"][i] = \"False\"\n",
      "<ipython-input-35-2294c3227bfe>:7: SettingWithCopyWarning: \n",
      "A value is trying to be set on a copy of a slice from a DataFrame\n",
      "\n",
      "See the caveats in the documentation: https://pandas.pydata.org/pandas-docs/stable/user_guide/indexing.html#returning-a-view-versus-a-copy\n",
      "  dataset[\"Meetings\"][i] = \"True\"\n"
     ]
    }
   ],
   "source": [
    "def meeting (dataset):\n",
    "    dataset[\"content\"] = dataset[\"content\"].astype(str)\n",
    "    dataset[\"Subject\"] = dataset[\"Subject\"].astype(str)\n",
    "    dataset[\"Meetings\"] = None\n",
    "    for i in range(len(dataset.content)):\n",
    "        if ((dataset.content[i].lower().find(\"meeting\") != -1) or (dataset.Subject[i].lower().find(\"meeting\") != -1) or (dataset.content[i].lower().find(\"meetings\") != -1) or (dataset.Subject[i].lower().find(\"meetings\") != -1) or (dataset.Subject[i].lower().find(\"meeting\") != -1) or (dataset.content[i].lower().find(\"appointment\") != -1) or (dataset.Subject[i].lower().find(\"appointment\") != -1)):\n",
    "            dataset[\"Meetings\"][i] = \"True\"\n",
    "        else :\n",
    "            dataset[\"Meetings\"][i] = \"False\"\n",
    "meeting(dataset)"
   ]
  },
  {
   "cell_type": "markdown",
   "metadata": {},
   "source": [
    "### Mail important"
   ]
  },
  {
   "cell_type": "code",
   "execution_count": 36,
   "metadata": {},
   "outputs": [
    {
     "name": "stderr",
     "output_type": "stream",
     "text": [
      "<ipython-input-36-7cdb0a484db8>:7: SettingWithCopyWarning: \n",
      "A value is trying to be set on a copy of a slice from a DataFrame\n",
      "\n",
      "See the caveats in the documentation: https://pandas.pydata.org/pandas-docs/stable/user_guide/indexing.html#returning-a-view-versus-a-copy\n",
      "  dataset[\"Important\"][i] = \"False\"\n",
      "<ipython-input-36-7cdb0a484db8>:5: SettingWithCopyWarning: \n",
      "A value is trying to be set on a copy of a slice from a DataFrame\n",
      "\n",
      "See the caveats in the documentation: https://pandas.pydata.org/pandas-docs/stable/user_guide/indexing.html#returning-a-view-versus-a-copy\n",
      "  dataset[\"Important\"][i] = \"True\"\n"
     ]
    }
   ],
   "source": [
    "def important(dataset):\n",
    "    dataset[\"Important\"] = None\n",
    "    for i in range(len(dataset.content)):\n",
    "        if ((dataset.content[i].lower().find(\"urgent\") != -1) or (dataset.Subject[i].lower().find(\"urgent\") != -1) or (dataset.content[i].lower().find(\"important\") != -1) or (dataset.Subject[i].lower().find(\"important\") != -1) or (dataset.content[i].lower().find(\"quickly\") != -1) or (dataset.Subject[i].lower().find(\"quickly\") != -1)):\n",
    "            dataset[\"Important\"][i] = \"True\"\n",
    "        else :\n",
    "            dataset[\"Important\"][i] = \"False\"\n",
    "important(dataset)"
   ]
  },
  {
   "cell_type": "code",
   "execution_count": 37,
   "metadata": {},
   "outputs": [
    {
     "name": "stdout",
     "output_type": "stream",
     "text": [
      "Nombre de mails important :  7918 \n",
      "Nombre de mails pour reunions :  17456\n"
     ]
    }
   ],
   "source": [
    "nb_important = 0\n",
    "nb_meeting = 0\n",
    "\n",
    "for i in range(len(dataset)):\n",
    "    if dataset.Important[i] == \"True\":\n",
    "        nb_important += 1\n",
    "    if dataset.Meetings[i] == \"True\":\n",
    "        nb_meeting += 1\n",
    "print(\"Nombre de mails important : \",nb_important,\"\\nNombre de mails pour reunions : \",nb_meeting)"
   ]
  },
  {
   "cell_type": "code",
   "execution_count": 38,
   "metadata": {},
   "outputs": [
    {
     "name": "stdout",
     "output_type": "stream",
     "text": [
      "                                          Message-ID                Date  \\\n",
      "0      <18782981.1075855378110.JavaMail.evans@thyme> 2001-05-14 23:39:00   \n",
      "1      <15464986.1075855378456.JavaMail.evans@thyme> 2001-05-04 20:51:00   \n",
      "2      <24216240.1075855687451.JavaMail.evans@thyme> 2000-10-18 10:00:00   \n",
      "3      <13505866.1075863688222.JavaMail.evans@thyme> 2000-10-23 13:13:00   \n",
      "4      <30922949.1075863688243.JavaMail.evans@thyme> 2000-08-31 12:07:00   \n",
      "...                                              ...                 ...   \n",
      "99995  <29980890.1075854174209.JavaMail.evans@thyme> 1999-12-27 08:11:00   \n",
      "99996   <1928351.1075854174230.JavaMail.evans@thyme> 1999-12-22 07:14:00   \n",
      "99997  <29784936.1075854174252.JavaMail.evans@thyme> 1999-12-22 07:02:00   \n",
      "99998  <30410887.1075854174274.JavaMail.evans@thyme> 1999-12-22 06:52:00   \n",
      "99999  <14676125.1075854174296.JavaMail.evans@thyme> 1999-12-20 16:05:00   \n",
      "\n",
      "                            From                            To  \\\n",
      "0      'phillip.allen@enron.com'        'tim.belden@enron.com'   \n",
      "1      'phillip.allen@enron.com'     'john.lavorato@enron.com'   \n",
      "2      'phillip.allen@enron.com'      'leah.arsdall@enron.com'   \n",
      "3      'phillip.allen@enron.com'       'randall.gay@enron.com'   \n",
      "4      'phillip.allen@enron.com'        'greg.piper@enron.com'   \n",
      "...                          ...                           ...   \n",
      "99995   'daren.farmer@enron.com'  'carlos.rodriguez@enron.com'   \n",
      "99996   'daren.farmer@enron.com'     'stella.morris@enron.com'   \n",
      "99997   'daren.farmer@enron.com'      'aimee.lannou@enron.com'   \n",
      "99998   'daren.farmer@enron.com'        'pat.clynes@enron.com'   \n",
      "99999   'daren.farmer@enron.com'      'julie.meyers@enron.com'   \n",
      "\n",
      "                                           Subject X-cc X-bcc  \\\n",
      "0                                              nan  NaN   NaN   \n",
      "1                                              Re:  NaN   NaN   \n",
      "2                                         Re: test  NaN   NaN   \n",
      "3                                              nan  NaN   NaN   \n",
      "4                                        Re: Hello  NaN   NaN   \n",
      "...                                            ...  ...   ...   \n",
      "99995                  January Production Estimate  NaN   NaN   \n",
      "99996  Re: UA4 - Meter 1441 for 11/97 - Falfurrias  NaN   NaN   \n",
      "99997                              Re: tufco 11/99  NaN   NaN   \n",
      "99998                         Unify Close Schedule  NaN   NaN   \n",
      "99999                          Re: Evergreen deals  NaN   NaN   \n",
      "\n",
      "                                                X-Folder  X-Origin  \\\n",
      "0      \\Phillip_Allen_Jan2002_1\\Allen, Phillip K.\\'Se...   Allen-P   \n",
      "1      \\Phillip_Allen_Jan2002_1\\Allen, Phillip K.\\'Se...   Allen-P   \n",
      "2        \\Phillip_Allen_Dec2000\\Notes Folders\\'sent mail   Allen-P   \n",
      "3        \\Phillip_Allen_Dec2000\\Notes Folders\\'sent mail   Allen-P   \n",
      "4        \\Phillip_Allen_Dec2000\\Notes Folders\\'sent mail   Allen-P   \n",
      "...                                                  ...       ...   \n",
      "99995    \\Darren_Farmer_Dec2000\\Notes Folders\\'sent mail  Farmer-D   \n",
      "99996    \\Darren_Farmer_Dec2000\\Notes Folders\\'sent mail  Farmer-D   \n",
      "99997    \\Darren_Farmer_Dec2000\\Notes Folders\\'sent mail  Farmer-D   \n",
      "99998    \\Darren_Farmer_Dec2000\\Notes Folders\\'sent mail  Farmer-D   \n",
      "99999    \\Darren_Farmer_Dec2000\\Notes Folders\\'sent mail  Farmer-D   \n",
      "\n",
      "                                                 content  ...  \\\n",
      "0                                   Here is our forecast  ...   \n",
      "1      Traveling to have a business meeting takes the...  ...   \n",
      "2                          test successful. way to go!!!  ...   \n",
      "3      Randy, Can you send me a schedule of the salar...  ...   \n",
      "4                      Let's shoot for Tuesday at 11:45.  ...   \n",
      "...                                                  ...  ...   \n",
      "99995  ---------------------- Forwarded by Daren J Fa...  ...   \n",
      "99996  What occurred at this point in prior months? W...  ...   \n",
      "99997  Aimee, PG&E's numbers are correct. Aimee Lanno...  ...   \n",
      "99998  ---------------------- Forwarded by Daren J Fa...  ...   \n",
      "99999  Vintage should be 93730. Julie Meyers 12/20/99...  ...   \n",
      "\n",
      "      mail_direct_forwarded  mail_transmit_avec_commentaire  nb_cc  Hour  Day  \\\n",
      "0                         0                               0      0    23   14   \n",
      "1                         0                               0      0    20    4   \n",
      "2                         0                               0      0    10   18   \n",
      "3                         0                               0      0    13   23   \n",
      "4                         0                               0      0    12   31   \n",
      "...                     ...                             ...    ...   ...  ...   \n",
      "99995                     1                               1      0     8   27   \n",
      "99996                     0                               0      0     7   22   \n",
      "99997                     0                               0      0     7   22   \n",
      "99998                     1                               1      0     6   22   \n",
      "99999                     0                               0      0    16   20   \n",
      "\n",
      "       Month  Year     Moment  Meetings  Important  \n",
      "0          5  2001    evening     False      False  \n",
      "1          5  2001    evening      True      False  \n",
      "2         10  2000    morning     False      False  \n",
      "3         10  2000  afternoon     False      False  \n",
      "4          8  2000  afternoon     False      False  \n",
      "...      ...   ...        ...       ...        ...  \n",
      "99995     12  1999    morning     False      False  \n",
      "99996     12  1999    morning     False      False  \n",
      "99997     12  1999    morning     False      False  \n",
      "99998     12  1999    morning     False      False  \n",
      "99999     12  1999  afternoon     False      False  \n",
      "\n",
      "[100000 rows x 25 columns]\n"
     ]
    }
   ],
   "source": [
    "print(dataset)"
   ]
  },
  {
   "cell_type": "markdown",
   "metadata": {},
   "source": [
    "## Analyse des données"
   ]
  },
  {
   "cell_type": "code",
   "execution_count": 39,
   "metadata": {},
   "outputs": [
    {
     "data": {
      "text/html": [
       "<div>\n",
       "<style scoped>\n",
       "    .dataframe tbody tr th:only-of-type {\n",
       "        vertical-align: middle;\n",
       "    }\n",
       "\n",
       "    .dataframe tbody tr th {\n",
       "        vertical-align: top;\n",
       "    }\n",
       "\n",
       "    .dataframe thead th {\n",
       "        text-align: right;\n",
       "    }\n",
       "</style>\n",
       "<table border=\"1\" class=\"dataframe\">\n",
       "  <thead>\n",
       "    <tr style=\"text-align: right;\">\n",
       "      <th></th>\n",
       "      <th>Message-ID</th>\n",
       "      <th>Date</th>\n",
       "      <th>From</th>\n",
       "      <th>To</th>\n",
       "      <th>Subject</th>\n",
       "      <th>X-cc</th>\n",
       "      <th>X-bcc</th>\n",
       "      <th>X-Folder</th>\n",
       "      <th>X-Origin</th>\n",
       "      <th>content</th>\n",
       "      <th>...</th>\n",
       "      <th>mail_direct_forwarded</th>\n",
       "      <th>mail_transmit_avec_commentaire</th>\n",
       "      <th>nb_cc</th>\n",
       "      <th>Hour</th>\n",
       "      <th>Day</th>\n",
       "      <th>Month</th>\n",
       "      <th>Year</th>\n",
       "      <th>Moment</th>\n",
       "      <th>Meetings</th>\n",
       "      <th>Important</th>\n",
       "    </tr>\n",
       "  </thead>\n",
       "  <tbody>\n",
       "    <tr>\n",
       "      <th>0</th>\n",
       "      <td>&lt;18782981.1075855378110.JavaMail.evans@thyme&gt;</td>\n",
       "      <td>2001-05-14 23:39:00</td>\n",
       "      <td>'phillip.allen@enron.com'</td>\n",
       "      <td>'tim.belden@enron.com'</td>\n",
       "      <td>nan</td>\n",
       "      <td>NaN</td>\n",
       "      <td>NaN</td>\n",
       "      <td>\\Phillip_Allen_Jan2002_1\\Allen, Phillip K.\\'Se...</td>\n",
       "      <td>Allen-P</td>\n",
       "      <td>Here is our forecast</td>\n",
       "      <td>...</td>\n",
       "      <td>0</td>\n",
       "      <td>0</td>\n",
       "      <td>0</td>\n",
       "      <td>23</td>\n",
       "      <td>14</td>\n",
       "      <td>5</td>\n",
       "      <td>2001</td>\n",
       "      <td>evening</td>\n",
       "      <td>False</td>\n",
       "      <td>False</td>\n",
       "    </tr>\n",
       "    <tr>\n",
       "      <th>1</th>\n",
       "      <td>&lt;15464986.1075855378456.JavaMail.evans@thyme&gt;</td>\n",
       "      <td>2001-05-04 20:51:00</td>\n",
       "      <td>'phillip.allen@enron.com'</td>\n",
       "      <td>'john.lavorato@enron.com'</td>\n",
       "      <td>Re:</td>\n",
       "      <td>NaN</td>\n",
       "      <td>NaN</td>\n",
       "      <td>\\Phillip_Allen_Jan2002_1\\Allen, Phillip K.\\'Se...</td>\n",
       "      <td>Allen-P</td>\n",
       "      <td>Traveling to have a business meeting takes the...</td>\n",
       "      <td>...</td>\n",
       "      <td>0</td>\n",
       "      <td>0</td>\n",
       "      <td>0</td>\n",
       "      <td>20</td>\n",
       "      <td>4</td>\n",
       "      <td>5</td>\n",
       "      <td>2001</td>\n",
       "      <td>evening</td>\n",
       "      <td>True</td>\n",
       "      <td>False</td>\n",
       "    </tr>\n",
       "    <tr>\n",
       "      <th>2</th>\n",
       "      <td>&lt;24216240.1075855687451.JavaMail.evans@thyme&gt;</td>\n",
       "      <td>2000-10-18 10:00:00</td>\n",
       "      <td>'phillip.allen@enron.com'</td>\n",
       "      <td>'leah.arsdall@enron.com'</td>\n",
       "      <td>Re: test</td>\n",
       "      <td>NaN</td>\n",
       "      <td>NaN</td>\n",
       "      <td>\\Phillip_Allen_Dec2000\\Notes Folders\\'sent mail</td>\n",
       "      <td>Allen-P</td>\n",
       "      <td>test successful. way to go!!!</td>\n",
       "      <td>...</td>\n",
       "      <td>0</td>\n",
       "      <td>0</td>\n",
       "      <td>0</td>\n",
       "      <td>10</td>\n",
       "      <td>18</td>\n",
       "      <td>10</td>\n",
       "      <td>2000</td>\n",
       "      <td>morning</td>\n",
       "      <td>False</td>\n",
       "      <td>False</td>\n",
       "    </tr>\n",
       "    <tr>\n",
       "      <th>3</th>\n",
       "      <td>&lt;13505866.1075863688222.JavaMail.evans@thyme&gt;</td>\n",
       "      <td>2000-10-23 13:13:00</td>\n",
       "      <td>'phillip.allen@enron.com'</td>\n",
       "      <td>'randall.gay@enron.com'</td>\n",
       "      <td>nan</td>\n",
       "      <td>NaN</td>\n",
       "      <td>NaN</td>\n",
       "      <td>\\Phillip_Allen_Dec2000\\Notes Folders\\'sent mail</td>\n",
       "      <td>Allen-P</td>\n",
       "      <td>Randy, Can you send me a schedule of the salar...</td>\n",
       "      <td>...</td>\n",
       "      <td>0</td>\n",
       "      <td>0</td>\n",
       "      <td>0</td>\n",
       "      <td>13</td>\n",
       "      <td>23</td>\n",
       "      <td>10</td>\n",
       "      <td>2000</td>\n",
       "      <td>afternoon</td>\n",
       "      <td>False</td>\n",
       "      <td>False</td>\n",
       "    </tr>\n",
       "    <tr>\n",
       "      <th>4</th>\n",
       "      <td>&lt;30922949.1075863688243.JavaMail.evans@thyme&gt;</td>\n",
       "      <td>2000-08-31 12:07:00</td>\n",
       "      <td>'phillip.allen@enron.com'</td>\n",
       "      <td>'greg.piper@enron.com'</td>\n",
       "      <td>Re: Hello</td>\n",
       "      <td>NaN</td>\n",
       "      <td>NaN</td>\n",
       "      <td>\\Phillip_Allen_Dec2000\\Notes Folders\\'sent mail</td>\n",
       "      <td>Allen-P</td>\n",
       "      <td>Let's shoot for Tuesday at 11:45.</td>\n",
       "      <td>...</td>\n",
       "      <td>0</td>\n",
       "      <td>0</td>\n",
       "      <td>0</td>\n",
       "      <td>12</td>\n",
       "      <td>31</td>\n",
       "      <td>8</td>\n",
       "      <td>2000</td>\n",
       "      <td>afternoon</td>\n",
       "      <td>False</td>\n",
       "      <td>False</td>\n",
       "    </tr>\n",
       "  </tbody>\n",
       "</table>\n",
       "<p>5 rows × 25 columns</p>\n",
       "</div>"
      ],
      "text/plain": [
       "                                      Message-ID                Date  \\\n",
       "0  <18782981.1075855378110.JavaMail.evans@thyme> 2001-05-14 23:39:00   \n",
       "1  <15464986.1075855378456.JavaMail.evans@thyme> 2001-05-04 20:51:00   \n",
       "2  <24216240.1075855687451.JavaMail.evans@thyme> 2000-10-18 10:00:00   \n",
       "3  <13505866.1075863688222.JavaMail.evans@thyme> 2000-10-23 13:13:00   \n",
       "4  <30922949.1075863688243.JavaMail.evans@thyme> 2000-08-31 12:07:00   \n",
       "\n",
       "                        From                         To    Subject X-cc X-bcc  \\\n",
       "0  'phillip.allen@enron.com'     'tim.belden@enron.com'        nan  NaN   NaN   \n",
       "1  'phillip.allen@enron.com'  'john.lavorato@enron.com'        Re:  NaN   NaN   \n",
       "2  'phillip.allen@enron.com'   'leah.arsdall@enron.com'   Re: test  NaN   NaN   \n",
       "3  'phillip.allen@enron.com'    'randall.gay@enron.com'        nan  NaN   NaN   \n",
       "4  'phillip.allen@enron.com'     'greg.piper@enron.com'  Re: Hello  NaN   NaN   \n",
       "\n",
       "                                            X-Folder X-Origin  \\\n",
       "0  \\Phillip_Allen_Jan2002_1\\Allen, Phillip K.\\'Se...  Allen-P   \n",
       "1  \\Phillip_Allen_Jan2002_1\\Allen, Phillip K.\\'Se...  Allen-P   \n",
       "2    \\Phillip_Allen_Dec2000\\Notes Folders\\'sent mail  Allen-P   \n",
       "3    \\Phillip_Allen_Dec2000\\Notes Folders\\'sent mail  Allen-P   \n",
       "4    \\Phillip_Allen_Dec2000\\Notes Folders\\'sent mail  Allen-P   \n",
       "\n",
       "                                             content  ...  \\\n",
       "0                               Here is our forecast  ...   \n",
       "1  Traveling to have a business meeting takes the...  ...   \n",
       "2                      test successful. way to go!!!  ...   \n",
       "3  Randy, Can you send me a schedule of the salar...  ...   \n",
       "4                  Let's shoot for Tuesday at 11:45.  ...   \n",
       "\n",
       "  mail_direct_forwarded  mail_transmit_avec_commentaire  nb_cc  Hour  Day  \\\n",
       "0                     0                               0      0    23   14   \n",
       "1                     0                               0      0    20    4   \n",
       "2                     0                               0      0    10   18   \n",
       "3                     0                               0      0    13   23   \n",
       "4                     0                               0      0    12   31   \n",
       "\n",
       "   Month  Year     Moment  Meetings  Important  \n",
       "0      5  2001    evening     False      False  \n",
       "1      5  2001    evening      True      False  \n",
       "2     10  2000    morning     False      False  \n",
       "3     10  2000  afternoon     False      False  \n",
       "4      8  2000  afternoon     False      False  \n",
       "\n",
       "[5 rows x 25 columns]"
      ]
     },
     "execution_count": 39,
     "metadata": {},
     "output_type": "execute_result"
    }
   ],
   "source": [
    "dataset.head()"
   ]
  },
  {
   "cell_type": "code",
   "execution_count": null,
   "metadata": {},
   "outputs": [],
   "source": [
    "dataset_anova1 = dataset[['content_size','subject_size','Moment']]\n",
    "dataset_anova1_1 = dataset[['content_size','Moment']]\n",
    "dataset_anova1_2 = dataset[['subject_size','Moment']]"
   ]
  },
  {
   "cell_type": "code",
   "execution_count": null,
   "metadata": {},
   "outputs": [],
   "source": [
    "dataset_anova1.to_csv('/Users/pierreperrin/Desktop/IG4/semestre7/Projet_DataScience/anova1.csv', index=False)\n",
    "dataset_anova1_1.to_csv('/Users/pierreperrin/Desktop/IG4/semestre7/Projet_DataScience/anova1_1.csv', index=False)\n",
    "dataset_anova1_2.to_csv('/Users/pierreperrin/Desktop/IG4/semestre7/Projet_DataScience/anova1_2.csv', index=False)"
   ]
  },
  {
   "cell_type": "markdown",
   "metadata": {},
   "source": [
    "anova1_1 facteur content_size et moment\n",
    "le moment de la journée suivant lequel on envoit le mail influe sur la taille du mail -> afc pour voir le lien entre le moment de la journée et la taille (gros, petit, moyen)\n",
    "\n",
    "anova1_2 facteur subject_size et moment"
   ]
  },
  {
   "cell_type": "code",
   "execution_count": 49,
   "metadata": {},
   "outputs": [
    {
     "name": "stdout",
     "output_type": "stream",
     "text": [
      "Longueur moyenne : \n",
      " Le matin :  3096.008356655761  \n",
      " L'apres midi :  1816.2202328671485 \n",
      " Le soir :  1792.5379520520114 \n",
      " La nuit :  2241.311498754005\n"
     ]
    }
   ],
   "source": [
    "m_morning = 0\n",
    "m_afternoon = 0\n",
    "m_evening = 0\n",
    "m_night = 0\n",
    "nb_morning = 0\n",
    "nb_afternoon = 0\n",
    "nb_evening = 0\n",
    "nb_night = 0\n",
    "\n",
    "for i in range(len(dataset)):\n",
    "    if dataset.Moment[i] == \"morning\":\n",
    "        m_morning += 1\n",
    "        nb_morning += dataset.content_size[i]\n",
    "    elif dataset.Moment[i] == \"afternoon\":\n",
    "        m_afternoon += 1\n",
    "        nb_afternoon += dataset.content_size[i]\n",
    "    elif dataset.Moment[i] == \"evening\":\n",
    "        m_evening += 1\n",
    "        nb_evening += dataset.content_size[i]\n",
    "    elif dataset.Moment[i] == \"night\":\n",
    "        m_night += 1\n",
    "        nb_night += dataset.content_size[i]\n",
    "m_morning = nb_morning/m_morning\n",
    "m_afternoon = nb_afternoon/m_afternoon\n",
    "m_evening = nb_evening/m_evening\n",
    "m_night = nb_night/m_night\n",
    "    \n",
    "print(\"Longueur moyenne : \\n Le matin : \",m_morning,\" \\n L'apres midi : \",m_afternoon,\"\\n Le soir : \",m_evening,\"\\n La nuit : \",m_night)"
   ]
  },
  {
   "cell_type": "markdown",
   "metadata": {},
   "source": [
    "### Etude de correlation entre content_size et Important"
   ]
  },
  {
   "cell_type": "code",
   "execution_count": 43,
   "metadata": {},
   "outputs": [],
   "source": [
    "df = dataset[['content_size', 'Important']]"
   ]
  },
  {
   "cell_type": "markdown",
   "metadata": {},
   "source": [
    "#### Anova à un facteur"
   ]
  },
  {
   "cell_type": "code",
   "execution_count": 46,
   "metadata": {},
   "outputs": [
    {
     "data": {
      "text/html": [
       "<div>\n",
       "<style scoped>\n",
       "    .dataframe tbody tr th:only-of-type {\n",
       "        vertical-align: middle;\n",
       "    }\n",
       "\n",
       "    .dataframe tbody tr th {\n",
       "        vertical-align: top;\n",
       "    }\n",
       "\n",
       "    .dataframe thead th {\n",
       "        text-align: right;\n",
       "    }\n",
       "</style>\n",
       "<table border=\"1\" class=\"dataframe\">\n",
       "  <thead>\n",
       "    <tr style=\"text-align: right;\">\n",
       "      <th></th>\n",
       "      <th>sum_sq</th>\n",
       "      <th>df</th>\n",
       "      <th>F</th>\n",
       "      <th>PR(&gt;F)</th>\n",
       "    </tr>\n",
       "  </thead>\n",
       "  <tbody>\n",
       "    <tr>\n",
       "      <th>C(Important)</th>\n",
       "      <td>5.085989e+11</td>\n",
       "      <td>1.0</td>\n",
       "      <td>10330.047477</td>\n",
       "      <td>0.0</td>\n",
       "    </tr>\n",
       "    <tr>\n",
       "      <th>Residual</th>\n",
       "      <td>4.923392e+12</td>\n",
       "      <td>99998.0</td>\n",
       "      <td>NaN</td>\n",
       "      <td>NaN</td>\n",
       "    </tr>\n",
       "  </tbody>\n",
       "</table>\n",
       "</div>"
      ],
      "text/plain": [
       "                    sum_sq       df             F  PR(>F)\n",
       "C(Important)  5.085989e+11      1.0  10330.047477     0.0\n",
       "Residual      4.923392e+12  99998.0           NaN     NaN"
      ]
     },
     "execution_count": 46,
     "metadata": {},
     "output_type": "execute_result"
    }
   ],
   "source": [
    "import statsmodels.api as sm\n",
    "from statsmodels.formula.api import ols\n",
    "\n",
    "model = ols('content_size ~ C(Important)', data=df).fit()\n",
    "aov_table = sm.stats.anova_lm(model, typ=2)\n",
    "aov_table"
   ]
  },
  {
   "cell_type": "markdown",
   "metadata": {},
   "source": [
    "##### Interprétation des résultats"
   ]
  },
  {
   "cell_type": "markdown",
   "metadata": {},
   "source": [
    "TODO"
   ]
  },
  {
   "cell_type": "markdown",
   "metadata": {},
   "source": [
    "#### Vérification de l'hypothèse"
   ]
  },
  {
   "cell_type": "markdown",
   "metadata": {},
   "source": [
    "##### Test de Shapiro-Wilk"
   ]
  },
  {
   "cell_type": "markdown",
   "metadata": {},
   "source": [
    "L'hypothèse de normalité est testée sur les résidus du modèle lorsqu'il provient d'une ANOVA ou d'un cadre de régression. Une méthode pour tester l'hypothèse de normalité est le test de Shapiro-Wilk."
   ]
  },
  {
   "cell_type": "code",
   "execution_count": 47,
   "metadata": {},
   "outputs": [
    {
     "name": "stderr",
     "output_type": "stream",
     "text": [
      "c:\\users\\wiega\\appdata\\local\\programs\\python\\python38-32\\lib\\site-packages\\scipy\\stats\\morestats.py:1681: UserWarning: p-value may not be accurate for N > 5000.\n",
      "  warnings.warn(\"p-value may not be accurate for N > 5000.\")\n"
     ]
    },
    {
     "data": {
      "text/plain": [
       "ShapiroResult(statistic=0.2756330966949463, pvalue=0.0)"
      ]
     },
     "execution_count": 47,
     "metadata": {},
     "output_type": "execute_result"
    }
   ],
   "source": [
    "import scipy.stats as stats\n",
    "\n",
    "stats.shapiro(model.resid)"
   ]
  },
  {
   "cell_type": "markdown",
   "metadata": {},
   "source": [
    "##### Methode de vérification visuelle"
   ]
  },
  {
   "cell_type": "markdown",
   "metadata": {},
   "source": [
    "Méthode de vérification visuelle de la distribution consiste à utiliser un diagramme de probabilité avec ou sans valeur de corrélation, \n",
    "pour évaluer la corrélation des valeurs observées avec la distribution théorique en question."
   ]
  },
  {
   "cell_type": "code",
   "execution_count": 48,
   "metadata": {},
   "outputs": [
    {
     "data": {
      "image/png": "[encoded data removed]",
      "text/plain": [
       "<Figure size 720x720 with 1 Axes>"
      ]
     },
     "metadata": {
      "needs_background": "light"
     },
     "output_type": "display_data"
    }
   ],
   "source": [
    "import matplotlib.pyplot as plt\n",
    "\n",
    "fig = plt.figure(figsize= (10, 10))\n",
    "ax = fig.add_subplot(111)\n",
    "\n",
    "normality_plot, stat = stats.probplot(model.resid, plot= plt, rvalue= True)\n",
    "ax.set_title(\"Probability plot of model residual's\", fontsize= 20)\n",
    "ax.set\n",
    "\n",
    "plt.show()"
   ]
  },
  {
   "cell_type": "markdown",
   "metadata": {},
   "source": [
    "##### Homogenéité de la variance"
   ]
  },
  {
   "cell_type": "code",
   "execution_count": 50,
   "metadata": {},
   "outputs": [
    {
     "data": {
      "image/png": "[encoded data removed]",
      "text/plain": [
       "<Figure size 720x720 with 1 Axes>"
      ]
     },
     "metadata": {
      "needs_background": "light"
     },
     "output_type": "display_data"
    }
   ],
   "source": [
    "stats.levene(df['content_size'][df['Important'] == 'True'],\n",
    "             df['content_size'][df['Important'] == 'False'])\n",
    "\n",
    "fig = plt.figure(figsize= (10, 10))\n",
    "ax = fig.add_subplot(111)\n",
    "\n",
    "ax.set_title(\"Box Plot of content_size by Important\", fontsize= 20)\n",
    "ax.set\n",
    "\n",
    "data = [df['content_size'][df['Important'] == 'True'],\n",
    "        df['content_size'][df['Important'] == 'False']]\n",
    "\n",
    "ax.boxplot(data,\n",
    "           labels= ['True', 'False'],\n",
    "           showmeans= True)\n",
    "\n",
    "plt.xlabel(\"Important\")\n",
    "plt.ylabel(\"content_size\")\n",
    "\n",
    "plt.show()"
   ]
  },
  {
   "cell_type": "markdown",
   "metadata": {},
   "source": [
    "##### Interprétation"
   ]
  },
  {
   "cell_type": "markdown",
   "metadata": {},
   "source": [
    "TODO"
   ]
  },
  {
   "cell_type": "markdown",
   "metadata": {},
   "source": [
    "### Etude de correlation entre Moment de la journée et Important"
   ]
  },
  {
   "cell_type": "code",
   "execution_count": 55,
   "metadata": {},
   "outputs": [],
   "source": [
    "df = dataset[['Moment', 'Important']]"
   ]
  },
  {
   "cell_type": "markdown",
   "metadata": {},
   "source": [
    "#### Test du chi²"
   ]
  },
  {
   "cell_type": "code",
   "execution_count": 57,
   "metadata": {},
   "outputs": [
    {
     "name": "stdout",
     "output_type": "stream",
     "text": [
      "[[2170, 3095, 1937, 716], [23199, 41308, 22673, 4902]]\n",
      "p value is 1.4836661289012972e-53\n",
      "Dependent (reject H0)\n"
     ]
    },
    {
     "ename": "TypeError",
     "evalue": "'<' not supported between instances of 'str' and 'int'",
     "output_type": "error",
     "traceback": [
      "\u001b[1;31m---------------------------------------------------------------------------\u001b[0m",
      "\u001b[1;31mTypeError\u001b[0m                                 Traceback (most recent call last)",
      "\u001b[1;32m<ipython-input-57-7f7a9f8bb883>\u001b[0m in \u001b[0;36m<module>\u001b[1;34m\u001b[0m\n\u001b[0;32m     36\u001b[0m     \u001b[0mprint\u001b[0m\u001b[1;33m(\u001b[0m\u001b[1;34m'Independent (H0 holds true)'\u001b[0m\u001b[1;33m)\u001b[0m\u001b[1;33m\u001b[0m\u001b[1;33m\u001b[0m\u001b[0m\n\u001b[0;32m     37\u001b[0m \u001b[1;31m# defining the table\u001b[0m\u001b[1;33m\u001b[0m\u001b[1;33m\u001b[0m\u001b[1;33m\u001b[0m\u001b[0m\n\u001b[1;32m---> 38\u001b[1;33m \u001b[0mstat\u001b[0m\u001b[1;33m,\u001b[0m \u001b[0mp\u001b[0m\u001b[1;33m,\u001b[0m \u001b[0mdof\u001b[0m\u001b[1;33m,\u001b[0m \u001b[0mexpected\u001b[0m \u001b[1;33m=\u001b[0m \u001b[0mchi2_contingency\u001b[0m\u001b[1;33m(\u001b[0m\u001b[0mdf\u001b[0m\u001b[1;33m)\u001b[0m\u001b[1;33m\u001b[0m\u001b[1;33m\u001b[0m\u001b[0m\n\u001b[0m\u001b[0;32m     39\u001b[0m \u001b[1;33m\u001b[0m\u001b[0m\n\u001b[0;32m     40\u001b[0m \u001b[1;31m# interpret p-value\u001b[0m\u001b[1;33m\u001b[0m\u001b[1;33m\u001b[0m\u001b[1;33m\u001b[0m\u001b[0m\n",
      "\u001b[1;32mc:\\users\\wiega\\appdata\\local\\programs\\python\\python38-32\\lib\\site-packages\\scipy\\stats\\contingency.py\u001b[0m in \u001b[0;36mchi2_contingency\u001b[1;34m(observed, correction, lambda_)\u001b[0m\n\u001b[0;32m    240\u001b[0m     \"\"\"\n\u001b[0;32m    241\u001b[0m     \u001b[0mobserved\u001b[0m \u001b[1;33m=\u001b[0m \u001b[0mnp\u001b[0m\u001b[1;33m.\u001b[0m\u001b[0masarray\u001b[0m\u001b[1;33m(\u001b[0m\u001b[0mobserved\u001b[0m\u001b[1;33m)\u001b[0m\u001b[1;33m\u001b[0m\u001b[1;33m\u001b[0m\u001b[0m\n\u001b[1;32m--> 242\u001b[1;33m     \u001b[1;32mif\u001b[0m \u001b[0mnp\u001b[0m\u001b[1;33m.\u001b[0m\u001b[0many\u001b[0m\u001b[1;33m(\u001b[0m\u001b[0mobserved\u001b[0m \u001b[1;33m<\u001b[0m \u001b[1;36m0\u001b[0m\u001b[1;33m)\u001b[0m\u001b[1;33m:\u001b[0m\u001b[1;33m\u001b[0m\u001b[1;33m\u001b[0m\u001b[0m\n\u001b[0m\u001b[0;32m    243\u001b[0m         \u001b[1;32mraise\u001b[0m \u001b[0mValueError\u001b[0m\u001b[1;33m(\u001b[0m\u001b[1;34m\"All values in `observed` must be nonnegative.\"\u001b[0m\u001b[1;33m)\u001b[0m\u001b[1;33m\u001b[0m\u001b[1;33m\u001b[0m\u001b[0m\n\u001b[0;32m    244\u001b[0m     \u001b[1;32mif\u001b[0m \u001b[0mobserved\u001b[0m\u001b[1;33m.\u001b[0m\u001b[0msize\u001b[0m \u001b[1;33m==\u001b[0m \u001b[1;36m0\u001b[0m\u001b[1;33m:\u001b[0m\u001b[1;33m\u001b[0m\u001b[1;33m\u001b[0m\u001b[0m\n",
      "\u001b[1;31mTypeError\u001b[0m: '<' not supported between instances of 'str' and 'int'"
     ]
    }
   ],
   "source": [
    "from scipy.stats import chi2_contingency \n",
    "\n",
    "# set the real data table\n",
    "data = [[0, 0, 0, 0],[0, 0, 0, 0]]\n",
    "\n",
    "for i in range(len(df)):\n",
    "    if df.Important[i] == \"True\":\n",
    "        if df.Moment[i] == \"morning\":\n",
    "            data[0][0] += 1\n",
    "        if df.Moment[i] == \"afternoon\":\n",
    "            data[0][1] += 1\n",
    "        if df.Moment[i] == \"evening\":\n",
    "            data[0][2] += 1\n",
    "        if df.Moment[i] == \"night\":\n",
    "            data[0][3] += 1\n",
    "    if df.Important[i] == \"False\":\n",
    "        if df.Moment[i] == \"morning\":\n",
    "            data[1][0] += 1\n",
    "        if df.Moment[i] == \"afternoon\":\n",
    "            data[1][1] += 1\n",
    "        if df.Moment[i] == \"evening\":\n",
    "            data[1][2] += 1\n",
    "        if df.Moment[i] == \"night\":\n",
    "            data[1][3] += 1\n",
    "print (data)\n",
    "\n",
    "# defining the table \n",
    "stat, p, dof, expected = chi2_contingency(data) \n",
    "  \n",
    "# interpret p-value \n",
    "alpha = 0.05\n",
    "print(\"p value is \" + str(p)) \n",
    "if p <= alpha: \n",
    "    print('Dependent (reject H0)') \n",
    "else: \n",
    "    print('Independent (H0 holds true)') \n",
    "# defining the table \n",
    "stat, p, dof, expected = chi2_contingency(df) \n",
    "  \n",
    "# interpret p-value \n",
    "alpha = 0.05\n",
    "print(\"p value is \" + str(p))\n",
    "if p <= alpha:\n",
    "    print('Dependent (reject H0)') \n",
    "else: \n",
    "    print('Independent (H0 holds true)') "
   ]
  },
  {
   "cell_type": "markdown",
   "metadata": {},
   "source": [
    "#### Graphique"
   ]
  },
  {
   "cell_type": "code",
   "execution_count": 96,
   "metadata": {},
   "outputs": [
    {
     "name": "stdout",
     "output_type": "stream",
     "text": [
      "            morning  afternoon  evening  night\n",
      "Important      2170       3095     1937    716\n",
      "!Important    23199      41308    22673   4902\n",
      "           afternoon  evening  night\n",
      "# morning                           \n",
      "2170            3095     1937    716\n",
      "23199          41308    22673   4902\n"
     ]
    }
   ],
   "source": [
    "from fanalysis.ca import CA\n",
    "\n",
    "df = pd.DataFrame (data, index=['Important', '!Important'], columns=['morning', 'afternoon', 'evening', 'night'])\n",
    "print(df)\n",
    "np.savetxt('test.txt', df.values, fmt='%d', delimiter=\"\\t\", header=\"morning\\tafternoon\\tevening\\tnight\") \n",
    "df = pd.read_table(\"test.txt\", header=0, index_col=0, delimiter=\"\\t\", encoding=\"utf-8\")\n",
    "print(df)\n"
   ]
  },
  {
   "cell_type": "markdown",
   "metadata": {},
   "source": [
    "##### Interprétation"
   ]
  },
  {
   "cell_type": "markdown",
   "metadata": {},
   "source": [
    "TODO"
   ]
  },
  {
   "cell_type": "markdown",
   "metadata": {},
   "source": [
    "#### Etude de correlation entre mail_direct_forwarded et Important"
   ]
  },
  {
   "cell_type": "code",
   "execution_count": 42,
   "metadata": {},
   "outputs": [],
   "source": [
    "df = dataset[['mail_direct_forwarded', 'Important']]"
   ]
  },
  {
   "cell_type": "code",
   "execution_count": null,
   "metadata": {},
   "outputs": [],
   "source": []
  }
 ],
 "metadata": {
  "kernelspec": {
   "display_name": "Python 3",
   "language": "python",
   "name": "python3"
  },
  "language_info": {
   "codemirror_mode": {
    "name": "ipython",
    "version": 3
   },
   "file_extension": ".py",
   "mimetype": "text/x-python",
   "name": "python",
   "nbconvert_exporter": "python",
   "pygments_lexer": "ipython3",
   "version": "3.8.5"
  }
 },
 "nbformat": 4,
 "nbformat_minor": 4
}
