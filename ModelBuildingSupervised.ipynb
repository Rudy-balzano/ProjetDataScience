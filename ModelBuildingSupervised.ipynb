{
 "cells": [
  {
   "cell_type": "markdown",
   "metadata": {},
   "source": [
    "# 5) Application de modèles d'apprentissage supervisé"
   ]
  },
  {
   "cell_type": "markdown",
   "metadata": {},
   "source": [
    "Dans la partie précédente, nous avons utilisé des modèles d'apprentissage non-superviés afin de dégager les mots les plus utilisés dans les mails. Depuis ces mots, nous avons classer nos mails en 4 thèmes: Meetings (si le mail évoque les mots \"meeting\" ou \"presenter\"), Business Trip (si le mail évoque les mots \"flying\", \"traveling\" ou \"trip\") , Hobby ( pour les mots \"ski\", \"golf\", \"boat\"), ou Autre pour les autres mails.\n",
    "\n",
    "Dans cette partie, nous allons appliquer des modèles d'apprentissage supervisé pour le thème d'un mail en s'appuyant sur les variables que nous avons créées : Moment,Day,Month,subject_size,content_size,forwarded_mail,nb_cc\n",
    "Nous comparerons l'efficacité de nos modèles à l'aide de deux indicateurs, l'accuracy (taux de justesse) et le recall (rappel) en priorisant ce dernier\n",
    "\n"
   ]
  },
  {
   "cell_type": "code",
   "execution_count": 1,
   "metadata": {},
   "outputs": [],
   "source": [
    "import pandas as pd\n",
    "import numpy as np\n",
    "import datetime\n",
    "from datetime import time\n",
    "dataset = pd.read_csv('/Users/pierreperrin/Desktop/IG4/semestre7/Projet_DataScience/dataset_cleaned.csv',\n",
    "                      dtype={\"content\": str},low_memory=False)\n",
    "df = dataset[['Moment','Day','Month','subject_size','content_size','forwarded_mail','nb_cc','Meetings']]"
   ]
  },
  {
   "cell_type": "markdown",
   "metadata": {},
   "source": [
    "## Classer un mail en \"Meetings\"\n",
    "Nous allons ici prédir si un mail évoque une réunion en utilisant différents modèles non-supervisés. On sépare donc notre jeu de données en 2. Une partie qui va nous servir à apprendre à nos modèles à classer correctement si mail concerne une réunion (X_train, y_train) et une partie qui va nous permettre à tester notre modèle (X_test,y_test)."
   ]
  },
  {
   "cell_type": "code",
   "execution_count": 7,
   "metadata": {},
   "outputs": [],
   "source": [
    "import pandas as pd\n",
    "import numpy as np\n",
    "import matplotlib.pyplot as plt\n",
    "from sklearn.model_selection import train_test_split\n",
    "from sklearn.neighbors import KNeighborsClassifier\n",
    "from sklearn.model_selection import cross_val_score\n",
    "from sklearn.model_selection import validation_curve\n",
    "from sklearn.model_selection import GridSearchCV\n",
    "from sklearn.metrics import confusion_matrix\n",
    "from sklearn.model_selection import learning_curve\n",
    "from sklearn.model_selection import StratifiedKFold\n",
    "X = df.drop(['Meetings'], axis=1)\n",
    "y = df['Meetings']\n",
    "X_train, X_test, y_train, y_test = train_test_split(X, y, test_size=0.2)"
   ]
  },
  {
   "cell_type": "markdown",
   "metadata": {},
   "source": [
    "### Modèle 1 : KNeighborsClassifier"
   ]
  },
  {
   "cell_type": "code",
   "execution_count": 29,
   "metadata": {},
   "outputs": [
    {
     "data": {
      "text/plain": [
       "0.842"
      ]
     },
     "execution_count": 29,
     "metadata": {},
     "output_type": "execute_result"
    }
   ],
   "source": [
    "model = KNeighborsClassifier()\n",
    "model.fit(X_train, y_train)\n",
    "model.score(X_test, y_test)"
   ]
  },
  {
   "cell_type": "markdown",
   "metadata": {},
   "source": [
    "Le modèle des KNeighborsClassifier prédit qu'un mail concerne une réunion un taux de justesse de 84%\n",
    "La métric que l'on décide de choisir pour tester notre modèle est le recall puisque que l'on a à peu près 20 % (un peu moins) de mails qui appartiennent aux thème meeting et 80% non. De ce fait si on regardait la métrique accuracy, cela ne serait pas pertinent puisque notre modele n'a qu'a attribuer la classe non meeting a tout les mails et il aura une accuracy de 80%."
   ]
  },
  {
   "cell_type": "code",
   "execution_count": 14,
   "metadata": {},
   "outputs": [],
   "source": [
    "kfold = StratifiedKFold(n_splits=20, random_state=1, shuffle=True)\n",
    "cv_results = cross_val_score(KNeighborsClassifier(), X_train, y_train, cv=kfold, scoring='recall')\n",
    "print(\"recall :\",cv_results.mean())"
   ]
  },
  {
   "cell_type": "markdown",
   "metadata": {},
   "source": [
    "notre recall est peu satsfaisant dans ce cas"
   ]
  },
  {
   "cell_type": "code",
   "execution_count": 16,
   "metadata": {},
   "outputs": [
    {
     "name": "stdout",
     "output_type": "stream",
     "text": [
      "0.84295\n",
      "[[15427  1045]\n",
      " [ 2096  1432]]\n",
      "              precision    recall  f1-score   support\n",
      "\n",
      "           0       0.88      0.94      0.91     16472\n",
      "           1       0.58      0.41      0.48      3528\n",
      "\n",
      "    accuracy                           0.84     20000\n",
      "   macro avg       0.73      0.67      0.69     20000\n",
      "weighted avg       0.83      0.84      0.83     20000\n",
      "\n"
     ]
    }
   ],
   "source": [
    "from sklearn.metrics import classification_report\n",
    "from sklearn.metrics import confusion_matrix\n",
    "from sklearn.metrics import accuracy_score\n",
    "\n",
    "model1 = KNeighborsClassifier()\n",
    "model1 = model1.fit(X_train, y_train)\n",
    "predictions1 = model1.predict(X_test)\n",
    "\n",
    "print(accuracy_score(y_test, predictions1))\n",
    "print(confusion_matrix(y_test, predictions1))\n",
    "print(classification_report(y_test, predictions1))"
   ]
  },
  {
   "cell_type": "markdown",
   "metadata": {},
   "source": [
    "### Amélioration du modèle des KNeighborsClassifier"
   ]
  },
  {
   "cell_type": "code",
   "execution_count": 17,
   "metadata": {},
   "outputs": [
    {
     "data": {
      "text/plain": [
       "[<matplotlib.lines.Line2D at 0x7f9b04f6b370>]"
      ]
     },
     "execution_count": 17,
     "metadata": {},
     "output_type": "execute_result"
    },
    {
     "data": {
      "image/png": "[encoded data removed]",
      "text/plain": [
       "<Figure size 432x288 with 1 Axes>"
      ]
     },
     "metadata": {
      "needs_background": "light"
     },
     "output_type": "display_data"
    }
   ],
   "source": [
    "val_score = []\n",
    "for k in range(1,20):\n",
    "    score = cross_val_score(KNeighborsClassifier(k), X_train, y_train, cv = kfold, scoring='recall').mean()\n",
    "    val_score.append(score)\n",
    "\n",
    "plt.plot(val_score)"
   ]
  },
  {
   "cell_type": "markdown",
   "metadata": {},
   "source": [
    "ce graphe ne permet pas de dégager de valeur particulière pour le paramètre k de la fonction KNeighborsClassifier pour lequel le score serait plus important "
   ]
  },
  {
   "cell_type": "code",
   "execution_count": 18,
   "metadata": {},
   "outputs": [
    {
     "data": {
      "text/plain": [
       "GridSearchCV(cv=5, estimator=KNeighborsClassifier(),\n",
       "             param_grid={'metric': ['euclidean', 'manhattan'],\n",
       "                         'n_neighbors': array([ 1,  2,  3,  4,  5,  6,  7,  8,  9, 10, 11, 12, 13, 14, 15, 16, 17,\n",
       "       18, 19])})"
      ]
     },
     "execution_count": 18,
     "metadata": {},
     "output_type": "execute_result"
    }
   ],
   "source": [
    "param_grid = {'n_neighbors': np.arange(1,20), 'metric': ['euclidean', 'manhattan']}\n",
    "\n",
    "grid = GridSearchCV(KNeighborsClassifier(), param_grid, cv=5)\n",
    "\n",
    "grid.fit(X_train, y_train)"
   ]
  },
  {
   "cell_type": "code",
   "execution_count": 19,
   "metadata": {},
   "outputs": [
    {
     "data": {
      "text/plain": [
       "0.9005625000000002"
      ]
     },
     "execution_count": 19,
     "metadata": {},
     "output_type": "execute_result"
    }
   ],
   "source": [
    "grid.best_score_"
   ]
  },
  {
   "cell_type": "code",
   "execution_count": 20,
   "metadata": {},
   "outputs": [
    {
     "data": {
      "text/plain": [
       "KNeighborsClassifier(metric='manhattan', n_neighbors=1)"
      ]
     },
     "execution_count": 20,
     "metadata": {},
     "output_type": "execute_result"
    }
   ],
   "source": [
    "grid.best_estimator_"
   ]
  },
  {
   "cell_type": "code",
   "execution_count": 21,
   "metadata": {},
   "outputs": [
    {
     "data": {
      "text/plain": [
       "0.9186"
      ]
     },
     "execution_count": 21,
     "metadata": {},
     "output_type": "execute_result"
    }
   ],
   "source": [
    "model = grid.best_estimator_\n",
    "model.score(X_test, y_test)"
   ]
  },
  {
   "cell_type": "code",
   "execution_count": 22,
   "metadata": {},
   "outputs": [
    {
     "data": {
      "text/plain": [
       "array([[15656,   816],\n",
       "       [  812,  2716]])"
      ]
     },
     "execution_count": 22,
     "metadata": {},
     "output_type": "execute_result"
    }
   ],
   "source": [
    "confusion_matrix(y_test, model.predict(X_test))"
   ]
  },
  {
   "cell_type": "markdown",
   "metadata": {},
   "source": [
    "On a donc réussis à ameliorer notre model en regardant cette matrice de confusion"
   ]
  },
  {
   "cell_type": "code",
   "execution_count": 23,
   "metadata": {},
   "outputs": [
    {
     "name": "stdout",
     "output_type": "stream",
     "text": [
      "              precision    recall  f1-score   support\n",
      "\n",
      "           0       0.95      0.95      0.95     16472\n",
      "           1       0.77      0.77      0.77      3528\n",
      "\n",
      "    accuracy                           0.92     20000\n",
      "   macro avg       0.86      0.86      0.86     20000\n",
      "weighted avg       0.92      0.92      0.92     20000\n",
      "\n"
     ]
    }
   ],
   "source": [
    "print(classification_report(y_test, model.predict(X_test)))"
   ]
  },
  {
   "cell_type": "markdown",
   "metadata": {},
   "source": [
    "Finalement, après amélioration le modèle KNeighborsClassifier permet de classer si un mail concerne une réunion avec un taux de \n",
    "justesse de 0,92. Un rappel pour classer un mail comme de 0,77 pour vrai et 0,95 pour faux. Ces résultats sont globalement satisfaisant et le modèle nous parait éfficace pour classer la modalité Meetings d'un mail.\n"
   ]
  },
  {
   "cell_type": "markdown",
   "metadata": {},
   "source": [
    "### Modèle 2 : Decision Tree"
   ]
  },
  {
   "cell_type": "code",
   "execution_count": 33,
   "metadata": {},
   "outputs": [
    {
     "name": "stdout",
     "output_type": "stream",
     "text": [
      "recall : 0.7485712311675221\n"
     ]
    }
   ],
   "source": [
    "from sklearn.tree import DecisionTreeClassifier\n",
    "from sklearn import tree\n",
    "\n",
    "kfold = StratifiedKFold(n_splits=20, random_state=1, shuffle=True)\n",
    "cv_results = cross_val_score(DecisionTreeClassifier(), X_train, y_train, cv=kfold, scoring='recall')\n",
    "print(\"recall :\",cv_results.mean())\n"
   ]
  },
  {
   "cell_type": "code",
   "execution_count": 34,
   "metadata": {},
   "outputs": [
    {
     "name": "stdout",
     "output_type": "stream",
     "text": [
      "0.90895\n",
      "[[15551   958]\n",
      " [  863  2628]]\n",
      "              precision    recall  f1-score   support\n",
      "\n",
      "           0       0.95      0.94      0.94     16509\n",
      "           1       0.73      0.75      0.74      3491\n",
      "\n",
      "    accuracy                           0.91     20000\n",
      "   macro avg       0.84      0.85      0.84     20000\n",
      "weighted avg       0.91      0.91      0.91     20000\n",
      "\n"
     ]
    }
   ],
   "source": [
    "model2 = tree.DecisionTreeClassifier()\n",
    "model2 = model2.fit(X_train, y_train)\n",
    "predictions2 = model2.predict(X_test)\n",
    "\n",
    "print(accuracy_score(y_test, predictions2))\n",
    "print(confusion_matrix(y_test, predictions2))\n",
    "print(classification_report(y_test, predictions2))\n",
    "\n",
    "#max_depth\n",
    "#tree.plot_tree(model2) "
   ]
  },
  {
   "cell_type": "markdown",
   "metadata": {},
   "source": [
    "L'arbre de décision a un taux de justesse de 0.90, a un rappel de 0,94 pour l'étiquette faux et 0,75 pour l'étiquette vrai. Ces résultats nous semble également satisfaisant pour prevoir la modalité Meetings d'un mail."
   ]
  },
  {
   "cell_type": "markdown",
   "metadata": {},
   "source": [
    "### Modèle 3 : SVC"
   ]
  },
  {
   "cell_type": "code",
   "execution_count": 24,
   "metadata": {},
   "outputs": [
    {
     "name": "stderr",
     "output_type": "stream",
     "text": [
      "/Users/pierreperrin/opt/anaconda3/lib/python3.8/site-packages/sklearn/svm/_base.py:976: ConvergenceWarning: Liblinear failed to converge, increase the number of iterations.\n",
      "  warnings.warn(\"Liblinear failed to converge, increase \"\n",
      "/Users/pierreperrin/opt/anaconda3/lib/python3.8/site-packages/sklearn/svm/_base.py:976: ConvergenceWarning: Liblinear failed to converge, increase the number of iterations.\n",
      "  warnings.warn(\"Liblinear failed to converge, increase \"\n",
      "/Users/pierreperrin/opt/anaconda3/lib/python3.8/site-packages/sklearn/svm/_base.py:976: ConvergenceWarning: Liblinear failed to converge, increase the number of iterations.\n",
      "  warnings.warn(\"Liblinear failed to converge, increase \"\n",
      "/Users/pierreperrin/opt/anaconda3/lib/python3.8/site-packages/sklearn/svm/_base.py:976: ConvergenceWarning: Liblinear failed to converge, increase the number of iterations.\n",
      "  warnings.warn(\"Liblinear failed to converge, increase \"\n"
     ]
    },
    {
     "name": "stdout",
     "output_type": "stream",
     "text": [
      "recall : 0.11932833154698105\n"
     ]
    },
    {
     "name": "stderr",
     "output_type": "stream",
     "text": [
      "/Users/pierreperrin/opt/anaconda3/lib/python3.8/site-packages/sklearn/svm/_base.py:976: ConvergenceWarning: Liblinear failed to converge, increase the number of iterations.\n",
      "  warnings.warn(\"Liblinear failed to converge, increase \"\n"
     ]
    }
   ],
   "source": [
    "from sklearn.svm import LinearSVC\n",
    "\n",
    "kfold = StratifiedKFold(n_splits=5, random_state=1, shuffle=True)\n",
    "cv_results = cross_val_score(LinearSVC(), X_train, y_train, cv=kfold, scoring='recall')\n",
    "print(\"recall :\",cv_results.mean())\n"
   ]
  },
  {
   "cell_type": "code",
   "execution_count": 25,
   "metadata": {},
   "outputs": [
    {
     "name": "stdout",
     "output_type": "stream",
     "text": [
      "0.8291\n",
      "[[16403    69]\n",
      " [ 3349   179]]\n",
      "              precision    recall  f1-score   support\n",
      "\n",
      "           0       0.83      1.00      0.91     16472\n",
      "           1       0.72      0.05      0.09      3528\n",
      "\n",
      "    accuracy                           0.83     20000\n",
      "   macro avg       0.78      0.52      0.50     20000\n",
      "weighted avg       0.81      0.83      0.76     20000\n",
      "\n"
     ]
    },
    {
     "name": "stderr",
     "output_type": "stream",
     "text": [
      "/Users/pierreperrin/opt/anaconda3/lib/python3.8/site-packages/sklearn/svm/_base.py:976: ConvergenceWarning: Liblinear failed to converge, increase the number of iterations.\n",
      "  warnings.warn(\"Liblinear failed to converge, increase \"\n"
     ]
    }
   ],
   "source": [
    "model3 = LinearSVC()\n",
    "model3 = model3.fit(X_train, y_train)\n",
    "predictions3 = model3.predict(X_test)\n",
    "\n",
    "print(accuracy_score(y_test, predictions3))\n",
    "print(confusion_matrix(y_test, predictions3))\n",
    "print(classification_report(y_test, predictions3))"
   ]
  },
  {
   "cell_type": "markdown",
   "metadata": {},
   "source": [
    "Le modèle SVC a un taux de justesse de 0.82, un rappel de 1 pour l'étiquette faux et 0.05 pour l'étiquette vrai. Le modèle a tendance classer tout les mails comme faux. Ces résultats ne nous semble pas assez satisfaisant pour classer la modalité Meetings d'un mail."
   ]
  },
  {
   "cell_type": "markdown",
   "metadata": {},
   "source": [
    "# Classer un mail en \"Business Trip\""
   ]
  },
  {
   "cell_type": "code",
   "execution_count": null,
   "metadata": {},
   "outputs": [],
   "source": [
    "df = dataset[['Moment','subject_size','content_size','forwarded_mail','nb_cc','Meetings']]"
   ]
  },
  {
   "cell_type": "markdown",
   "metadata": {},
   "source": [
    "### Modèle 1 : KNeighborsClassifier"
   ]
  },
  {
   "cell_type": "code",
   "execution_count": 54,
   "metadata": {},
   "outputs": [
    {
     "data": {
      "text/plain": [
       "0.842"
      ]
     },
     "execution_count": 54,
     "metadata": {},
     "output_type": "execute_result"
    }
   ],
   "source": [
    "model_Business_trip = KNeighborsClassifier()\n",
    "model_Business_trip.fit(X_train, y_train)\n",
    "model_Business_trip.score(X_test, y_test)"
   ]
  },
  {
   "cell_type": "code",
   "execution_count": 55,
   "metadata": {},
   "outputs": [],
   "source": [
    "df2 = dataset[['Moment','Day','Month','subject_size','content_size','forwarded_mail','nb_cc','Business_trip']]"
   ]
  },
  {
   "cell_type": "code",
   "execution_count": 57,
   "metadata": {},
   "outputs": [],
   "source": [
    "X = df2.drop(['Business_trip'], axis=1)\n",
    "y = df2['Business_trip']"
   ]
  },
  {
   "cell_type": "code",
   "execution_count": 58,
   "metadata": {},
   "outputs": [],
   "source": [
    "X_train, X_test, y_train, y_test = train_test_split(X, y, test_size=0.2)"
   ]
  },
  {
   "cell_type": "code",
   "execution_count": 59,
   "metadata": {},
   "outputs": [
    {
     "data": {
      "text/plain": [
       "0.9324"
      ]
     },
     "execution_count": 59,
     "metadata": {},
     "output_type": "execute_result"
    }
   ],
   "source": [
    "model2_1 = KNeighborsClassifier()\n",
    "model2_1.fit(X_train, y_train)\n",
    "model2_1.score(X_test, y_test)"
   ]
  },
  {
   "cell_type": "code",
   "execution_count": 60,
   "metadata": {},
   "outputs": [],
   "source": [
    "kfold = StratifiedKFold(n_splits=20, random_state=1, shuffle=True)\n",
    "cv_results = cross_val_score(KNeighborsClassifier(), X_train, y_train, cv=kfold, scoring='recall')"
   ]
  },
  {
   "cell_type": "code",
   "execution_count": 61,
   "metadata": {},
   "outputs": [
    {
     "name": "stdout",
     "output_type": "stream",
     "text": [
      "recall : 0.31980157809236487\n"
     ]
    }
   ],
   "source": [
    "print(\"recall :\",cv_results.mean())"
   ]
  },
  {
   "cell_type": "code",
   "execution_count": 62,
   "metadata": {},
   "outputs": [
    {
     "name": "stdout",
     "output_type": "stream",
     "text": [
      "0.9324\n",
      "[[18199   446]\n",
      " [  906   449]]\n",
      "              precision    recall  f1-score   support\n",
      "\n",
      "           0       0.95      0.98      0.96     18645\n",
      "           1       0.50      0.33      0.40      1355\n",
      "\n",
      "    accuracy                           0.93     20000\n",
      "   macro avg       0.73      0.65      0.68     20000\n",
      "weighted avg       0.92      0.93      0.93     20000\n",
      "\n"
     ]
    }
   ],
   "source": [
    "predictions2_1 = model2_1.predict(X_test)\n",
    "\n",
    "print(accuracy_score(y_test, predictions2_1))\n",
    "print(confusion_matrix(y_test, predictions2_1))\n",
    "print(classification_report(y_test, predictions2_1))"
   ]
  },
  {
   "cell_type": "markdown",
   "metadata": {},
   "source": [
    "Le modèle KNeighborsClassifier a un taux de justesse de 0.93, a un rappel de 0,98 pour l'étiquette faux mais seulement  0,33 pour l'étiquette vrai. Ces résultats sont insatifaisant pour le classer un mail en Business Trip "
   ]
  },
  {
   "cell_type": "code",
   "execution_count": 64,
   "metadata": {},
   "outputs": [
    {
     "data": {
      "text/plain": [
       "GridSearchCV(cv=5, estimator=KNeighborsClassifier(),\n",
       "             param_grid={'metric': ['euclidean', 'manhattan'],\n",
       "                         'n_neighbors': array([ 1,  2,  3,  4,  5,  6,  7,  8,  9, 10, 11, 12, 13, 14, 15, 16, 17,\n",
       "       18, 19])})"
      ]
     },
     "execution_count": 64,
     "metadata": {},
     "output_type": "execute_result"
    }
   ],
   "source": [
    "param_grid = {'n_neighbors': np.arange(1,20), 'metric': ['euclidean', 'manhattan']}\n",
    "\n",
    "grid = GridSearchCV(KNeighborsClassifier(), param_grid, cv=5)\n",
    "\n",
    "grid.fit(X_train, y_train)"
   ]
  },
  {
   "cell_type": "code",
   "execution_count": 65,
   "metadata": {},
   "outputs": [
    {
     "data": {
      "text/plain": [
       "0.9567875000000001"
      ]
     },
     "execution_count": 65,
     "metadata": {},
     "output_type": "execute_result"
    }
   ],
   "source": [
    "grid.best_score_"
   ]
  },
  {
   "cell_type": "code",
   "execution_count": 66,
   "metadata": {},
   "outputs": [
    {
     "data": {
      "text/plain": [
       "KNeighborsClassifier(metric='euclidean', n_neighbors=1)"
      ]
     },
     "execution_count": 66,
     "metadata": {},
     "output_type": "execute_result"
    }
   ],
   "source": [
    "grid.best_estimator_"
   ]
  },
  {
   "cell_type": "code",
   "execution_count": 67,
   "metadata": {},
   "outputs": [
    {
     "data": {
      "text/plain": [
       "0.96495"
      ]
     },
     "execution_count": 67,
     "metadata": {},
     "output_type": "execute_result"
    }
   ],
   "source": [
    "model = grid.best_estimator_\n",
    "model.score(X_test, y_test)"
   ]
  },
  {
   "cell_type": "code",
   "execution_count": 68,
   "metadata": {},
   "outputs": [
    {
     "data": {
      "text/plain": [
       "array([[18289,   356],\n",
       "       [  345,  1010]])"
      ]
     },
     "execution_count": 68,
     "metadata": {},
     "output_type": "execute_result"
    }
   ],
   "source": [
    "confusion_matrix(y_test, model.predict(X_test))"
   ]
  },
  {
   "cell_type": "markdown",
   "metadata": {},
   "source": [
    "# Colonne thèmes"
   ]
  },
  {
   "cell_type": "code",
   "execution_count": 85,
   "metadata": {},
   "outputs": [
    {
     "name": "stderr",
     "output_type": "stream",
     "text": [
      "<ipython-input-85-250e5694e806>:16: SettingWithCopyWarning: \n",
      "A value is trying to be set on a copy of a slice from a DataFrame\n",
      "\n",
      "See the caveats in the documentation: https://pandas.pydata.org/pandas-docs/stable/user_guide/indexing.html#returning-a-view-versus-a-copy\n",
      "  dataset['theme'][i] = \"autre\"\n",
      "<ipython-input-85-250e5694e806>:10: SettingWithCopyWarning: \n",
      "A value is trying to be set on a copy of a slice from a DataFrame\n",
      "\n",
      "See the caveats in the documentation: https://pandas.pydata.org/pandas-docs/stable/user_guide/indexing.html#returning-a-view-versus-a-copy\n",
      "  dataset['theme'][i] = \"meeting\"\n",
      "<ipython-input-85-250e5694e806>:14: SettingWithCopyWarning: \n",
      "A value is trying to be set on a copy of a slice from a DataFrame\n",
      "\n",
      "See the caveats in the documentation: https://pandas.pydata.org/pandas-docs/stable/user_guide/indexing.html#returning-a-view-versus-a-copy\n",
      "  dataset['theme'][i] = \"hobby\"\n",
      "<ipython-input-85-250e5694e806>:12: SettingWithCopyWarning: \n",
      "A value is trying to be set on a copy of a slice from a DataFrame\n",
      "\n",
      "See the caveats in the documentation: https://pandas.pydata.org/pandas-docs/stable/user_guide/indexing.html#returning-a-view-versus-a-copy\n",
      "  dataset['theme'][i] = \"business trip\"\n"
     ]
    }
   ],
   "source": [
    "#on va classer les mails par theme, pour cela on etablit on ordre d'importance lorsque \n",
    "#le mail parle de différent theme puisque on la le classer que dans un seul theme\n",
    "\n",
    "def theme(dataset):\n",
    "    \n",
    "    dataset['theme'] = None\n",
    "    \n",
    "    for i in range(len(dataset.content)):\n",
    "        if (dataset['Meetings'][i]==1):\n",
    "            dataset['theme'][i] = \"meeting\"\n",
    "        elif (dataset['Business_trip'][i]==1):\n",
    "            dataset['theme'][i] = \"business trip\"\n",
    "        elif(dataset['hobby'][i]==1):\n",
    "            dataset['theme'][i] = \"hobby\"\n",
    "        else:\n",
    "            dataset['theme'][i] = \"autre\"\n",
    "\n",
    "            \n",
    "theme(dataset)"
   ]
  },
  {
   "cell_type": "code",
   "execution_count": 96,
   "metadata": {},
   "outputs": [
    {
     "name": "stdout",
     "output_type": "stream",
     "text": [
      "(17523, 30)\n",
      "(4804, 30)\n",
      "(10312, 30)\n",
      "(67361, 30)\n"
     ]
    }
   ],
   "source": [
    "print(dataset[dataset['theme']==\"meeting\"].shape)\n",
    "print(dataset[dataset['theme']==\"business trip\"].shape)\n",
    "print(dataset[dataset['theme']==\"hobby\"].shape)\n",
    "print(dataset[dataset['theme']==\"autre\"].shape)"
   ]
  },
  {
   "cell_type": "markdown",
   "metadata": {},
   "source": [
    "# Classification des mails par thèmes :"
   ]
  },
  {
   "cell_type": "code",
   "execution_count": 97,
   "metadata": {},
   "outputs": [],
   "source": [
    "df3 = dataset[['Moment','Day','Month','subject_size','content_size','forwarded_mail','nb_cc','theme']]"
   ]
  },
  {
   "cell_type": "code",
   "execution_count": null,
   "metadata": {},
   "outputs": [],
   "source": [
    "X = df2.drop(['theme'], axis=1)\n",
    "y = df2['theme']"
   ]
  },
  {
   "cell_type": "code",
   "execution_count": 98,
   "metadata": {},
   "outputs": [],
   "source": [
    "X_train, X_test, y_train, y_test = train_test_split(X, y, test_size=0.2)"
   ]
  },
  {
   "cell_type": "code",
   "execution_count": 99,
   "metadata": {},
   "outputs": [
    {
     "data": {
      "text/plain": [
       "0.93305"
      ]
     },
     "execution_count": 99,
     "metadata": {},
     "output_type": "execute_result"
    }
   ],
   "source": [
    "model3_1 = KNeighborsClassifier()\n",
    "model3_1.fit(X_train, y_train)\n",
    "model3_1.score(X_test, y_test)"
   ]
  },
  {
   "cell_type": "code",
   "execution_count": 100,
   "metadata": {},
   "outputs": [],
   "source": [
    "kfold = StratifiedKFold(n_splits=20, random_state=1, shuffle=True)\n",
    "cv_results = cross_val_score(KNeighborsClassifier(), X_train, y_train, cv=kfold, scoring='recall')"
   ]
  },
  {
   "cell_type": "code",
   "execution_count": 101,
   "metadata": {},
   "outputs": [
    {
     "name": "stdout",
     "output_type": "stream",
     "text": [
      "recall : 0.3146399009824398\n"
     ]
    }
   ],
   "source": [
    "print(\"recall :\",cv_results.mean())"
   ]
  },
  {
   "cell_type": "code",
   "execution_count": 102,
   "metadata": {},
   "outputs": [
    {
     "name": "stdout",
     "output_type": "stream",
     "text": [
      "0.8953\n",
      "[[17834   823]\n",
      " [ 1271    72]]\n",
      "              precision    recall  f1-score   support\n",
      "\n",
      "           0       0.93      0.96      0.94     18657\n",
      "           1       0.08      0.05      0.06      1343\n",
      "\n",
      "    accuracy                           0.90     20000\n",
      "   macro avg       0.51      0.50      0.50     20000\n",
      "weighted avg       0.88      0.90      0.89     20000\n",
      "\n"
     ]
    }
   ],
   "source": [
    "predictions3_1 = model3_1.predict(X_test)\n",
    "\n",
    "print(accuracy_score(y_test, predictions2_1))\n",
    "print(confusion_matrix(y_test, predictions2_1))\n",
    "print(classification_report(y_test, predictions2_1))"
   ]
  },
  {
   "cell_type": "markdown",
   "metadata": {},
   "source": [
    "#### Le recall est trop petit la methode des KNNeighbours n'est pas bonne pour cette classification"
   ]
  },
  {
   "cell_type": "markdown",
   "metadata": {},
   "source": [
    "#### on va essayer decision tree "
   ]
  },
  {
   "cell_type": "markdown",
   "metadata": {},
   "source": [
    "# Decision tree"
   ]
  },
  {
   "cell_type": "code",
   "execution_count": 103,
   "metadata": {},
   "outputs": [
    {
     "name": "stdout",
     "output_type": "stream",
     "text": [
      "recall : 0.7527900260436813\n"
     ]
    }
   ],
   "source": [
    "kfold = StratifiedKFold(n_splits=20, random_state=1, shuffle=True)\n",
    "cv_results = cross_val_score(DecisionTreeClassifier(), X_train, y_train, cv=kfold, scoring='recall')\n",
    "print(\"recall :\",cv_results.mean())"
   ]
  },
  {
   "cell_type": "code",
   "execution_count": 104,
   "metadata": {},
   "outputs": [
    {
     "name": "stdout",
     "output_type": "stream",
     "text": [
      "0.96365\n",
      "[[18244   413]\n",
      " [  314  1029]]\n",
      "              precision    recall  f1-score   support\n",
      "\n",
      "           0       0.98      0.98      0.98     18657\n",
      "           1       0.71      0.77      0.74      1343\n",
      "\n",
      "    accuracy                           0.96     20000\n",
      "   macro avg       0.85      0.87      0.86     20000\n",
      "weighted avg       0.96      0.96      0.96     20000\n",
      "\n"
     ]
    }
   ],
   "source": [
    "model3_2 = tree.DecisionTreeClassifier()\n",
    "model3_2 = model3_2.fit(X_train, y_train)\n",
    "predictions3_2 = model3_2.predict(X_test)\n",
    "\n",
    "print(accuracy_score(y_test, predictions3_2))\n",
    "print(confusion_matrix(y_test, predictions3_2))\n",
    "print(classification_report(y_test, predictions3_2))"
   ]
  },
  {
   "cell_type": "markdown",
   "metadata": {},
   "source": [
    "## on va essayer d'ameliorer"
   ]
  },
  {
   "cell_type": "code",
   "execution_count": 105,
   "metadata": {},
   "outputs": [
    {
     "name": "stdout",
     "output_type": "stream",
     "text": [
      "Fitting 3 folds for each of 294 candidates, totalling 882 fits\n"
     ]
    },
    {
     "name": "stderr",
     "output_type": "stream",
     "text": [
      "[Parallel(n_jobs=1)]: Using backend SequentialBackend with 1 concurrent workers.\n",
      "[Parallel(n_jobs=1)]: Done 882 out of 882 | elapsed:   50.3s finished\n"
     ]
    },
    {
     "data": {
      "text/plain": [
       "GridSearchCV(cv=3, estimator=DecisionTreeClassifier(random_state=42),\n",
       "             param_grid={'max_leaf_nodes': [2, 3, 4, 5, 6, 7, 8, 9, 10, 11, 12,\n",
       "                                            13, 14, 15, 16, 17, 18, 19, 20, 21,\n",
       "                                            22, 23, 24, 25, 26, 27, 28, 29, 30,\n",
       "                                            31, ...],\n",
       "                         'min_samples_split': [2, 3, 4]},\n",
       "             verbose=1)"
      ]
     },
     "execution_count": 105,
     "metadata": {},
     "output_type": "execute_result"
    }
   ],
   "source": [
    "params = {'max_leaf_nodes': list(range(2, 100)), 'min_samples_split': [2, 3, 4]}\n",
    "grid_search_cv = GridSearchCV(DecisionTreeClassifier(random_state=42), params, verbose=1, cv=3)\n",
    "grid_search_cv.fit(X_train, y_train)"
   ]
  },
  {
   "cell_type": "code",
   "execution_count": 106,
   "metadata": {},
   "outputs": [
    {
     "data": {
      "text/plain": [
       "DecisionTreeClassifier(max_leaf_nodes=98, random_state=42)"
      ]
     },
     "execution_count": 106,
     "metadata": {},
     "output_type": "execute_result"
    }
   ],
   "source": []
  },
  {
   "cell_type": "code",
   "execution_count": 107,
   "metadata": {},
   "outputs": [
    {
     "data": {
      "text/plain": [
       "0.9401"
      ]
     },
     "execution_count": 107,
     "metadata": {},
     "output_type": "execute_result"
    }
   ],
   "source": [
    "model3_2 = grid_search_cv.best_estimator_\n",
    "model3_2.score(X_test, y_test)"
   ]
  },
  {
   "cell_type": "code",
   "execution_count": 108,
   "metadata": {},
   "outputs": [
    {
     "data": {
      "text/plain": [
       "array([[18567,    90],\n",
       "       [ 1108,   235]])"
      ]
     },
     "execution_count": 108,
     "metadata": {},
     "output_type": "execute_result"
    }
   ],
   "source": [
    "confusion_matrix(y_test, model3_2.predict(X_test))"
   ]
  },
  {
   "cell_type": "code",
   "execution_count": null,
   "metadata": {},
   "outputs": [],
   "source": []
  }
 ],
 "metadata": {
  "kernelspec": {
   "display_name": "Python 3",
   "language": "python",
   "name": "python3"
  },
  "language_info": {
   "codemirror_mode": {
    "name": "ipython",
    "version": 3
   },
   "file_extension": ".py",
   "mimetype": "text/x-python",
   "name": "python",
   "nbconvert_exporter": "python",
   "pygments_lexer": "ipython3",
   "version": "3.8.3"
  }
 },
 "nbformat": 4,
 "nbformat_minor": 4
}
