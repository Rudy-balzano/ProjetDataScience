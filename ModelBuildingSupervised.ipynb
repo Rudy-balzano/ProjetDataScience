{
 "cells": [
  {
   "cell_type": "markdown",
   "metadata": {},
   "source": [
    "# 5) Application de modèles d'apprentissage supervisé"
   ]
  },
  {
   "cell_type": "markdown",
   "metadata": {},
   "source": [
    "Dans la partie précédente, nous avons utilisé des modèles d'apprentissage non-superviés afin de dégager les mots les plus utilisés dans les mails. Depuis ces mots, nous avons classer nos mails en 4 thèmes: Meetings (si le mail évoque les mots \"meeting\" ou \"presenter\"), Business Trip (si le mail évoque les mots \"flying\", \"traveling\" ou \"trip\") , Hobby ( pour les mots \"ski\", \"golf\", \"boat\"), ou Autre pour les autres mails.\n",
    "\n",
    "Dans cette partie, nous allons appliquer des modèles d'apprentissage supervisé pour le thème d'un mail en s'appuyant sur les variables que nous avons créées : Moment,Day,Month,subject_size,content_size,forwarded_mail,nb_cc\n",
    "Nous comparerons l'efficacité de nos modèles à l'aide de deux indicateurs, l'accuracy (taux de justesse) et le recall (rappel) en priorisant ce dernier."
   ]
  },
  {
   "cell_type": "code",
   "execution_count": 1,
   "metadata": {},
   "outputs": [
    {
     "data": {
      "text/html": [
       "<div>\n",
       "<style scoped>\n",
       "    .dataframe tbody tr th:only-of-type {\n",
       "        vertical-align: middle;\n",
       "    }\n",
       "\n",
       "    .dataframe tbody tr th {\n",
       "        vertical-align: top;\n",
       "    }\n",
       "\n",
       "    .dataframe thead th {\n",
       "        text-align: right;\n",
       "    }\n",
       "</style>\n",
       "<table border=\"1\" class=\"dataframe\">\n",
       "  <thead>\n",
       "    <tr style=\"text-align: right;\">\n",
       "      <th></th>\n",
       "      <th>Moment</th>\n",
       "      <th>Day</th>\n",
       "      <th>Month</th>\n",
       "      <th>subject_size</th>\n",
       "      <th>content_size</th>\n",
       "      <th>forwarded_mail</th>\n",
       "      <th>nb_cc</th>\n",
       "      <th>Meetings</th>\n",
       "    </tr>\n",
       "  </thead>\n",
       "  <tbody>\n",
       "    <tr>\n",
       "      <th>0</th>\n",
       "      <td>3</td>\n",
       "      <td>14</td>\n",
       "      <td>5</td>\n",
       "      <td>0</td>\n",
       "      <td>20</td>\n",
       "      <td>0</td>\n",
       "      <td>0</td>\n",
       "      <td>0</td>\n",
       "    </tr>\n",
       "    <tr>\n",
       "      <th>1</th>\n",
       "      <td>3</td>\n",
       "      <td>4</td>\n",
       "      <td>5</td>\n",
       "      <td>3</td>\n",
       "      <td>773</td>\n",
       "      <td>0</td>\n",
       "      <td>0</td>\n",
       "      <td>1</td>\n",
       "    </tr>\n",
       "    <tr>\n",
       "      <th>2</th>\n",
       "      <td>1</td>\n",
       "      <td>18</td>\n",
       "      <td>10</td>\n",
       "      <td>8</td>\n",
       "      <td>29</td>\n",
       "      <td>0</td>\n",
       "      <td>0</td>\n",
       "      <td>0</td>\n",
       "    </tr>\n",
       "    <tr>\n",
       "      <th>3</th>\n",
       "      <td>2</td>\n",
       "      <td>23</td>\n",
       "      <td>10</td>\n",
       "      <td>0</td>\n",
       "      <td>180</td>\n",
       "      <td>0</td>\n",
       "      <td>0</td>\n",
       "      <td>0</td>\n",
       "    </tr>\n",
       "    <tr>\n",
       "      <th>4</th>\n",
       "      <td>2</td>\n",
       "      <td>31</td>\n",
       "      <td>8</td>\n",
       "      <td>9</td>\n",
       "      <td>33</td>\n",
       "      <td>0</td>\n",
       "      <td>0</td>\n",
       "      <td>0</td>\n",
       "    </tr>\n",
       "  </tbody>\n",
       "</table>\n",
       "</div>"
      ],
      "text/plain": [
       "   Moment  Day  Month  subject_size  content_size  forwarded_mail  nb_cc  \\\n",
       "0       3   14      5             0            20               0      0   \n",
       "1       3    4      5             3           773               0      0   \n",
       "2       1   18     10             8            29               0      0   \n",
       "3       2   23     10             0           180               0      0   \n",
       "4       2   31      8             9            33               0      0   \n",
       "\n",
       "   Meetings  \n",
       "0         0  \n",
       "1         1  \n",
       "2         0  \n",
       "3         0  \n",
       "4         0  "
      ]
     },
     "execution_count": 1,
     "metadata": {},
     "output_type": "execute_result"
    }
   ],
   "source": [
    "import pandas as pd\n",
    "import numpy as np\n",
    "import datetime\n",
    "from datetime import time\n",
    "warnings.simplefilter(action=\"ignore\", category=SettingWithCopyWarning)\n",
    "dataset = pd.read_csv('/Users/pierreperrin/Desktop/IG4/semestre7/Projet_DataScience/dataset_cleaned.csv',\n",
    "                      dtype={\"content\": str},low_memory=False)\n",
    "df = dataset[['Moment','Day','Month','subject_size','content_size','forwarded_mail','nb_cc','Meetings']]\n",
    "df.head()"
   ]
  },
  {
   "cell_type": "markdown",
   "metadata": {},
   "source": [
    "## Classer un mail en \"Meetings\"\n",
    "Nous allons ici prédir si un mail évoque une réunion en utilisant différents modèles non-supervisés. On sépare donc notre jeu de données en 2. Une partie qui va nous servir à apprendre à nos modèles à classer correctement si mail concerne une réunion (X_train, y_train) et une partie qui va nous permettre à tester notre modèle (X_test,y_test)."
   ]
  },
  {
   "cell_type": "code",
   "execution_count": 2,
   "metadata": {},
   "outputs": [],
   "source": [
    "import pandas as pd\n",
    "import numpy as np\n",
    "import matplotlib.pyplot as plt\n",
    "from sklearn.model_selection import train_test_split\n",
    "from sklearn.neighbors import KNeighborsClassifier\n",
    "from sklearn.model_selection import cross_val_score\n",
    "from sklearn.model_selection import validation_curve\n",
    "from sklearn.model_selection import GridSearchCV\n",
    "from sklearn.metrics import confusion_matrix\n",
    "from sklearn.model_selection import learning_curve\n",
    "from sklearn.model_selection import StratifiedKFold\n",
    "X = df.drop(['Meetings'], axis=1)\n",
    "y = df['Meetings']\n",
    "X_train, X_test, y_train, y_test = train_test_split(X, y, test_size=0.2)"
   ]
  },
  {
   "cell_type": "markdown",
   "metadata": {},
   "source": [
    "### Modèle 1 : KNeighborsClassifier"
   ]
  },
  {
   "cell_type": "code",
   "execution_count": 3,
   "metadata": {},
   "outputs": [
    {
     "data": {
      "text/plain": [
       "0.842"
      ]
     },
     "execution_count": 3,
     "metadata": {},
     "output_type": "execute_result"
    }
   ],
   "source": [
    "model = KNeighborsClassifier()\n",
    "model.fit(X_train, y_train)\n",
    "model.score(X_test, y_test)"
   ]
  },
  {
   "cell_type": "markdown",
   "metadata": {},
   "source": [
    "Le modèle des KNeighborsClassifier prédit qu'un mail concerne une réunion un taux de justesse de 84%\n",
    "La métric que l'on décide de choisir pour tester notre modèle est le recall puisque que l'on a à peu près 20 % (un peu moins) de mails qui appartiennent aux thème meeting et 80% non. De ce fait si on regardait la métrique accuracy, cela ne serait pas pertinent puisque notre modele n'a qu'a attribuer la classe non meeting a tout les mails et il aura une accuracy de 80%."
   ]
  },
  {
   "cell_type": "markdown",
   "metadata": {},
   "source": [
    "On utilise la methode stratifiedKfold pour creer des splits de données sur lesquels on entraine notre modèle. Cette methode consiste donc à créer des slpits dans lesquels on va avoir à chaque fois une petite portion de chacune de nos classes. Cela parrait necessaire pour notre dataset assez desequilibré (80% des mails n'appartenant pas à la classe meetings). Cette methode assurera donc que dans un split de donnée on ne se retrouve pas avec une seule classe représentée lorsque l'on effectuera la cross-validation, sinon nos resultats serait faussés."
   ]
  },
  {
   "cell_type": "code",
   "execution_count": 4,
   "metadata": {},
   "outputs": [
    {
     "name": "stdout",
     "output_type": "stream",
     "text": [
      "recall : 0.3884747299775831\n"
     ]
    }
   ],
   "source": [
    "kfold = StratifiedKFold(n_splits=20, random_state=1, shuffle=True)\n",
    "cv_results = cross_val_score(KNeighborsClassifier(), X_train, y_train, cv=kfold, scoring='recall')\n",
    "print(\"recall :\",cv_results.mean())"
   ]
  },
  {
   "cell_type": "markdown",
   "metadata": {},
   "source": [
    "notre remarque très clairement que notre recall est peu satsfaisant dans ce cas"
   ]
  },
  {
   "cell_type": "code",
   "execution_count": 5,
   "metadata": {},
   "outputs": [
    {
     "name": "stdout",
     "output_type": "stream",
     "text": [
      "0.842\n",
      "[[15422  1041]\n",
      " [ 2119  1418]]\n",
      "              precision    recall  f1-score   support\n",
      "\n",
      "           0       0.88      0.94      0.91     16463\n",
      "           1       0.58      0.40      0.47      3537\n",
      "\n",
      "    accuracy                           0.84     20000\n",
      "   macro avg       0.73      0.67      0.69     20000\n",
      "weighted avg       0.83      0.84      0.83     20000\n",
      "\n"
     ]
    }
   ],
   "source": [
    "from sklearn.metrics import classification_report\n",
    "from sklearn.metrics import confusion_matrix\n",
    "from sklearn.metrics import accuracy_score\n",
    "\n",
    "model1 = KNeighborsClassifier()\n",
    "model1 = model1.fit(X_train, y_train)\n",
    "predictions1 = model1.predict(X_test)\n",
    "\n",
    "print(accuracy_score(y_test, predictions1))\n",
    "print(confusion_matrix(y_test, predictions1))\n",
    "print(classification_report(y_test, predictions1))"
   ]
  },
  {
   "cell_type": "markdown",
   "metadata": {},
   "source": [
    "### Amélioration du modèle des KNeighborsClassifier"
   ]
  },
  {
   "cell_type": "code",
   "execution_count": 6,
   "metadata": {},
   "outputs": [
    {
     "data": {
      "text/plain": [
       "[<matplotlib.lines.Line2D at 0x7fbf45f259d0>]"
      ]
     },
     "execution_count": 6,
     "metadata": {},
     "output_type": "execute_result"
    },
    {
     "data": {
      "image/png": "[encoded data removed]",
      "text/plain": [
       "<Figure size 432x288 with 1 Axes>"
      ]
     },
     "metadata": {
      "needs_background": "light"
     },
     "output_type": "display_data"
    }
   ],
   "source": [
    "val_score = []\n",
    "for k in range(1,20):\n",
    "    score = cross_val_score(KNeighborsClassifier(k), X_train, y_train, cv = kfold, scoring='recall').mean()\n",
    "    val_score.append(score)\n",
    "\n",
    "plt.plot(val_score)"
   ]
  },
  {
   "cell_type": "markdown",
   "metadata": {},
   "source": [
    "ce graphe ne permet pas de dégager de valeur particulière pour le paramètre k de la fonction KNeighborsClassifier pour lequel le score serait plus important "
   ]
  },
  {
   "cell_type": "code",
   "execution_count": 7,
   "metadata": {},
   "outputs": [
    {
     "data": {
      "text/plain": [
       "GridSearchCV(cv=5, estimator=KNeighborsClassifier(),\n",
       "             param_grid={'metric': ['euclidean', 'manhattan'],\n",
       "                         'n_neighbors': array([ 1,  2,  3,  4,  5,  6,  7,  8,  9, 10, 11, 12, 13, 14, 15, 16, 17,\n",
       "       18, 19])})"
      ]
     },
     "execution_count": 7,
     "metadata": {},
     "output_type": "execute_result"
    }
   ],
   "source": [
    "param_grid = {'n_neighbors': np.arange(1,20), 'metric': ['euclidean', 'manhattan']}\n",
    "\n",
    "grid = GridSearchCV(KNeighborsClassifier(), param_grid, cv=5)\n",
    "\n",
    "grid.fit(X_train, y_train)"
   ]
  },
  {
   "cell_type": "code",
   "execution_count": 8,
   "metadata": {},
   "outputs": [
    {
     "data": {
      "text/plain": [
       "0.8995124999999999"
      ]
     },
     "execution_count": 8,
     "metadata": {},
     "output_type": "execute_result"
    }
   ],
   "source": [
    "grid.best_score_"
   ]
  },
  {
   "cell_type": "code",
   "execution_count": 9,
   "metadata": {},
   "outputs": [
    {
     "data": {
      "text/plain": [
       "KNeighborsClassifier(metric='manhattan', n_neighbors=1)"
      ]
     },
     "execution_count": 9,
     "metadata": {},
     "output_type": "execute_result"
    }
   ],
   "source": [
    "grid.best_estimator_"
   ]
  },
  {
   "cell_type": "code",
   "execution_count": 10,
   "metadata": {},
   "outputs": [
    {
     "data": {
      "text/plain": [
       "0.9231"
      ]
     },
     "execution_count": 10,
     "metadata": {},
     "output_type": "execute_result"
    }
   ],
   "source": [
    "model = grid.best_estimator_\n",
    "model.score(X_test, y_test)"
   ]
  },
  {
   "cell_type": "code",
   "execution_count": 11,
   "metadata": {},
   "outputs": [
    {
     "data": {
      "text/plain": [
       "array([[15744,   719],\n",
       "       [  819,  2718]])"
      ]
     },
     "execution_count": 11,
     "metadata": {},
     "output_type": "execute_result"
    }
   ],
   "source": [
    "confusion_matrix(y_test, model.predict(X_test))"
   ]
  },
  {
   "cell_type": "markdown",
   "metadata": {},
   "source": [
    "On a donc réussis à ameliorer notre model en regardant cette matrice de confusion"
   ]
  },
  {
   "cell_type": "code",
   "execution_count": 12,
   "metadata": {},
   "outputs": [
    {
     "name": "stdout",
     "output_type": "stream",
     "text": [
      "              precision    recall  f1-score   support\n",
      "\n",
      "           0       0.95      0.96      0.95     16463\n",
      "           1       0.79      0.77      0.78      3537\n",
      "\n",
      "    accuracy                           0.92     20000\n",
      "   macro avg       0.87      0.86      0.87     20000\n",
      "weighted avg       0.92      0.92      0.92     20000\n",
      "\n"
     ]
    }
   ],
   "source": [
    "print(classification_report(y_test, model.predict(X_test)))"
   ]
  },
  {
   "cell_type": "markdown",
   "metadata": {},
   "source": [
    "Finalement, après amélioration le modèle KNeighborsClassifier permet de classer si un mail concerne une réunion avec un taux de \n",
    "justesse de 0,92. Un rappel pour classer un mail comme de 0,77 pour vrai et 0,95 pour faux. Ces résultats sont globalement satisfaisant et le modèle nous parait éfficace pour classer la modalité Meetings d'un mail.\n"
   ]
  },
  {
   "cell_type": "markdown",
   "metadata": {},
   "source": [
    "### Modèle 2 : Decision Tree"
   ]
  },
  {
   "cell_type": "code",
   "execution_count": 13,
   "metadata": {},
   "outputs": [
    {
     "name": "stdout",
     "output_type": "stream",
     "text": [
      "recall : 0.7737333401263502\n"
     ]
    }
   ],
   "source": [
    "from sklearn.tree import DecisionTreeClassifier\n",
    "from sklearn import tree\n",
    "\n",
    "kfold = StratifiedKFold(n_splits=20, random_state=1, shuffle=True)\n",
    "cv_results = cross_val_score(DecisionTreeClassifier(), X_train, y_train, cv=kfold, scoring='recall')\n",
    "print(\"recall :\",cv_results.mean())\n"
   ]
  },
  {
   "cell_type": "code",
   "execution_count": 14,
   "metadata": {},
   "outputs": [
    {
     "name": "stdout",
     "output_type": "stream",
     "text": [
      "0.91895\n",
      "[[15618   845]\n",
      " [  776  2761]]\n",
      "              precision    recall  f1-score   support\n",
      "\n",
      "           0       0.95      0.95      0.95     16463\n",
      "           1       0.77      0.78      0.77      3537\n",
      "\n",
      "    accuracy                           0.92     20000\n",
      "   macro avg       0.86      0.86      0.86     20000\n",
      "weighted avg       0.92      0.92      0.92     20000\n",
      "\n"
     ]
    }
   ],
   "source": [
    "model2 = tree.DecisionTreeClassifier()\n",
    "model2 = model2.fit(X_train, y_train)\n",
    "predictions2 = model2.predict(X_test)\n",
    "\n",
    "print(accuracy_score(y_test, predictions2))\n",
    "print(confusion_matrix(y_test, predictions2))\n",
    "print(classification_report(y_test, predictions2))\n",
    "\n",
    "#max_depth\n",
    "#tree.plot_tree(model2) "
   ]
  },
  {
   "cell_type": "markdown",
   "metadata": {},
   "source": [
    "L'arbre de décision a un taux de justesse de 0.90, a un rappel de 0,94 pour l'étiquette faux et 0,75 pour l'étiquette vrai. Ces résultats nous semble également satisfaisant pour prevoir la modalité Meetings d'un mail."
   ]
  },
  {
   "cell_type": "markdown",
   "metadata": {},
   "source": [
    "### Modèle 3 : SVC"
   ]
  },
  {
   "cell_type": "code",
   "execution_count": 15,
   "metadata": {},
   "outputs": [
    {
     "name": "stderr",
     "output_type": "stream",
     "text": [
      "/Users/pierreperrin/opt/anaconda3/lib/python3.8/site-packages/sklearn/svm/_base.py:976: ConvergenceWarning: Liblinear failed to converge, increase the number of iterations.\n",
      "  warnings.warn(\"Liblinear failed to converge, increase \"\n",
      "/Users/pierreperrin/opt/anaconda3/lib/python3.8/site-packages/sklearn/svm/_base.py:976: ConvergenceWarning: Liblinear failed to converge, increase the number of iterations.\n",
      "  warnings.warn(\"Liblinear failed to converge, increase \"\n",
      "/Users/pierreperrin/opt/anaconda3/lib/python3.8/site-packages/sklearn/svm/_base.py:976: ConvergenceWarning: Liblinear failed to converge, increase the number of iterations.\n",
      "  warnings.warn(\"Liblinear failed to converge, increase \"\n",
      "/Users/pierreperrin/opt/anaconda3/lib/python3.8/site-packages/sklearn/svm/_base.py:976: ConvergenceWarning: Liblinear failed to converge, increase the number of iterations.\n",
      "  warnings.warn(\"Liblinear failed to converge, increase \"\n"
     ]
    },
    {
     "name": "stdout",
     "output_type": "stream",
     "text": [
      "recall : 0.13173840993364\n"
     ]
    },
    {
     "name": "stderr",
     "output_type": "stream",
     "text": [
      "/Users/pierreperrin/opt/anaconda3/lib/python3.8/site-packages/sklearn/svm/_base.py:976: ConvergenceWarning: Liblinear failed to converge, increase the number of iterations.\n",
      "  warnings.warn(\"Liblinear failed to converge, increase \"\n"
     ]
    }
   ],
   "source": [
    "from sklearn.svm import LinearSVC\n",
    "\n",
    "kfold = StratifiedKFold(n_splits=5, random_state=1, shuffle=True)\n",
    "cv_results = cross_val_score(LinearSVC(), X_train, y_train, cv=kfold, scoring='recall')\n",
    "print(\"recall :\",cv_results.mean())\n"
   ]
  },
  {
   "cell_type": "code",
   "execution_count": 16,
   "metadata": {},
   "outputs": [
    {
     "name": "stdout",
     "output_type": "stream",
     "text": [
      "0.82315\n",
      "[[16463     0]\n",
      " [ 3537     0]]\n",
      "              precision    recall  f1-score   support\n",
      "\n",
      "           0       0.82      1.00      0.90     16463\n",
      "           1       0.00      0.00      0.00      3537\n",
      "\n",
      "    accuracy                           0.82     20000\n",
      "   macro avg       0.41      0.50      0.45     20000\n",
      "weighted avg       0.68      0.82      0.74     20000\n",
      "\n"
     ]
    },
    {
     "name": "stderr",
     "output_type": "stream",
     "text": [
      "/Users/pierreperrin/opt/anaconda3/lib/python3.8/site-packages/sklearn/svm/_base.py:976: ConvergenceWarning: Liblinear failed to converge, increase the number of iterations.\n",
      "  warnings.warn(\"Liblinear failed to converge, increase \"\n",
      "/Users/pierreperrin/opt/anaconda3/lib/python3.8/site-packages/sklearn/metrics/_classification.py:1221: UndefinedMetricWarning: Precision and F-score are ill-defined and being set to 0.0 in labels with no predicted samples. Use `zero_division` parameter to control this behavior.\n",
      "  _warn_prf(average, modifier, msg_start, len(result))\n"
     ]
    }
   ],
   "source": [
    "model3 = LinearSVC()\n",
    "model3 = model3.fit(X_train, y_train)\n",
    "predictions3 = model3.predict(X_test)\n",
    "\n",
    "print(accuracy_score(y_test, predictions3))\n",
    "print(confusion_matrix(y_test, predictions3))\n",
    "print(classification_report(y_test, predictions3))"
   ]
  },
  {
   "cell_type": "markdown",
   "metadata": {},
   "source": [
    "Le modèle SVC a un taux de justesse de 0.82, un rappel de 1 pour l'étiquette faux et 0.05 pour l'étiquette vrai. Le modèle a tendance classer tout les mails comme faux. Ces résultats ne nous semble pas assez satisfaisant pour classer la modalité Meetings d'un mail."
   ]
  },
  {
   "cell_type": "markdown",
   "metadata": {},
   "source": [
    "# Classer un mail en \"Business Trip\""
   ]
  },
  {
   "cell_type": "code",
   "execution_count": 17,
   "metadata": {},
   "outputs": [],
   "source": [
    "df = dataset[['Moment','subject_size','content_size','forwarded_mail','nb_cc','Meetings']]"
   ]
  },
  {
   "cell_type": "markdown",
   "metadata": {},
   "source": [
    "### Modèle 1 : KNeighborsClassifier"
   ]
  },
  {
   "cell_type": "code",
   "execution_count": 18,
   "metadata": {},
   "outputs": [
    {
     "data": {
      "text/plain": [
       "0.842"
      ]
     },
     "execution_count": 18,
     "metadata": {},
     "output_type": "execute_result"
    }
   ],
   "source": [
    "model_Business_trip = KNeighborsClassifier()\n",
    "model_Business_trip.fit(X_train, y_train)\n",
    "model_Business_trip.score(X_test, y_test)"
   ]
  },
  {
   "cell_type": "code",
   "execution_count": 19,
   "metadata": {},
   "outputs": [],
   "source": [
    "df2 = dataset[['Moment','Day','Month','subject_size','content_size','forwarded_mail','nb_cc','Business_trip']]"
   ]
  },
  {
   "cell_type": "code",
   "execution_count": 20,
   "metadata": {},
   "outputs": [],
   "source": [
    "X = df2.drop(['Business_trip'], axis=1)\n",
    "y = df2['Business_trip']"
   ]
  },
  {
   "cell_type": "code",
   "execution_count": 21,
   "metadata": {},
   "outputs": [],
   "source": [
    "X_train, X_test, y_train, y_test = train_test_split(X, y, test_size=0.2)"
   ]
  },
  {
   "cell_type": "code",
   "execution_count": 22,
   "metadata": {},
   "outputs": [
    {
     "data": {
      "text/plain": [
       "0.92955"
      ]
     },
     "execution_count": 22,
     "metadata": {},
     "output_type": "execute_result"
    }
   ],
   "source": [
    "model2_1 = KNeighborsClassifier()\n",
    "model2_1.fit(X_train, y_train)\n",
    "model2_1.score(X_test, y_test)"
   ]
  },
  {
   "cell_type": "code",
   "execution_count": 23,
   "metadata": {},
   "outputs": [],
   "source": [
    "kfold = StratifiedKFold(n_splits=20, random_state=1, shuffle=True)\n",
    "cv_results = cross_val_score(KNeighborsClassifier(), X_train, y_train, cv=kfold, scoring='recall')"
   ]
  },
  {
   "cell_type": "code",
   "execution_count": 24,
   "metadata": {},
   "outputs": [
    {
     "name": "stdout",
     "output_type": "stream",
     "text": [
      "recall : 0.3300629130655821\n"
     ]
    }
   ],
   "source": [
    "print(\"recall :\",cv_results.mean())"
   ]
  },
  {
   "cell_type": "code",
   "execution_count": 25,
   "metadata": {},
   "outputs": [
    {
     "name": "stdout",
     "output_type": "stream",
     "text": [
      "0.92955\n",
      "[[18145   504]\n",
      " [  905   446]]\n",
      "              precision    recall  f1-score   support\n",
      "\n",
      "           0       0.95      0.97      0.96     18649\n",
      "           1       0.47      0.33      0.39      1351\n",
      "\n",
      "    accuracy                           0.93     20000\n",
      "   macro avg       0.71      0.65      0.68     20000\n",
      "weighted avg       0.92      0.93      0.92     20000\n",
      "\n"
     ]
    }
   ],
   "source": [
    "predictions2_1 = model2_1.predict(X_test)\n",
    "\n",
    "print(accuracy_score(y_test, predictions2_1))\n",
    "print(confusion_matrix(y_test, predictions2_1))\n",
    "print(classification_report(y_test, predictions2_1))"
   ]
  },
  {
   "cell_type": "markdown",
   "metadata": {},
   "source": [
    "Le modèle KNeighborsClassifier a un taux de justesse de 0.93, a un rappel de 0,98 pour l'étiquette faux mais seulement  0,33 pour l'étiquette vrai. Cela parait normal puisque notre dataset est constitué majoritairement de mails qui n'evoquent pas les réunions (environ 80%). Ces résultats sont insatifaisant pour le classer un mail en Business Trip "
   ]
  },
  {
   "cell_type": "code",
   "execution_count": 26,
   "metadata": {},
   "outputs": [
    {
     "data": {
      "text/plain": [
       "GridSearchCV(cv=5, estimator=KNeighborsClassifier(),\n",
       "             param_grid={'metric': ['euclidean', 'manhattan'],\n",
       "                         'n_neighbors': array([ 1,  2,  3,  4,  5,  6,  7,  8,  9, 10, 11, 12, 13, 14, 15, 16, 17,\n",
       "       18, 19])})"
      ]
     },
     "execution_count": 26,
     "metadata": {},
     "output_type": "execute_result"
    }
   ],
   "source": [
    "param_grid = {'n_neighbors': np.arange(1,20), 'metric': ['euclidean', 'manhattan']}\n",
    "\n",
    "grid = GridSearchCV(KNeighborsClassifier(), param_grid, cv=5)\n",
    "\n",
    "grid.fit(X_train, y_train)"
   ]
  },
  {
   "cell_type": "code",
   "execution_count": 27,
   "metadata": {},
   "outputs": [
    {
     "data": {
      "text/plain": [
       "0.9550375000000001"
      ]
     },
     "execution_count": 27,
     "metadata": {},
     "output_type": "execute_result"
    }
   ],
   "source": [
    "grid.best_score_"
   ]
  },
  {
   "cell_type": "code",
   "execution_count": 28,
   "metadata": {},
   "outputs": [
    {
     "data": {
      "text/plain": [
       "KNeighborsClassifier(metric='euclidean', n_neighbors=1)"
      ]
     },
     "execution_count": 28,
     "metadata": {},
     "output_type": "execute_result"
    }
   ],
   "source": [
    "grid.best_estimator_"
   ]
  },
  {
   "cell_type": "code",
   "execution_count": 29,
   "metadata": {},
   "outputs": [
    {
     "data": {
      "text/plain": [
       "0.96355"
      ]
     },
     "execution_count": 29,
     "metadata": {},
     "output_type": "execute_result"
    }
   ],
   "source": [
    "model = grid.best_estimator_\n",
    "model.score(X_test, y_test)"
   ]
  },
  {
   "cell_type": "code",
   "execution_count": 30,
   "metadata": {},
   "outputs": [
    {
     "data": {
      "text/plain": [
       "array([[18267,   382],\n",
       "       [  347,  1004]])"
      ]
     },
     "execution_count": 30,
     "metadata": {},
     "output_type": "execute_result"
    }
   ],
   "source": [
    "confusion_matrix(y_test, model.predict(X_test))"
   ]
  },
  {
   "cell_type": "code",
   "execution_count": 84,
   "metadata": {},
   "outputs": [
    {
     "name": "stdout",
     "output_type": "stream",
     "text": [
      "              precision    recall  f1-score   support\n",
      "\n",
      "           0       0.00      0.00      0.00         0\n",
      "           1       0.30      0.12      0.17      3434\n",
      "           2       0.00      0.00      0.00       947\n",
      "           3       0.00      0.00      0.00      2115\n",
      "           4       0.00      0.00      0.00     13504\n",
      "\n",
      "    accuracy                           0.02     20000\n",
      "   macro avg       0.06      0.02      0.03     20000\n",
      "weighted avg       0.05      0.02      0.03     20000\n",
      "\n"
     ]
    },
    {
     "name": "stderr",
     "output_type": "stream",
     "text": [
      "/Users/pierreperrin/opt/anaconda3/lib/python3.8/site-packages/sklearn/metrics/_classification.py:1221: UndefinedMetricWarning: Precision and F-score are ill-defined and being set to 0.0 in labels with no predicted samples. Use `zero_division` parameter to control this behavior.\n",
      "  _warn_prf(average, modifier, msg_start, len(result))\n",
      "/Users/pierreperrin/opt/anaconda3/lib/python3.8/site-packages/sklearn/metrics/_classification.py:1221: UndefinedMetricWarning: Recall and F-score are ill-defined and being set to 0.0 in labels with no true samples. Use `zero_division` parameter to control this behavior.\n",
      "  _warn_prf(average, modifier, msg_start, len(result))\n"
     ]
    }
   ],
   "source": [
    "print(classification_report(y_test, model.predict(X_test)))"
   ]
  },
  {
   "cell_type": "markdown",
   "metadata": {},
   "source": [
    "# Colonne thèmes"
   ]
  },
  {
   "cell_type": "code",
   "execution_count": 31,
   "metadata": {},
   "outputs": [
    {
     "name": "stderr",
     "output_type": "stream",
     "text": [
      "<ipython-input-31-d99cc955d317>:16: SettingWithCopyWarning: \n",
      "A value is trying to be set on a copy of a slice from a DataFrame\n",
      "\n",
      "See the caveats in the documentation: https://pandas.pydata.org/pandas-docs/stable/user_guide/indexing.html#returning-a-view-versus-a-copy\n",
      "  dataset['theme'][i] = 4\n",
      "<ipython-input-31-d99cc955d317>:10: SettingWithCopyWarning: \n",
      "A value is trying to be set on a copy of a slice from a DataFrame\n",
      "\n",
      "See the caveats in the documentation: https://pandas.pydata.org/pandas-docs/stable/user_guide/indexing.html#returning-a-view-versus-a-copy\n",
      "  dataset['theme'][i] = 1\n",
      "<ipython-input-31-d99cc955d317>:14: SettingWithCopyWarning: \n",
      "A value is trying to be set on a copy of a slice from a DataFrame\n",
      "\n",
      "See the caveats in the documentation: https://pandas.pydata.org/pandas-docs/stable/user_guide/indexing.html#returning-a-view-versus-a-copy\n",
      "  dataset['theme'][i] = 3\n",
      "<ipython-input-31-d99cc955d317>:12: SettingWithCopyWarning: \n",
      "A value is trying to be set on a copy of a slice from a DataFrame\n",
      "\n",
      "See the caveats in the documentation: https://pandas.pydata.org/pandas-docs/stable/user_guide/indexing.html#returning-a-view-versus-a-copy\n",
      "  dataset['theme'][i] = 2\n"
     ]
    }
   ],
   "source": [
    "#on va classer les mails par theme, pour cela on etablit on ordre d'importance lorsque \n",
    "#le mail parle de différent theme puisqu'on doit le classer que dans un seul theme\n",
    "\n",
    "def theme(dataset):\n",
    "    \n",
    "    dataset['theme'] = None\n",
    "    \n",
    "    for i in range(len(dataset.content)):\n",
    "        if (dataset['Meetings'][i]==1):\n",
    "            dataset['theme'][i] = 1\n",
    "        elif (dataset['Business_trip'][i]==1):\n",
    "            dataset['theme'][i] = 2\n",
    "        elif(dataset['hobby'][i]==1):\n",
    "            dataset['theme'][i] = 3\n",
    "        else:\n",
    "            dataset['theme'][i] = 4\n",
    "\n",
    "            \n",
    "theme(dataset)"
   ]
  },
  {
   "cell_type": "code",
   "execution_count": 32,
   "metadata": {},
   "outputs": [
    {
     "name": "stdout",
     "output_type": "stream",
     "text": [
      "(17543, 30)\n",
      "(4839, 30)\n",
      "(10370, 30)\n",
      "(67248, 30)\n"
     ]
    }
   ],
   "source": [
    "print(dataset[dataset['theme']==1].shape)\n",
    "print(dataset[dataset['theme']==2].shape)\n",
    "print(dataset[dataset['theme']==3].shape)\n",
    "print(dataset[dataset['theme']==4].shape)"
   ]
  },
  {
   "cell_type": "markdown",
   "metadata": {},
   "source": [
    "# Classification des mails par thèmes :"
   ]
  },
  {
   "cell_type": "markdown",
   "metadata": {},
   "source": [
    "On a ensuite décider d'essayer de classer nos mails plus généralement dans un thème après la création de la colonne \"theme\"."
   ]
  },
  {
   "cell_type": "code",
   "execution_count": 33,
   "metadata": {},
   "outputs": [
    {
     "data": {
      "text/html": [
       "<div>\n",
       "<style scoped>\n",
       "    .dataframe tbody tr th:only-of-type {\n",
       "        vertical-align: middle;\n",
       "    }\n",
       "\n",
       "    .dataframe tbody tr th {\n",
       "        vertical-align: top;\n",
       "    }\n",
       "\n",
       "    .dataframe thead th {\n",
       "        text-align: right;\n",
       "    }\n",
       "</style>\n",
       "<table border=\"1\" class=\"dataframe\">\n",
       "  <thead>\n",
       "    <tr style=\"text-align: right;\">\n",
       "      <th></th>\n",
       "      <th>Moment</th>\n",
       "      <th>Day</th>\n",
       "      <th>Month</th>\n",
       "      <th>subject_size</th>\n",
       "      <th>content_size</th>\n",
       "      <th>forwarded_mail</th>\n",
       "      <th>nb_cc</th>\n",
       "      <th>theme</th>\n",
       "    </tr>\n",
       "  </thead>\n",
       "  <tbody>\n",
       "    <tr>\n",
       "      <th>0</th>\n",
       "      <td>3</td>\n",
       "      <td>14</td>\n",
       "      <td>5</td>\n",
       "      <td>0</td>\n",
       "      <td>20</td>\n",
       "      <td>0</td>\n",
       "      <td>0</td>\n",
       "      <td>4</td>\n",
       "    </tr>\n",
       "    <tr>\n",
       "      <th>1</th>\n",
       "      <td>3</td>\n",
       "      <td>4</td>\n",
       "      <td>5</td>\n",
       "      <td>3</td>\n",
       "      <td>773</td>\n",
       "      <td>0</td>\n",
       "      <td>0</td>\n",
       "      <td>1</td>\n",
       "    </tr>\n",
       "    <tr>\n",
       "      <th>2</th>\n",
       "      <td>1</td>\n",
       "      <td>18</td>\n",
       "      <td>10</td>\n",
       "      <td>8</td>\n",
       "      <td>29</td>\n",
       "      <td>0</td>\n",
       "      <td>0</td>\n",
       "      <td>4</td>\n",
       "    </tr>\n",
       "    <tr>\n",
       "      <th>3</th>\n",
       "      <td>2</td>\n",
       "      <td>23</td>\n",
       "      <td>10</td>\n",
       "      <td>0</td>\n",
       "      <td>180</td>\n",
       "      <td>0</td>\n",
       "      <td>0</td>\n",
       "      <td>4</td>\n",
       "    </tr>\n",
       "    <tr>\n",
       "      <th>4</th>\n",
       "      <td>2</td>\n",
       "      <td>31</td>\n",
       "      <td>8</td>\n",
       "      <td>9</td>\n",
       "      <td>33</td>\n",
       "      <td>0</td>\n",
       "      <td>0</td>\n",
       "      <td>4</td>\n",
       "    </tr>\n",
       "  </tbody>\n",
       "</table>\n",
       "</div>"
      ],
      "text/plain": [
       "   Moment  Day  Month  subject_size  content_size  forwarded_mail  nb_cc theme\n",
       "0       3   14      5             0            20               0      0     4\n",
       "1       3    4      5             3           773               0      0     1\n",
       "2       1   18     10             8            29               0      0     4\n",
       "3       2   23     10             0           180               0      0     4\n",
       "4       2   31      8             9            33               0      0     4"
      ]
     },
     "execution_count": 33,
     "metadata": {},
     "output_type": "execute_result"
    }
   ],
   "source": [
    "df3 = dataset[['Moment','Day','Month','subject_size','content_size','forwarded_mail','nb_cc','theme']]\n",
    "df3.head()"
   ]
  },
  {
   "cell_type": "code",
   "execution_count": 53,
   "metadata": {},
   "outputs": [],
   "source": [
    "X = df3.drop(['theme'], axis=1)\n",
    "y = df3['theme']\n",
    "y=y.astype('int')"
   ]
  },
  {
   "cell_type": "code",
   "execution_count": 54,
   "metadata": {},
   "outputs": [],
   "source": []
  },
  {
   "cell_type": "code",
   "execution_count": 55,
   "metadata": {},
   "outputs": [
    {
     "data": {
      "text/plain": [
       "43731    3\n",
       "86701    1\n",
       "19210    3\n",
       "84099    4\n",
       "68794    4\n",
       "        ..\n",
       "54995    4\n",
       "5947     4\n",
       "56001    4\n",
       "87306    4\n",
       "42064    4\n",
       "Name: theme, Length: 20000, dtype: int64"
      ]
     },
     "execution_count": 55,
     "metadata": {},
     "output_type": "execute_result"
    }
   ],
   "source": [
    "X_train, X_test, y_train, y_test = train_test_split(X, y, test_size=0.2)\n"
   ]
  },
  {
   "cell_type": "code",
   "execution_count": 56,
   "metadata": {},
   "outputs": [
    {
     "data": {
      "text/plain": [
       "0.71195"
      ]
     },
     "execution_count": 56,
     "metadata": {},
     "output_type": "execute_result"
    }
   ],
   "source": [
    "model3_1 = KNeighborsClassifier()\n",
    "model3_1.fit(X_train, y_train)\n",
    "model3_1.score(X_test, y_test)"
   ]
  },
  {
   "cell_type": "code",
   "execution_count": 67,
   "metadata": {},
   "outputs": [],
   "source": [
    "kfold = StratifiedKFold(n_splits=20, random_state=1, shuffle=True)\n",
    "cv_results = cross_val_score(KNeighborsClassifier(), X_train, y_train, cv=kfold, scoring='accuracy')"
   ]
  },
  {
   "cell_type": "code",
   "execution_count": 68,
   "metadata": {},
   "outputs": [
    {
     "name": "stdout",
     "output_type": "stream",
     "text": [
      "recall : 0.7095875\n"
     ]
    }
   ],
   "source": [
    "print(\"accuracy :\",cv_results.mean())"
   ]
  },
  {
   "cell_type": "code",
   "execution_count": 70,
   "metadata": {},
   "outputs": [
    {
     "name": "stdout",
     "output_type": "stream",
     "text": [
      "0.71195\n",
      "[[ 1635   155   261  1383]\n",
      " [  186   312    80   369]\n",
      " [  457   126   729   803]\n",
      " [ 1081   257   603 11563]]\n",
      "              precision    recall  f1-score   support\n",
      "\n",
      "           1       0.49      0.48      0.48      3434\n",
      "           2       0.37      0.33      0.35       947\n",
      "           3       0.44      0.34      0.38      2115\n",
      "           4       0.82      0.86      0.84     13504\n",
      "\n",
      "    accuracy                           0.71     20000\n",
      "   macro avg       0.53      0.50      0.51     20000\n",
      "weighted avg       0.70      0.71      0.71     20000\n",
      "\n"
     ]
    }
   ],
   "source": [
    "predictions3_1 = model3_1.predict(X_test)\n",
    "\n",
    "print(accuracy_score(y_test, predictions3_1))\n",
    "print(confusion_matrix(y_test, predictions3_1))\n",
    "print(classification_report(y_test, predictions3_1))"
   ]
  },
  {
   "cell_type": "markdown",
   "metadata": {},
   "source": [
    "On peut voir le score de la cross_validation qui est assez proche du score sur le test ce qui signifie que notre modèle semble bien généraliser les données. On peut voir que la 4eme classe est beaucoup mieux prédite que les autres. Cela s'explique par le fait que notre dataset est assez déséquilibré puisqu'il est composé de plus de 50% de mail appartenant à la 4eme classe (autre)."
   ]
  },
  {
   "cell_type": "markdown",
   "metadata": {},
   "source": [
    "#### Le recall est trop petit donc la methode des KNNeighbours n'est pas bonne pour cette classification"
   ]
  },
  {
   "cell_type": "markdown",
   "metadata": {},
   "source": [
    "#### on essaie donc par la suite le modèle DecisionTreeClassifier"
   ]
  },
  {
   "cell_type": "markdown",
   "metadata": {},
   "source": [
    "# Decision tree"
   ]
  },
  {
   "cell_type": "code",
   "execution_count": 71,
   "metadata": {},
   "outputs": [
    {
     "name": "stdout",
     "output_type": "stream",
     "text": [
      "accuracy : 0.8520875\n"
     ]
    }
   ],
   "source": [
    "kfold = StratifiedKFold(n_splits=20, random_state=1, shuffle=True)\n",
    "cv_results = cross_val_score(DecisionTreeClassifier(), X_train, y_train, cv=kfold, scoring='accuracy')\n",
    "print(\"accuracy :\",cv_results.mean())"
   ]
  },
  {
   "cell_type": "code",
   "execution_count": 72,
   "metadata": {
    "scrolled": true
   },
   "outputs": [
    {
     "name": "stdout",
     "output_type": "stream",
     "text": [
      "0.86495\n",
      "[[ 2692    63   107   572]\n",
      " [   54   679    47   167]\n",
      " [  145    62  1580   328]\n",
      " [  614   151   391 12348]]\n",
      "              precision    recall  f1-score   support\n",
      "\n",
      "           1       0.77      0.78      0.78      3434\n",
      "           2       0.71      0.72      0.71       947\n",
      "           3       0.74      0.75      0.75      2115\n",
      "           4       0.92      0.91      0.92     13504\n",
      "\n",
      "    accuracy                           0.86     20000\n",
      "   macro avg       0.79      0.79      0.79     20000\n",
      "weighted avg       0.87      0.86      0.87     20000\n",
      "\n"
     ]
    }
   ],
   "source": [
    "model3_2 = tree.DecisionTreeClassifier()\n",
    "model3_2 = model3_2.fit(X_train, y_train)\n",
    "predictions3_2 = model3_2.predict(X_test)\n",
    "\n",
    "print(accuracy_score(y_test, predictions3_2))\n",
    "print(confusion_matrix(y_test, predictions3_2))\n",
    "print(classification_report(y_test, predictions3_2))"
   ]
  },
  {
   "cell_type": "markdown",
   "metadata": {},
   "source": [
    "De la même manière on observe que la cross_validation est aussi très proche du score sur le test. on voit que les 3 premières classes sont beacoup mieux prédites que le modèle précédent avec un recall superieur à 0,70. "
   ]
  },
  {
   "cell_type": "markdown",
   "metadata": {},
   "source": [
    "# RandomForestClassifier"
   ]
  },
  {
   "cell_type": "code",
   "execution_count": 80,
   "metadata": {},
   "outputs": [],
   "source": [
    "from sklearn.ensemble import RandomForestClassifier\n",
    "from sklearn.datasets import make_classification"
   ]
  },
  {
   "cell_type": "code",
   "execution_count": 81,
   "metadata": {},
   "outputs": [
    {
     "data": {
      "text/plain": [
       "0.9026"
      ]
     },
     "execution_count": 81,
     "metadata": {},
     "output_type": "execute_result"
    }
   ],
   "source": [
    "model3_2 = RandomForestClassifier()\n",
    "model3_2.fit(X_train, y_train)\n",
    "model3_2.score(X_test, y_test)"
   ]
  },
  {
   "cell_type": "code",
   "execution_count": 82,
   "metadata": {},
   "outputs": [
    {
     "name": "stdout",
     "output_type": "stream",
     "text": [
      "accuracy : 0.8961625\n"
     ]
    }
   ],
   "source": [
    "kfold = StratifiedKFold(n_splits=20, random_state=1, shuffle=True)\n",
    "cv_results = cross_val_score(RandomForestClassifier(), X_train, y_train, cv=kfold, scoring='accuracy')\n",
    "print(\"accuracy :\",cv_results.mean())"
   ]
  },
  {
   "cell_type": "code",
   "execution_count": 83,
   "metadata": {},
   "outputs": [
    {
     "name": "stdout",
     "output_type": "stream",
     "text": [
      "0.902\n",
      "[[ 2637    13    54   730]\n",
      " [   34   671    25   217]\n",
      " [   88    36  1548   443]\n",
      " [  182    43    95 13184]]\n",
      "              precision    recall  f1-score   support\n",
      "\n",
      "           1       0.90      0.77      0.83      3434\n",
      "           2       0.88      0.71      0.78       947\n",
      "           3       0.90      0.73      0.81      2115\n",
      "           4       0.90      0.98      0.94     13504\n",
      "\n",
      "    accuracy                           0.90     20000\n",
      "   macro avg       0.89      0.80      0.84     20000\n",
      "weighted avg       0.90      0.90      0.90     20000\n",
      "\n"
     ]
    }
   ],
   "source": [
    "model3_2 = RandomForestClassifier()\n",
    "model3_2 = model3_2.fit(X_train, y_train)\n",
    "predictions3_2 = model3_2.predict(X_test)\n",
    "\n",
    "print(accuracy_score(y_test, predictions3_2))\n",
    "print(confusion_matrix(y_test, predictions3_2))\n",
    "print(classification_report(y_test, predictions3_2))"
   ]
  },
  {
   "cell_type": "markdown",
   "metadata": {},
   "source": [
    "On peut voir qu'avec ce modèle on obtient des scores plus élevé que le DecisionTreeClassifier pour la précision. Cependant les score pour le rappel restent à peu près les mêmes avec toujours un score plus élevé pour la dernière classe."
   ]
  },
  {
   "cell_type": "code",
   "execution_count": 85,
   "metadata": {},
   "outputs": [
    {
     "data": {
      "text/plain": [
       "GridSearchCV(cv=5, estimator=RandomForestClassifier(),\n",
       "             param_grid={'max_features': ['auto', 'sqrt', 'log2'],\n",
       "                         'n_estimators': [100, 500]})"
      ]
     },
     "execution_count": 85,
     "metadata": {},
     "output_type": "execute_result"
    }
   ],
   "source": [
    "param_grid = { \n",
    "    'n_estimators': [100, 500],\n",
    "    'max_features': ['auto', 'sqrt', 'log2']\n",
    "}\n",
    "\n",
    "grid = GridSearchCV(RandomForestClassifier(), param_grid, cv=5)\n",
    "grid.fit(X_train, y_train)"
   ]
  },
  {
   "cell_type": "code",
   "execution_count": 86,
   "metadata": {},
   "outputs": [
    {
     "data": {
      "text/plain": [
       "0.88025"
      ]
     },
     "execution_count": 86,
     "metadata": {},
     "output_type": "execute_result"
    }
   ],
   "source": [
    "grid.best_score_"
   ]
  },
  {
   "cell_type": "code",
   "execution_count": 87,
   "metadata": {},
   "outputs": [
    {
     "data": {
      "text/plain": [
       "RandomForestClassifier(n_estimators=500)"
      ]
     },
     "execution_count": 87,
     "metadata": {},
     "output_type": "execute_result"
    }
   ],
   "source": [
    "grid.best_estimator_"
   ]
  },
  {
   "cell_type": "code",
   "execution_count": 88,
   "metadata": {},
   "outputs": [
    {
     "data": {
      "text/plain": [
       "0.90225"
      ]
     },
     "execution_count": 88,
     "metadata": {},
     "output_type": "execute_result"
    }
   ],
   "source": [
    "model3_2 = grid.best_estimator_\n",
    "model3_2.score(X_test, y_test)"
   ]
  },
  {
   "cell_type": "code",
   "execution_count": 89,
   "metadata": {},
   "outputs": [
    {
     "data": {
      "text/plain": [
       "array([[ 2627,    11,    54,   742],\n",
       "       [   34,   668,    26,   219],\n",
       "       [   80,    34,  1554,   447],\n",
       "       [  191,    31,    86, 13196]])"
      ]
     },
     "execution_count": 89,
     "metadata": {},
     "output_type": "execute_result"
    }
   ],
   "source": [
    "confusion_matrix(y_test, model3_2.predict(X_test))"
   ]
  },
  {
   "cell_type": "code",
   "execution_count": 90,
   "metadata": {},
   "outputs": [
    {
     "name": "stdout",
     "output_type": "stream",
     "text": [
      "              precision    recall  f1-score   support\n",
      "\n",
      "           1       0.90      0.76      0.83      3434\n",
      "           2       0.90      0.71      0.79       947\n",
      "           3       0.90      0.73      0.81      2115\n",
      "           4       0.90      0.98      0.94     13504\n",
      "\n",
      "    accuracy                           0.90     20000\n",
      "   macro avg       0.90      0.80      0.84     20000\n",
      "weighted avg       0.90      0.90      0.90     20000\n",
      "\n"
     ]
    }
   ],
   "source": [
    "print(classification_report(y_test, model3_2.predict(X_test)))"
   ]
  },
  {
   "cell_type": "code",
   "execution_count": null,
   "metadata": {},
   "outputs": [],
   "source": []
  }
 ],
 "metadata": {
  "kernelspec": {
   "display_name": "Python 3",
   "language": "python",
   "name": "python3"
  },
  "language_info": {
   "codemirror_mode": {
    "name": "ipython",
    "version": 3
   },
   "file_extension": ".py",
   "mimetype": "text/x-python",
   "name": "python",
   "nbconvert_exporter": "python",
   "pygments_lexer": "ipython3",
   "version": "3.8.3"
  }
 },
 "nbformat": 4,
 "nbformat_minor": 4
}
