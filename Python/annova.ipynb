{
 "cells": [
  {
   "cell_type": "code",
   "execution_count": 1,
   "metadata": {},
   "outputs": [
    {
     "output_type": "execute_result",
     "data": {
      "text/plain": [
       "                             sum_sq       df            F         PR(>F)\n",
       "C(Moment)              3.424964e+05      3.0   257.806216  1.110443e-166\n",
       "C(Meetings)            4.596127e+05      1.0  1037.888413  1.523049e-226\n",
       "C(Moment):C(Meetings)  2.391672e+04      3.0    18.002755   1.125396e-11\n",
       "Residual               4.427990e+07  99992.0          NaN            NaN"
      ],
      "text/html": "<div>\n<style scoped>\n    .dataframe tbody tr th:only-of-type {\n        vertical-align: middle;\n    }\n\n    .dataframe tbody tr th {\n        vertical-align: top;\n    }\n\n    .dataframe thead th {\n        text-align: right;\n    }\n</style>\n<table border=\"1\" class=\"dataframe\">\n  <thead>\n    <tr style=\"text-align: right;\">\n      <th></th>\n      <th>sum_sq</th>\n      <th>df</th>\n      <th>F</th>\n      <th>PR(&gt;F)</th>\n    </tr>\n  </thead>\n  <tbody>\n    <tr>\n      <th>C(Moment)</th>\n      <td>3.424964e+05</td>\n      <td>3.0</td>\n      <td>257.806216</td>\n      <td>1.110443e-166</td>\n    </tr>\n    <tr>\n      <th>C(Meetings)</th>\n      <td>4.596127e+05</td>\n      <td>1.0</td>\n      <td>1037.888413</td>\n      <td>1.523049e-226</td>\n    </tr>\n    <tr>\n      <th>C(Moment):C(Meetings)</th>\n      <td>2.391672e+04</td>\n      <td>3.0</td>\n      <td>18.002755</td>\n      <td>1.125396e-11</td>\n    </tr>\n    <tr>\n      <th>Residual</th>\n      <td>4.427990e+07</td>\n      <td>99992.0</td>\n      <td>NaN</td>\n      <td>NaN</td>\n    </tr>\n  </tbody>\n</table>\n</div>"
     },
     "metadata": {},
     "execution_count": 1
    }
   ],
   "source": [
    "import pandas as pd\n",
    "import numpy as np\n",
    "import statsmodels.api as sm\n",
    "from statsmodels.formula.api import ols\n",
    "dataset = pd.read_csv(r'C:\\Users\\imadl\\Desktop\\IG4\\ProjetDataScience\\dataset.csv',dtype={\"content\": str},low_memory=False)\n",
    "\n",
    "dataset = pd.read_csv(r'C:\\Users\\imadl\\Desktop\\IG4\\ProjetDataScience\\dataset.csv',dtype={\"content\": str},low_memory=False)\n",
    "df = dataset[['Moment',\"Meetings\",'subject_size']]\n",
    "model = ols('subject_size ~ C(Moment) + C(Meetings) + C(Moment):C(Meetings)', data=df).fit()\n",
    "sm.stats.anova_lm(model, typ=2)\n"
   ]
  },
  {
   "cell_type": "code",
   "execution_count": 1,
   "metadata": {},
   "outputs": [],
   "source": [
    "\n"
   ]
  },
  {
   "cell_type": "code",
   "execution_count": null,
   "metadata": {},
   "outputs": [],
   "source": []
  },
  {
   "cell_type": "code",
   "execution_count": null,
   "metadata": {},
   "outputs": [],
   "source": []
  },
  {
   "cell_type": "code",
   "execution_count": null,
   "metadata": {},
   "outputs": [],
   "source": []
  }
 ],
 "metadata": {
  "kernelspec": {
   "display_name": "Python 3",
   "language": "python",
   "name": "python3"
  },
  "language_info": {
   "codemirror_mode": {
    "name": "ipython",
    "version": 3
   },
   "file_extension": ".py",
   "mimetype": "text/x-python",
   "name": "python",
   "nbconvert_exporter": "python",
   "pygments_lexer": "ipython3",
   "version": "3.8.3-final"
  }
 },
 "nbformat": 4,
 "nbformat_minor": 4
}